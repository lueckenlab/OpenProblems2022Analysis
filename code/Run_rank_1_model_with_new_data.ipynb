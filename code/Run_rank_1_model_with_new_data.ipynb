{
 "cells": [
  {
   "cell_type": "markdown",
   "metadata": {},
   "source": [
    "# Running Rank 1 models\n",
    "\n",
    "In this notebook, we will run rank 1 model with another dataset. At 2022 competition, rank 1 model excelled in Multiome prediction task, so we'll focus on it. CITE-seq model leverages a lot of the same code and has a very similar architecture, so it should be possible to run it as well, just put CITE-seq data instead of Multiome in this tutorial and change task_type to \"cite\" in the scripts."
   ]
  },
  {
   "cell_type": "code",
   "execution_count": 1,
   "metadata": {},
   "outputs": [
    {
     "name": "stderr",
     "output_type": "stream",
     "text": [
      "/Users/vladimir.shitov/miniconda3/envs/2022_12_kaggle_ablation_study/lib/python3.8/site-packages/tqdm/auto.py:21: TqdmWarning: IProgress not found. Please update jupyter and ipywidgets. See https://ipywidgets.readthedocs.io/en/stable/user_install.html\n",
      "  from .autonotebook import tqdm as notebook_tqdm\n"
     ]
    }
   ],
   "source": [
    "import pandas as pd\n",
    "import numpy as np\n",
    "import scanpy as sc\n",
    "from scanpy.preprocessing._utils import _get_mean_var\n",
    "import muon"
   ]
  },
  {
   "cell_type": "markdown",
   "metadata": {},
   "source": [
    "Download 2021 competition data from https://www.ncbi.nlm.nih.gov/geo/query/acc.cgi?acc=GSE194122"
   ]
  },
  {
   "cell_type": "code",
   "execution_count": 2,
   "metadata": {},
   "outputs": [],
   "source": [
    "adata = sc.read_h5ad(\"../data/GSE194122_openproblems_neurips2021_multiome_BMMC_processed.h5ad\")"
   ]
  },
  {
   "cell_type": "markdown",
   "metadata": {},
   "source": [
    "The dataset has both modalities, ATAC-seq and RNA in one AnnData object. Let's split modalities"
   ]
  },
  {
   "cell_type": "code",
   "execution_count": 3,
   "metadata": {},
   "outputs": [
    {
     "data": {
      "text/plain": [
       "AnnData object with n_obs × n_vars = 69249 × 129921\n",
       "    obs: 'GEX_pct_counts_mt', 'GEX_n_counts', 'GEX_n_genes', 'GEX_size_factors', 'GEX_phase', 'ATAC_nCount_peaks', 'ATAC_atac_fragments', 'ATAC_reads_in_peaks_frac', 'ATAC_blacklist_fraction', 'ATAC_nucleosome_signal', 'cell_type', 'batch', 'ATAC_pseudotime_order', 'GEX_pseudotime_order', 'Samplename', 'Site', 'DonorNumber', 'Modality', 'VendorLot', 'DonorID', 'DonorAge', 'DonorBMI', 'DonorBloodType', 'DonorRace', 'Ethnicity', 'DonorGender', 'QCMeds', 'DonorSmoker'\n",
       "    var: 'feature_types', 'gene_id'\n",
       "    uns: 'ATAC_gene_activity_var_names', 'dataset_id', 'genome', 'organism'\n",
       "    obsm: 'ATAC_gene_activity', 'ATAC_lsi_full', 'ATAC_lsi_red', 'ATAC_umap', 'GEX_X_pca', 'GEX_X_umap'\n",
       "    layers: 'counts'"
      ]
     },
     "execution_count": 3,
     "metadata": {},
     "output_type": "execute_result"
    }
   ],
   "source": [
    "adata"
   ]
  },
  {
   "cell_type": "code",
   "execution_count": 4,
   "metadata": {},
   "outputs": [
    {
     "data": {
      "text/plain": [
       "feature_types\n",
       "ATAC    116490\n",
       "GEX      13431\n",
       "Name: count, dtype: int64"
      ]
     },
     "execution_count": 4,
     "metadata": {},
     "output_type": "execute_result"
    }
   ],
   "source": [
    "adata.var[\"feature_types\"].value_counts()"
   ]
  },
  {
   "cell_type": "markdown",
   "metadata": {},
   "source": [
    "In this example notebook, we'll subset data to a small number of cells for faster testing"
   ]
  },
  {
   "cell_type": "code",
   "execution_count": 5,
   "metadata": {},
   "outputs": [],
   "source": [
    "random_cells = np.random.choice(adata.n_obs, size=500, replace=False)"
   ]
  },
  {
   "cell_type": "code",
   "execution_count": 6,
   "metadata": {},
   "outputs": [],
   "source": [
    "adata = adata[random_cells, :].copy()"
   ]
  },
  {
   "cell_type": "code",
   "execution_count": 7,
   "metadata": {},
   "outputs": [
    {
     "data": {
      "text/plain": [
       "View of AnnData object with n_obs × n_vars = 500 × 13431\n",
       "    obs: 'GEX_pct_counts_mt', 'GEX_n_counts', 'GEX_n_genes', 'GEX_size_factors', 'GEX_phase', 'ATAC_nCount_peaks', 'ATAC_atac_fragments', 'ATAC_reads_in_peaks_frac', 'ATAC_blacklist_fraction', 'ATAC_nucleosome_signal', 'cell_type', 'batch', 'ATAC_pseudotime_order', 'GEX_pseudotime_order', 'Samplename', 'Site', 'DonorNumber', 'Modality', 'VendorLot', 'DonorID', 'DonorAge', 'DonorBMI', 'DonorBloodType', 'DonorRace', 'Ethnicity', 'DonorGender', 'QCMeds', 'DonorSmoker'\n",
       "    var: 'feature_types', 'gene_id'\n",
       "    uns: 'ATAC_gene_activity_var_names', 'dataset_id', 'genome', 'organism'\n",
       "    obsm: 'ATAC_gene_activity', 'ATAC_lsi_full', 'ATAC_lsi_red', 'ATAC_umap', 'GEX_X_pca', 'GEX_X_umap'\n",
       "    layers: 'counts'"
      ]
     },
     "execution_count": 7,
     "metadata": {},
     "output_type": "execute_result"
    }
   ],
   "source": [
    "adata_rna = adata[:, adata.var[\"feature_types\"] == \"GEX\"]\n",
    "adata_rna"
   ]
  },
  {
   "cell_type": "code",
   "execution_count": 8,
   "metadata": {},
   "outputs": [
    {
     "data": {
      "text/plain": [
       "View of AnnData object with n_obs × n_vars = 500 × 116490\n",
       "    obs: 'GEX_pct_counts_mt', 'GEX_n_counts', 'GEX_n_genes', 'GEX_size_factors', 'GEX_phase', 'ATAC_nCount_peaks', 'ATAC_atac_fragments', 'ATAC_reads_in_peaks_frac', 'ATAC_blacklist_fraction', 'ATAC_nucleosome_signal', 'cell_type', 'batch', 'ATAC_pseudotime_order', 'GEX_pseudotime_order', 'Samplename', 'Site', 'DonorNumber', 'Modality', 'VendorLot', 'DonorID', 'DonorAge', 'DonorBMI', 'DonorBloodType', 'DonorRace', 'Ethnicity', 'DonorGender', 'QCMeds', 'DonorSmoker'\n",
       "    var: 'feature_types', 'gene_id'\n",
       "    uns: 'ATAC_gene_activity_var_names', 'dataset_id', 'genome', 'organism'\n",
       "    obsm: 'ATAC_gene_activity', 'ATAC_lsi_full', 'ATAC_lsi_red', 'ATAC_umap', 'GEX_X_pca', 'GEX_X_umap'\n",
       "    layers: 'counts'"
      ]
     },
     "execution_count": 8,
     "metadata": {},
     "output_type": "execute_result"
    }
   ],
   "source": [
    "adata_atac = adata[:, adata.var[\"feature_types\"] == \"ATAC\"]\n",
    "adata_atac"
   ]
  },
  {
   "cell_type": "markdown",
   "metadata": {},
   "source": [
    "Let's further reduce the number of features to 500 for RNA and 1000 for ATAC for faster testing."
   ]
  },
  {
   "cell_type": "code",
   "execution_count": 9,
   "metadata": {},
   "outputs": [
    {
     "data": {
      "text/plain": [
       "View of AnnData object with n_obs × n_vars = 500 × 500\n",
       "    obs: 'GEX_pct_counts_mt', 'GEX_n_counts', 'GEX_n_genes', 'GEX_size_factors', 'GEX_phase', 'ATAC_nCount_peaks', 'ATAC_atac_fragments', 'ATAC_reads_in_peaks_frac', 'ATAC_blacklist_fraction', 'ATAC_nucleosome_signal', 'cell_type', 'batch', 'ATAC_pseudotime_order', 'GEX_pseudotime_order', 'Samplename', 'Site', 'DonorNumber', 'Modality', 'VendorLot', 'DonorID', 'DonorAge', 'DonorBMI', 'DonorBloodType', 'DonorRace', 'Ethnicity', 'DonorGender', 'QCMeds', 'DonorSmoker'\n",
       "    var: 'feature_types', 'gene_id'\n",
       "    uns: 'ATAC_gene_activity_var_names', 'dataset_id', 'genome', 'organism'\n",
       "    obsm: 'ATAC_gene_activity', 'ATAC_lsi_full', 'ATAC_lsi_red', 'ATAC_umap', 'GEX_X_pca', 'GEX_X_umap'\n",
       "    layers: 'counts'"
      ]
     },
     "execution_count": 9,
     "metadata": {},
     "output_type": "execute_result"
    }
   ],
   "source": [
    "adata_rna = adata_rna[:, np.random.choice(adata_rna.var_names, size=500, replace=False)]\n",
    "adata_rna"
   ]
  },
  {
   "cell_type": "code",
   "execution_count": 10,
   "metadata": {},
   "outputs": [
    {
     "data": {
      "text/plain": [
       "View of AnnData object with n_obs × n_vars = 500 × 1000\n",
       "    obs: 'GEX_pct_counts_mt', 'GEX_n_counts', 'GEX_n_genes', 'GEX_size_factors', 'GEX_phase', 'ATAC_nCount_peaks', 'ATAC_atac_fragments', 'ATAC_reads_in_peaks_frac', 'ATAC_blacklist_fraction', 'ATAC_nucleosome_signal', 'cell_type', 'batch', 'ATAC_pseudotime_order', 'GEX_pseudotime_order', 'Samplename', 'Site', 'DonorNumber', 'Modality', 'VendorLot', 'DonorID', 'DonorAge', 'DonorBMI', 'DonorBloodType', 'DonorRace', 'Ethnicity', 'DonorGender', 'QCMeds', 'DonorSmoker'\n",
       "    var: 'feature_types', 'gene_id'\n",
       "    uns: 'ATAC_gene_activity_var_names', 'dataset_id', 'genome', 'organism'\n",
       "    obsm: 'ATAC_gene_activity', 'ATAC_lsi_full', 'ATAC_lsi_red', 'ATAC_umap', 'GEX_X_pca', 'GEX_X_umap'\n",
       "    layers: 'counts'"
      ]
     },
     "execution_count": 10,
     "metadata": {},
     "output_type": "execute_result"
    }
   ],
   "source": [
    "adata_atac = adata_atac[:, np.random.choice(adata_atac.var_names, size=1000, replace=False)]\n",
    "adata_atac"
   ]
  },
  {
   "cell_type": "markdown",
   "metadata": {},
   "source": [
    "Before modality prediction, apply QC to your dataset, otherwise the code will likely fail. Here, we'll simply remove cells with 0 RNA counts or open chromatin regions, and filter out constant features."
   ]
  },
  {
   "cell_type": "code",
   "execution_count": 11,
   "metadata": {},
   "outputs": [],
   "source": [
    "non_empty_cells = (adata_rna.X.sum(axis=1) != 0) & (adata_atac.X.sum(axis=1) != 0)"
   ]
  },
  {
   "cell_type": "code",
   "execution_count": 12,
   "metadata": {},
   "outputs": [],
   "source": [
    "adata_rna = adata_rna[non_empty_cells, :]\n",
    "adata_atac = adata_atac[non_empty_cells, :]"
   ]
  },
  {
   "cell_type": "code",
   "execution_count": 13,
   "metadata": {},
   "outputs": [
    {
     "data": {
      "text/plain": [
       "(500, 497)"
      ]
     },
     "execution_count": 13,
     "metadata": {},
     "output_type": "execute_result"
    }
   ],
   "source": [
    "rna_means, rna_vars = _get_mean_var(adata_rna.X)\n",
    "adata_rna = adata_rna[:, rna_vars != 0]\n",
    "adata_rna.shape"
   ]
  },
  {
   "cell_type": "code",
   "execution_count": 14,
   "metadata": {},
   "outputs": [
    {
     "data": {
      "text/plain": [
       "(500, 969)"
      ]
     },
     "execution_count": 14,
     "metadata": {},
     "output_type": "execute_result"
    }
   ],
   "source": [
    "atac_means, atac_vars = _get_mean_var(adata_atac.X)\n",
    "adata_atac = adata_atac[:, atac_vars != 0]\n",
    "adata_atac.shape"
   ]
  },
  {
   "cell_type": "markdown",
   "metadata": {},
   "source": [
    "Normalize ATAC data with TF-IDF. Note that RNA data must be library-size and log1p normalized as well."
   ]
  },
  {
   "cell_type": "code",
   "execution_count": 15,
   "metadata": {},
   "outputs": [
    {
     "name": "stderr",
     "output_type": "stream",
     "text": [
      "/Users/vladimir.shitov/miniconda3/envs/2022_12_kaggle_ablation_study/lib/python3.8/site-packages/muon/_atac/preproc.py:84: UserWarning: Received a view of an AnnData. Making a copy.\n",
      "  view_to_actual(adata)\n"
     ]
    },
    {
     "data": {
      "text/plain": [
       "array([[ 0.       ,  0.       ,  0.       ,  0.       ,  0.       ,\n",
       "         0.       ,  0.       ,  0.       ,  0.       ,  0.       ],\n",
       "       [ 0.       , 10.769051 ,  0.       ,  0.       ,  0.       ,\n",
       "         0.       ,  0.       ,  0.       ,  0.       ,  7.7392497],\n",
       "       [ 0.       ,  0.       ,  0.       ,  0.       ,  0.       ,\n",
       "         0.       ,  0.       ,  0.       ,  0.       ,  0.       ],\n",
       "       [ 0.       ,  0.       ,  0.       ,  0.       ,  0.       ,\n",
       "         0.       ,  0.       ,  0.       ,  0.       ,  0.       ],\n",
       "       [ 0.       ,  0.       ,  0.       ,  0.       ,  0.       ,\n",
       "         0.       ,  0.       ,  0.       ,  0.       ,  0.       ],\n",
       "       [ 0.       ,  0.       ,  0.       ,  0.       ,  0.       ,\n",
       "         0.       ,  0.       ,  0.       ,  0.       ,  0.       ],\n",
       "       [ 0.       ,  0.       ,  0.       ,  0.       ,  0.       ,\n",
       "         0.       ,  0.       ,  0.       ,  0.       ,  8.866014 ],\n",
       "       [ 0.       ,  0.       ,  0.       , 24.85837  ,  0.       ,\n",
       "         0.       ,  0.       ,  0.       ,  0.       ,  0.       ],\n",
       "       [ 0.       ,  0.       ,  0.       ,  0.       ,  0.       ,\n",
       "         0.       ,  0.       ,  0.       ,  0.       ,  0.       ],\n",
       "       [ 0.       ,  0.       ,  0.       ,  0.       ,  0.       ,\n",
       "         0.       ,  0.       ,  0.       ,  0.       ,  8.216409 ]],\n",
       "      dtype=float32)"
      ]
     },
     "execution_count": 15,
     "metadata": {},
     "output_type": "execute_result"
    }
   ],
   "source": [
    "muon.atac.pp.tfidf(adata_atac)\n",
    "adata_atac.X[:10, :10].toarray()"
   ]
  },
  {
   "cell_type": "code",
   "execution_count": 16,
   "metadata": {},
   "outputs": [],
   "source": [
    "adata_rna.write_h5ad(\"../data/adata_rna_subset.h5ad\")\n",
    "adata_atac.write_h5ad(\"../data/adata_atac_subset.h5ad\")"
   ]
  },
  {
   "cell_type": "markdown",
   "metadata": {},
   "source": [
    "# Format the data correctly"
   ]
  },
  {
   "cell_type": "markdown",
   "metadata": {},
   "source": [
    "To run the model, we need to save our data to the following files:\n",
    "- test_multi_inputs.h5\n",
    "- train_multi_inputs.h5\n",
    "- train_multi_targets.h5\n",
    "\n",
    "If you want to use CITE-seq model too, the you'll additionally need:\n",
    "- test_cite_inputs\n",
    "- train_cite_inputs\n",
    "- train_cite_targets\n",
    "\n",
    "Additionally, we must save test set labels to the \"evaluation_ids.csv\" file with \"cell_id\" column"
   ]
  },
  {
   "cell_type": "code",
   "execution_count": 17,
   "metadata": {},
   "outputs": [
    {
     "data": {
      "text/plain": [
       "DonorID\n",
       "15078    126\n",
       "19593     85\n",
       "18303     61\n",
       "28483     52\n",
       "12710     42\n",
       "10886     40\n",
       "16710     39\n",
       "13272     27\n",
       "28045     18\n",
       "11466     10\n",
       "Name: count, dtype: int64"
      ]
     },
     "execution_count": 17,
     "metadata": {},
     "output_type": "execute_result"
    }
   ],
   "source": [
    "adata_rna.obs[\"DonorID\"].value_counts()"
   ]
  },
  {
   "cell_type": "markdown",
   "metadata": {},
   "source": [
    "Let's use donor 15078 as a test"
   ]
  },
  {
   "cell_type": "code",
   "execution_count": 18,
   "metadata": {},
   "outputs": [
    {
     "name": "stderr",
     "output_type": "stream",
     "text": [
      "/var/folders/p9/74j47tdn36n6s2vcv_5079q0s4wk4h/T/ipykernel_38261/2536117573.py:1: ImplicitModificationWarning: Trying to modify attribute `.obs` of view, initializing view as actual.\n",
      "  adata_rna.obs[\"split\"] = \"train\"\n"
     ]
    }
   ],
   "source": [
    "adata_rna.obs[\"split\"] = \"train\"\n",
    "adata_rna.obs.loc[adata_rna.obs[\"DonorID\"] == 15078, \"split\"] = \"test\"\n",
    "adata_atac.obs[\"split\"] = adata_rna.obs[\"split\"]"
   ]
  },
  {
   "cell_type": "code",
   "execution_count": 19,
   "metadata": {},
   "outputs": [
    {
     "name": "stderr",
     "output_type": "stream",
     "text": [
      "/Users/vladimir.shitov/miniconda3/envs/2022_12_kaggle_ablation_study/lib/python3.8/site-packages/anndata/_core/anndata.py:1230: ImplicitModificationWarning: Trying to modify attribute `.obs` of view, initializing view as actual.\n",
      "  df[key] = c\n",
      "/Users/vladimir.shitov/miniconda3/envs/2022_12_kaggle_ablation_study/lib/python3.8/site-packages/anndata/_core/anndata.py:1230: ImplicitModificationWarning: Trying to modify attribute `.obs` of view, initializing view as actual.\n",
      "  df[key] = c\n",
      "/Users/vladimir.shitov/miniconda3/envs/2022_12_kaggle_ablation_study/lib/python3.8/site-packages/anndata/_core/anndata.py:1230: ImplicitModificationWarning: Trying to modify attribute `.obs` of view, initializing view as actual.\n",
      "  df[key] = c\n"
     ]
    }
   ],
   "source": [
    "adata_rna[adata_rna.obs[\"split\"] == \"train\"].write_h5ad(\"../data/train_multi_targets.h5\")\n",
    "adata_atac[adata_atac.obs[\"split\"] == \"train\"].write_h5ad(\"../data/train_multi_inputs.h5\")\n",
    "adata_atac[adata_atac.obs[\"split\"] == \"test\"].write_h5ad(\"../data/test_multi_inputs.h5\")"
   ]
  },
  {
   "cell_type": "markdown",
   "metadata": {},
   "source": [
    "We also need to save metadata to a file. Note that in the current implementation, the metadata column **must** be named \"day\", \"donor\", \"technology\", \"cell_type\", and \"cell_id\". Day must be a number"
   ]
  },
  {
   "cell_type": "code",
   "execution_count": 20,
   "metadata": {},
   "outputs": [
    {
     "data": {
      "text/plain": [
       "Index(['GEX_pct_counts_mt', 'GEX_n_counts', 'GEX_n_genes', 'GEX_size_factors',\n",
       "       'GEX_phase', 'ATAC_nCount_peaks', 'ATAC_atac_fragments',\n",
       "       'ATAC_reads_in_peaks_frac', 'ATAC_blacklist_fraction',\n",
       "       'ATAC_nucleosome_signal', 'cell_type', 'batch', 'ATAC_pseudotime_order',\n",
       "       'GEX_pseudotime_order', 'Samplename', 'Site', 'DonorNumber', 'Modality',\n",
       "       'VendorLot', 'DonorID', 'DonorAge', 'DonorBMI', 'DonorBloodType',\n",
       "       'DonorRace', 'Ethnicity', 'DonorGender', 'QCMeds', 'DonorSmoker',\n",
       "       'split'],\n",
       "      dtype='object')"
      ]
     },
     "execution_count": 20,
     "metadata": {},
     "output_type": "execute_result"
    }
   ],
   "source": [
    "adata_rna.obs.columns"
   ]
  },
  {
   "cell_type": "code",
   "execution_count": 21,
   "metadata": {},
   "outputs": [],
   "source": [
    "adata_rna.obs[\"day\"] = adata_rna.obs[\"batch\"].str[3:]\n",
    "adata_rna.obs[\"donor\"] = adata_rna.obs[\"DonorID\"]\n",
    "adata_rna.obs[\"technology\"] = adata_rna.obs[\"Modality\"]\n",
    "adata.obs.index.name = \"cell_id\""
   ]
  },
  {
   "cell_type": "code",
   "execution_count": 22,
   "metadata": {},
   "outputs": [],
   "source": [
    "adata_rna.obs[[\"day\", \"donor\", \"technology\", \"cell_type\"]].reset_index(names=\"cell_id\").to_csv(\"../data/metadata.csv\")"
   ]
  },
  {
   "cell_type": "markdown",
   "metadata": {},
   "source": [
    "Small function to save the data in the appropriate format:"
   ]
  },
  {
   "cell_type": "code",
   "execution_count": 23,
   "metadata": {},
   "outputs": [
    {
     "name": "stderr",
     "output_type": "stream",
     "text": [
      "/Users/vladimir.shitov/miniconda3/envs/2022_12_kaggle_ablation_study/lib/python3.8/site-packages/tables/path.py:137: NaturalNameWarning: object name is not a valid Python identifier: 'train_multi_targets.h5'; it does not match the pattern ``^[a-zA-Z_][a-zA-Z0-9_]*$``; you will not be able to use natural naming to access this object; using ``getattr()`` will still work, though\n",
      "  check_attribute_name(name)\n",
      "/Users/vladimir.shitov/miniconda3/envs/2022_12_kaggle_ablation_study/lib/python3.8/site-packages/tables/path.py:137: NaturalNameWarning: object name is not a valid Python identifier: 'train_multi_inputs.h5'; it does not match the pattern ``^[a-zA-Z_][a-zA-Z0-9_]*$``; you will not be able to use natural naming to access this object; using ``getattr()`` will still work, though\n",
      "  check_attribute_name(name)\n",
      "/Users/vladimir.shitov/miniconda3/envs/2022_12_kaggle_ablation_study/lib/python3.8/site-packages/tables/path.py:137: NaturalNameWarning: object name is not a valid Python identifier: 'test_multi_inputs.h5'; it does not match the pattern ``^[a-zA-Z_][a-zA-Z0-9_]*$``; you will not be able to use natural naming to access this object; using ``getattr()`` will still work, though\n",
      "  check_attribute_name(name)\n"
     ]
    }
   ],
   "source": [
    "def save_X_to_h5(adata, path):\n",
    "    from pathlib import Path\n",
    "    path = Path(path)\n",
    "    X = adata.X.A if hasattr(adata.X, \"A\") else adata.X  # make dense if sparse\n",
    "    df = pd.DataFrame(X, index=adata.obs_names, columns=adata.var_names)\n",
    "    df.to_hdf(\n",
    "        path,\n",
    "        key=path.name,  # e.g. \"train_multi_targets\"\n",
    "        mode=\"w\",\n",
    "        format=\"fixed\",\n",
    "    )\n",
    "\n",
    "save_X_to_h5(adata_rna[adata_rna.obs[\"split\"] == \"train\"], \"../data/train_multi_targets.h5\")\n",
    "save_X_to_h5(adata_atac[adata_atac.obs[\"split\"] == \"train\"], \"../data/train_multi_inputs.h5\")\n",
    "save_X_to_h5(adata_atac[adata_atac.obs[\"split\"] == \"test\"], \"../data/test_multi_inputs.h5\")"
   ]
  },
  {
   "cell_type": "markdown",
   "metadata": {},
   "source": [
    "Run scripts as recommended by competitor. For the given subset of data, it takes ~30 minutes on Macbook (cpu mode). If you wish to use CITE-seq model, change `task_type` to `cite` in the last script. You might also want to download additional files with biological priors for CITE-seq prediction. See [readme](https://github.com/lueckenlab/OpenProblems2022Analysis/tree/main/code/rank1/open-problems-multimodal) of the original repository for details"
   ]
  },
  {
   "cell_type": "code",
   "execution_count": 24,
   "metadata": {},
   "outputs": [
    {
     "name": "stdout",
     "output_type": "stream",
     "text": [
      "File /Users/vladimir.shitov/Documents/programming/OpenProblems2022Analysis/data/evaluation_ids.csv does not exist\n",
      "File /Users/vladimir.shitov/Documents/programming/OpenProblems2022Analysis/data/sample_submission.csv does not exist\n",
      "126\n",
      "374\n",
      "374\n",
      "File /Users/vladimir.shitov/Documents/programming/OpenProblems2022Analysis/data/test_cite_inputs.h5 does not exist\n",
      "File /Users/vladimir.shitov/Documents/programming/OpenProblems2022Analysis/data/train_cite_inputs.h5 does not exist\n",
      "File /Users/vladimir.shitov/Documents/programming/OpenProblems2022Analysis/data/train_cite_targets.h5 does not exist\n",
      "Some citeseq files don't exist, not making citeseq cell statistics\n",
      "File /Users/vladimir.shitov/Documents/programming/OpenProblems2022Analysis/data/evaluation_ids.csv does not exist\n",
      "File /Users/vladimir.shitov/Documents/programming/OpenProblems2022Analysis/data/sample_submission.csv does not exist\n",
      "126\n",
      "374\n",
      "374\n",
      "File /Users/vladimir.shitov/Documents/programming/OpenProblems2022Analysis/data/test_cite_inputs.h5 does not exist\n",
      "File /Users/vladimir.shitov/Documents/programming/OpenProblems2022Analysis/data/train_cite_inputs.h5 does not exist\n",
      "File /Users/vladimir.shitov/Documents/programming/OpenProblems2022Analysis/data/train_cite_targets.h5 does not exist\n",
      "git_hexsha 95b6dccf3c7288c68e4b3daba7691d613fc07cf6\n",
      "load input values\n",
      "completed loading input values. elapsed time: 0.0\n",
      "load targets values\n",
      "completed loading targets values. elapsed time: 0.0\n",
      "load input values\n",
      "completed loading input values. elapsed time: 0.0\n",
      "use test_inputs_values. total size: 500\n",
      "Changing upper quantile to 0.999\n",
      "train sample size: 374\n",
      "dump params\n",
      "use batch group. # groups is 9\n",
      "kfold type <class 'sklearn.model_selection._split.GroupKFold'> group [6 6 6 6 6 6 6 6 6 6 6 6 6 6 6 6 6 6 6 6 6 6 6 6 6 6 6 0 0 0 0 0 0 0 0 0 0\n",
      " 0 0 0 0 0 0 0 0 0 0 0 0 0 0 0 0 0 0 0 0 0 0 0 0 0 0 0 0 0 0 0 0 0 0 0 0 0\n",
      " 0 0 0 0 0 0 0 0 0 0 0 0 0 0 0 0 0 0 0 0 0 0 0 0 0 0 0 0 0 0 0 0 0 0 0 0 0\n",
      " 0 1 1 1 1 1 1 1 1 1 1 1 1 1 1 1 1 1 1 1 1 1 1 1 1 1 1 1 1 1 1 1 1 1 1 1 1\n",
      " 1 1 1 1 1 1 1 1 1 1 1 1 1 1 1 1 1 1 1 1 1 1 1 1 1 5 5 5 5 5 5 5 5 5 5 5 5\n",
      " 5 5 5 5 5 5 5 5 5 5 5 5 5 5 5 5 5 5 5 5 5 5 5 5 5 5 5 3 3 3 3 3 3 3 3 3 3\n",
      " 3 3 3 3 3 3 3 3 3 3 3 3 3 3 3 3 3 3 3 3 3 3 3 3 3 3 3 3 3 3 3 3 7 7 7 7 7\n",
      " 7 7 7 7 7 7 7 7 7 7 7 7 7 4 4 4 4 4 4 4 4 4 4 4 4 4 4 4 4 4 4 4 4 4 4 4 4\n",
      " 4 4 4 4 4 4 4 4 4 4 4 4 4 4 4 4 2 2 2 2 2 2 2 2 2 2 2 2 2 2 2 2 2 2 2 2 2\n",
      " 2 2 2 2 2 2 2 2 2 2 2 2 2 2 2 2 2 2 2 2 2 2 2 2 2 2 2 2 2 2 2 8 8 8 8 8 8\n",
      " 8 8 8 8]\n",
      "train group: [1 2 3 4 6 7 8]\n",
      "val group: [0 5]\n",
      "skip pre_post_process fit\n",
      "Changing upper quantile to 0.999\n",
      "model input shape X:(250, 256) Y:(250, 128)\n",
      "dataset size 250\n",
      "start to train\n",
      "epoch: 0 total time: 9.3, epoch time: 9.3, loss: 4.380 loss_corr:-0.335 loss_mse: 3.566 loss_res_mse: 1.464 loss_total_corr:-0.315 \n",
      "epoch: 1 total time: 17.7, epoch time: 8.2, loss: 4.405 loss_corr:-0.332 loss_mse: 3.593 loss_res_mse: 1.459 loss_total_corr:-0.314 \n",
      "epoch: 2 total time: 28.5, epoch time: 10.6, loss: 4.252 loss_corr:-0.352 loss_mse: 3.515 loss_res_mse: 1.420 loss_total_corr:-0.331 \n",
      "epoch: 3 total time: 36.6, epoch time: 8.1, loss: 4.157 loss_corr:-0.363 loss_mse: 3.471 loss_res_mse: 1.391 loss_total_corr:-0.341 \n",
      "epoch: 4 total time: 45.8, epoch time: 9.1, loss: 4.220 loss_corr:-0.356 loss_mse: 3.511 loss_res_mse: 1.397 loss_total_corr:-0.332 \n",
      "epoch: 5 total time: 53.7, epoch time: 7.8, loss: 4.077 loss_corr:-0.371 loss_mse: 3.440 loss_res_mse: 1.354 loss_total_corr:-0.346 \n",
      "epoch: 6 total time: 61.7, epoch time: 8.0, loss: 4.290 loss_corr:-0.340 loss_mse: 3.556 loss_res_mse: 1.389 loss_total_corr:-0.315 \n",
      "epoch: 7 total time: 70.4, epoch time: 8.6, loss: 3.866 loss_corr:-0.385 loss_mse: 3.327 loss_res_mse: 1.277 loss_total_corr:-0.353 \n",
      "epoch: 8 total time: 78.6, epoch time: 8.1, loss: 3.918 loss_corr:-0.377 loss_mse: 3.386 loss_res_mse: 1.254 loss_total_corr:-0.345 \n",
      "epoch: 9 total time: 86.8, epoch time: 8.1, loss: 3.702 loss_corr:-0.399 loss_mse: 3.275 loss_res_mse: 1.186 loss_total_corr:-0.359 \n",
      "epoch: 10 total time: 95.2, epoch time: 8.3, loss: 3.666 loss_corr:-0.404 loss_mse: 3.276 loss_res_mse: 1.152 loss_total_corr:-0.359 \n",
      "epoch: 11 total time: 105.2, epoch time: 9.9, loss: 3.261 loss_corr:-0.414 loss_mse: 3.210 loss_res_mse: 1.114 loss_total_corr:-0.366 \n",
      "epoch: 12 total time: 113.0, epoch time: 7.8, loss: 3.056 loss_corr:-0.406 loss_mse: 3.241 loss_res_mse: 1.135 loss_total_corr:-0.350 \n",
      "epoch: 13 total time: 121.6, epoch time: 8.4, loss: 2.698 loss_corr:-0.419 loss_mse: 3.230 loss_res_mse: 1.082 loss_total_corr:-0.376 \n",
      "epoch: 14 total time: 130.9, epoch time: 9.3, loss: 2.261 loss_corr:-0.444 loss_mse: 3.070 loss_res_mse: 1.058 loss_total_corr:-0.396 \n",
      "epoch: 15 total time: 139.9, epoch time: 8.9, loss: 1.946 loss_corr:-0.460 loss_mse: 3.032 loss_res_mse: 1.027 loss_total_corr:-0.413 \n",
      "epoch: 16 total time: 149.1, epoch time: 9.1, loss: 1.734 loss_corr:-0.455 loss_mse: 3.031 loss_res_mse: 1.035 loss_total_corr:-0.413 \n",
      "epoch: 17 total time: 157.4, epoch time: 8.2, loss: 1.579 loss_corr:-0.443 loss_mse: 3.080 loss_res_mse: 1.052 loss_total_corr:-0.407 \n",
      "epoch: 18 total time: 165.8, epoch time: 8.3, loss: 1.149 loss_corr:-0.486 loss_mse: 2.886 loss_res_mse: 0.991 loss_total_corr:-0.450 \n",
      "epoch: 19 total time: 173.6, epoch time: 7.8, loss: 0.963 loss_corr:-0.490 loss_mse: 2.887 loss_res_mse: 0.990 loss_total_corr:-0.447 \n",
      "epoch: 20 total time: 181.6, epoch time: 7.9, loss: 0.812 loss_corr:-0.475 loss_mse: 2.896 loss_res_mse: 1.000 loss_total_corr:-0.444 \n",
      "epoch: 21 total time: 190.2, epoch time: 8.6, loss: 0.655 loss_corr:-0.478 loss_mse: 2.929 loss_res_mse: 1.000 loss_total_corr:-0.444 \n",
      "epoch: 22 total time: 198.2, epoch time: 7.9, loss: 0.490 loss_corr:-0.475 loss_mse: 2.910 loss_res_mse: 1.002 loss_total_corr:-0.444 \n",
      "epoch: 23 total time: 206.2, epoch time: 7.9, loss: 0.300 loss_corr:-0.486 loss_mse: 2.893 loss_res_mse: 0.977 loss_total_corr:-0.456 \n",
      "epoch: 24 total time: 214.1, epoch time: 7.8, loss: 0.128 loss_corr:-0.495 loss_mse: 2.857 loss_res_mse: 0.975 loss_total_corr:-0.466 \n",
      "epoch: 25 total time: 223.9, epoch time: 9.8, loss: 0.021 loss_corr:-0.486 loss_mse: 2.892 loss_res_mse: 0.982 loss_total_corr:-0.462 \n",
      "epoch: 26 total time: 234.6, epoch time: 10.4, loss:-0.149 loss_corr:-0.501 loss_mse: 2.824 loss_res_mse: 0.965 loss_total_corr:-0.474 \n",
      "epoch: 27 total time: 243.8, epoch time: 9.2, loss:-0.259 loss_corr:-0.500 loss_mse: 2.853 loss_res_mse: 0.961 loss_total_corr:-0.476 \n",
      "epoch: 28 total time: 252.3, epoch time: 8.4, loss:-0.509 loss_corr:-0.549 loss_mse: 2.606 loss_res_mse: 0.886 loss_total_corr:-0.519 \n",
      "epoch: 29 total time: 260.5, epoch time: 8.1, loss:-0.439 loss_corr:-0.492 loss_mse: 2.894 loss_res_mse: 0.983 loss_total_corr:-0.468 \n",
      "epoch: 30 total time: 268.6, epoch time: 8.0, loss:-0.577 loss_corr:-0.510 loss_mse: 2.829 loss_res_mse: 0.952 loss_total_corr:-0.487 \n",
      "epoch: 31 total time: 276.6, epoch time: 8.0, loss:-0.688 loss_corr:-0.521 loss_mse: 2.754 loss_res_mse: 0.936 loss_total_corr:-0.499 \n",
      "epoch: 32 total time: 284.7, epoch time: 8.1, loss:-0.679 loss_corr:-0.488 loss_mse: 2.911 loss_res_mse: 0.992 loss_total_corr:-0.468 \n",
      "epoch: 33 total time: 293.9, epoch time: 9.1, loss:-0.758 loss_corr:-0.494 loss_mse: 2.882 loss_res_mse: 0.982 loss_total_corr:-0.474 \n",
      "epoch: 34 total time: 302.0, epoch time: 8.0, loss:-0.806 loss_corr:-0.490 loss_mse: 2.905 loss_res_mse: 0.994 loss_total_corr:-0.471 \n",
      "epoch: 35 total time: 310.0, epoch time: 7.9, loss:-0.898 loss_corr:-0.512 loss_mse: 2.822 loss_res_mse: 0.956 loss_total_corr:-0.491 \n",
      "epoch: 36 total time: 318.0, epoch time: 7.9, loss:-0.948 loss_corr:-0.517 loss_mse: 2.794 loss_res_mse: 0.942 loss_total_corr:-0.498 \n",
      "epoch: 37 total time: 327.6, epoch time: 9.5, loss:-0.968 loss_corr:-0.511 loss_mse: 2.827 loss_res_mse: 0.947 loss_total_corr:-0.495 \n",
      "epoch: 38 total time: 338.4, epoch time: 10.7, loss:-1.002 loss_corr:-0.519 loss_mse: 2.765 loss_res_mse: 0.942 loss_total_corr:-0.499 \n",
      "epoch: 39 total time: 347.1, epoch time: 8.7, loss:-1.004 loss_corr:-0.514 loss_mse: 2.800 loss_res_mse: 0.951 loss_total_corr:-0.494 \n",
      "completed training\n",
      "model parameter summary:\n",
      "\ty_loc:\t\t\t5.4076e-02 +- 6.3042e-01. max=6.9975e+00 min=-9.8319e-01\n",
      "\ty_scale:\t\t\t1.5791e+00 +- 8.0546e-01. max=5.2801e+00 min=7.0614e-01\n",
      "\tinputs_decomposer_components:\t\t\t4.7752e-04 +- 3.2121e-02. max=2.3203e-01 min=-1.7389e-01\n",
      "\ttargets_decomposer_components:\t\t\t5.5345e-04 +- 4.4853e-02. max=8.5450e-01 min=-5.1038e-01\n",
      "\ttargets_global_median:\t\t\t-1.5964e-01 +- 1.7323e-01. max=2.4594e+00 min=-2.5518e-01\n",
      "\tgender_embedding:\t\t\t5.0688e-01 +- 2.8617e-01. max=9.9928e-01 min=2.7311e-04\n",
      "\tencoder.layers.0.fc.weight:\t\t\t-7.1139e-06 +- 1.2767e-02. max=2.4744e-02 min=-2.4829e-02\n",
      "\tencoder.layers.0.norm.weight:\t\t\t1.0002e+00 +- 8.0451e-04. max=1.0033e+00 min=9.9831e-01\n",
      "\tencoder.layers.0.norm.bias:\t\t\t2.2640e-05 +- 6.1145e-04. max=1.7589e-03 min=-2.0377e-03\n",
      "\tencoder.out_fc.weight:\t\t\t-4.7448e-06 +- 1.2769e-02. max=2.4155e-02 min=-2.4044e-02\n",
      "\tencoder.out_fc.bias:\t\t\t1.6088e-04 +- 1.2836e-02. max=2.2508e-02 min=-2.2599e-02\n",
      "\tdecoder.in_fc.weight:\t\t\t4.0856e-06 +- 1.2765e-02. max=2.4509e-02 min=-2.4481e-02\n",
      "\tdecoder.in_fc.bias:\t\t\t3.1859e-04 +- 1.2694e-02. max=2.2546e-02 min=-2.2436e-02\n",
      "\tdecoder.layers.0.fc.weight:\t\t\t-5.9451e-06 +- 1.2751e-02. max=2.4244e-02 min=-2.4055e-02\n",
      "\tdecoder.layers.0.norm.weight:\t\t\t9.9956e-01 +- 4.7652e-04. max=1.0018e+00 min=9.9806e-01\n",
      "\tdecoder.layers.0.norm.bias:\t\t\t3.0892e-05 +- 3.7312e-04. max=1.3375e-03 min=-1.2675e-03\n",
      "\tdecoder.layers.1.fc.weight:\t\t\t-8.1327e-06 +- 1.2751e-02. max=2.4264e-02 min=-2.4174e-02\n",
      "\tdecoder.layers.1.norm.weight:\t\t\t9.9939e-01 +- 5.0537e-04. max=1.0010e+00 min=9.9776e-01\n",
      "\tdecoder.layers.1.norm.bias:\t\t\t-1.9155e-07 +- 4.1911e-04. max=1.4070e-03 min=-1.3992e-03\n",
      "\tdecoder.layers.2.fc.weight:\t\t\t7.4226e-06 +- 1.2742e-02. max=2.4492e-02 min=-2.4147e-02\n",
      "\tdecoder.layers.2.norm.weight:\t\t\t9.9921e-01 +- 5.2316e-04. max=1.0012e+00 min=9.9745e-01\n",
      "\tdecoder.layers.2.norm.bias:\t\t\t1.3010e-05 +- 4.4260e-04. max=1.8159e-03 min=-1.3837e-03\n",
      "\tdecoder.layers.3.fc.weight:\t\t\t-5.0510e-06 +- 1.2740e-02. max=2.4908e-02 min=-2.4434e-02\n",
      "\tdecoder.layers.3.norm.weight:\t\t\t9.9894e-01 +- 5.3917e-04. max=1.0008e+00 min=9.9677e-01\n",
      "\tdecoder.layers.3.norm.bias:\t\t\t8.3617e-06 +- 4.5287e-04. max=1.6104e-03 min=-1.5564e-03\n",
      "\tdecoder.layers.4.fc.weight:\t\t\t-1.0895e-06 +- 1.2726e-02. max=2.3912e-02 min=-2.3834e-02\n",
      "\tdecoder.layers.4.norm.weight:\t\t\t9.9841e-01 +- 6.2430e-04. max=1.0004e+00 min=9.9539e-01\n",
      "\tdecoder.layers.4.norm.bias:\t\t\t3.5332e-05 +- 5.9927e-04. max=1.7810e-03 min=-2.6308e-03\n",
      "\tencoder_in_fc.weight:\t\t\t1.2403e-05 +- 3.5662e-02. max=6.4848e-02 min=-6.4812e-02\n",
      "\tencoder_in_fc.bias:\t\t\t-8.2351e-04 +- 3.4893e-02. max=6.2524e-02 min=-6.2362e-02\n",
      "\tdecoder_out_fcs.0.weight:\t\t\t-5.7722e-06 +- 1.2764e-02. max=2.5608e-02 min=-2.5373e-02\n",
      "\tdecoder_out_fcs.0.bias:\t\t\t-1.0509e-03 +- 1.3102e-02. max=2.2074e-02 min=-2.2485e-02\n",
      "\tdecoder_out_fcs.1.weight:\t\t\t-1.2516e-05 +- 1.2636e-02. max=2.4083e-02 min=-2.4204e-02\n",
      "\tdecoder_out_fcs.1.bias:\t\t\t2.6621e-03 +- 1.2953e-02. max=2.2126e-02 min=-2.1683e-02\n",
      "\tdecoder_out_fcs.2.weight:\t\t\t-8.3880e-06 +- 1.2609e-02. max=2.3990e-02 min=-2.4006e-02\n",
      "\tdecoder_out_fcs.2.bias:\t\t\t1.6812e-03 +- 1.2796e-02. max=2.2017e-02 min=-2.1276e-02\n",
      "\tdecoder_out_fcs.3.weight:\t\t\t1.0528e-05 +- 1.2604e-02. max=2.4177e-02 min=-2.3628e-02\n",
      "\tdecoder_out_fcs.3.bias:\t\t\t8.9545e-04 +- 1.3599e-02. max=2.1543e-02 min=-2.2882e-02\n",
      "\tdecoder_out_fcs.4.weight:\t\t\t9.5855e-06 +- 1.2572e-02. max=2.3488e-02 min=-2.3526e-02\n",
      "\tdecoder_out_fcs.4.bias:\t\t\t-2.1707e-04 +- 1.2995e-02. max=2.1963e-02 min=-2.2515e-02\n",
      "\tdecoder_out_fcs.5.weight:\t\t\t4.0571e-05 +- 1.2567e-02. max=2.3426e-02 min=-2.3484e-02\n",
      "\tdecoder_out_fcs.5.bias:\t\t\t1.8513e-03 +- 1.2874e-02. max=2.1215e-02 min=-2.2685e-02\n",
      "\tdecoder_out_res_fcs.0.weight:\t\t\t4.1717e-06 +- 1.2720e-02. max=2.7023e-02 min=-2.6827e-02\n",
      "\tdecoder_out_res_fcs.0.bias:\t\t\t7.4455e-04 +- 1.2650e-02. max=2.2913e-02 min=-2.3561e-02\n",
      "\tdecoder_out_res_fcs.1.weight:\t\t\t-1.8747e-06 +- 1.2581e-02. max=2.5181e-02 min=-2.4875e-02\n",
      "\tdecoder_out_res_fcs.1.bias:\t\t\t1.9350e-04 +- 1.2636e-02. max=2.2733e-02 min=-2.2347e-02\n",
      "\tdecoder_out_res_fcs.2.weight:\t\t\t-5.4494e-06 +- 1.2559e-02. max=2.5186e-02 min=-2.5286e-02\n",
      "\tdecoder_out_res_fcs.2.bias:\t\t\t-6.8561e-05 +- 1.2469e-02. max=2.2288e-02 min=-2.2547e-02\n",
      "\tdecoder_out_res_fcs.3.weight:\t\t\t6.2047e-06 +- 1.2537e-02. max=2.4313e-02 min=-2.4362e-02\n",
      "\tdecoder_out_res_fcs.3.bias:\t\t\t-8.0960e-04 +- 1.2361e-02. max=2.2952e-02 min=-2.3180e-02\n",
      "\tdecoder_out_res_fcs.4.weight:\t\t\t-3.2168e-06 +- 1.2513e-02. max=2.4209e-02 min=-2.4482e-02\n",
      "\tdecoder_out_res_fcs.4.bias:\t\t\t6.3058e-04 +- 1.2899e-02. max=2.2792e-02 min=-2.2501e-02\n",
      "\tdecoder_out_res_fcs.5.weight:\t\t\t-2.0708e-06 +- 1.2490e-02. max=2.4200e-02 min=-2.4233e-02\n",
      "\tdecoder_out_res_fcs.5.bias:\t\t\t-3.1411e-04 +- 1.2623e-02. max=2.3312e-02 min=-2.3369e-02\n",
      "Fold 0 bagging 0 mse_train:  0.78784 corrscore_train:  0.57765 mse_val:  1.18677 corrscore_val:  0.37940 \n",
      "Fold 0: score:{'mse_train': 0.7878442, 'corrscore_train': 0.57764710476382, 'Naive CD20+ B_mse_train': 0.0, 'Naive CD20+ B_corrscore_train': 1.0, 'CD8+ T_mse_train': 0.7200106, 'CD8+ T_corrscore_train': 0.570976527669216, 'CD4+ T activated_mse_train': 0.8873514, 'CD4+ T activated_corrscore_train': 0.5518558144684518, 'HSC_mse_train': 0.0, 'HSC_corrscore_train': 1.0, 'Transitional B_mse_train': 0.0, 'Transitional B_corrscore_train': 1.0, 'CD16+ Mono_mse_train': 0.0, 'CD16+ Mono_corrscore_train': 1.0, 'Proerythroblast_mse_train': 0.7627242, 'Proerythroblast_corrscore_train': 0.5505664705168953, 'Lymph prog_mse_train': 0.0, 'Lymph prog_corrscore_train': 1.0, 'CD8+ T naive_mse_train': 0.0, 'CD8+ T naive_corrscore_train': 1.0, 'cDC2_mse_train': 0.0, 'cDC2_corrscore_train': 1.0, 'B1 B_mse_train': 0.0, 'B1 B_corrscore_train': 1.0, 'Normoblast_mse_train': 0.0, 'Normoblast_corrscore_train': 1.0, 'NK_mse_train': 0.7474895, 'NK_corrscore_train': 0.6126279830442606, 'CD14+ Mono_mse_train': 0.8265137, 'CD14+ Mono_corrscore_train': 0.5856820416078712, 'G/M prog_mse_train': 0.0, 'G/M prog_corrscore_train': 1.0, 'Erythroblast_mse_train': 0.0, 'Erythroblast_corrscore_train': 1.0, 'pDC_mse_train': 0.0, 'pDC_corrscore_train': 1.0, 'CD4+ T naive_mse_train': 0.7561067, 'CD4+ T naive_corrscore_train': 0.5984175707893373, 'ILC_mse_train': 0.0, 'ILC_corrscore_train': 1.0, 'MK/E prog_mse_train': 0.0, 'MK/E prog_corrscore_train': 1.0, 'mse_val': 1.1867692, 'corrscore_val': 0.3793953197194074, 'Naive CD20+ B_mse_val': 0.0, 'Naive CD20+ B_corrscore_val': 1.0, 'CD8+ T_mse_val': 1.2796552, 'CD8+ T_corrscore_val': 0.4001818756524067, 'CD4+ T activated_mse_val': 0.0, 'CD4+ T activated_corrscore_val': 1.0, 'HSC_mse_val': 0.0, 'HSC_corrscore_val': 1.0, 'Transitional B_mse_val': 0.0, 'Transitional B_corrscore_val': 1.0, 'CD16+ Mono_mse_val': 0.0, 'CD16+ Mono_corrscore_val': 1.0, 'Proerythroblast_mse_val': 0.0, 'Proerythroblast_corrscore_val': 1.0, 'Lymph prog_mse_val': 0.0, 'Lymph prog_corrscore_val': 1.0, 'CD8+ T naive_mse_val': 0.0, 'CD8+ T naive_corrscore_val': 1.0, 'cDC2_mse_val': 0.0, 'cDC2_corrscore_val': 1.0, 'B1 B_mse_val': 0.0, 'B1 B_corrscore_val': 1.0, 'Normoblast_mse_val': 0.0, 'Normoblast_corrscore_val': 1.0, 'NK_mse_val': 0.0, 'NK_corrscore_val': 1.0, 'CD14+ Mono_mse_val': 1.124268, 'CD14+ Mono_corrscore_val': 0.35685975111545815, 'G/M prog_mse_val': 0.0, 'G/M prog_corrscore_val': 1.0, 'Erythroblast_mse_val': 0.0, 'Erythroblast_corrscore_val': 1.0, 'pDC_mse_val': 0.0, 'pDC_corrscore_val': 1.0, 'CD4+ T naive_mse_val': 0.0, 'CD4+ T naive_corrscore_val': 1.0, 'ILC_mse_val': 0.0, 'ILC_corrscore_val': 1.0, 'MK/E prog_mse_val': 0.0, 'MK/E prog_corrscore_val': 1.0} elapsed time =  357.691\n",
      "train group: [0 2 3 5 6]\n",
      "val group: [1 4 7 8]\n",
      "skip pre_post_process fit\n",
      "Changing upper quantile to 0.999\n",
      "model input shape X:(245, 256) Y:(245, 128)\n",
      "dataset size 245\n",
      "start to train\n",
      "epoch: 0 total time: 11.8, epoch time: 11.7, loss: 4.559 loss_corr:-0.312 loss_mse: 3.655 loss_res_mse: 1.508 loss_total_corr:-0.292 \n",
      "epoch: 1 total time: 25.6, epoch time: 13.7, loss: 4.300 loss_corr:-0.346 loss_mse: 3.538 loss_res_mse: 1.433 loss_total_corr:-0.325 \n",
      "epoch: 2 total time: 37.3, epoch time: 11.6, loss: 4.502 loss_corr:-0.320 loss_mse: 3.641 loss_res_mse: 1.481 loss_total_corr:-0.300 \n",
      "epoch: 3 total time: 48.1, epoch time: 10.7, loss: 4.305 loss_corr:-0.342 loss_mse: 3.541 loss_res_mse: 1.426 loss_total_corr:-0.320 \n",
      "epoch: 4 total time: 59.4, epoch time: 11.3, loss: 4.477 loss_corr:-0.326 loss_mse: 3.658 loss_res_mse: 1.447 loss_total_corr:-0.303 \n",
      "epoch: 5 total time: 74.3, epoch time: 14.8, loss: 4.208 loss_corr:-0.352 loss_mse: 3.504 loss_res_mse: 1.382 loss_total_corr:-0.326 \n",
      "epoch: 6 total time: 83.4, epoch time: 8.9, loss: 4.217 loss_corr:-0.345 loss_mse: 3.507 loss_res_mse: 1.372 loss_total_corr:-0.317 \n",
      "epoch: 7 total time: 92.6, epoch time: 9.1, loss: 4.022 loss_corr:-0.367 loss_mse: 3.418 loss_res_mse: 1.303 loss_total_corr:-0.332 \n",
      "epoch: 8 total time: 101.3, epoch time: 8.6, loss: 3.758 loss_corr:-0.398 loss_mse: 3.294 loss_res_mse: 1.219 loss_total_corr:-0.356 \n",
      "epoch: 9 total time: 109.8, epoch time: 8.4, loss: 3.868 loss_corr:-0.379 loss_mse: 3.377 loss_res_mse: 1.206 loss_total_corr:-0.335 \n",
      "epoch: 10 total time: 118.4, epoch time: 8.5, loss: 3.910 loss_corr:-0.369 loss_mse: 3.394 loss_res_mse: 1.204 loss_total_corr:-0.320 \n",
      "epoch: 11 total time: 127.4, epoch time: 8.9, loss: 3.337 loss_corr:-0.402 loss_mse: 3.236 loss_res_mse: 1.133 loss_total_corr:-0.343 \n",
      "epoch: 12 total time: 138.4, epoch time: 10.9, loss: 3.193 loss_corr:-0.386 loss_mse: 3.354 loss_res_mse: 1.137 loss_total_corr:-0.333 \n",
      "epoch: 13 total time: 150.1, epoch time: 11.5, loss: 2.950 loss_corr:-0.379 loss_mse: 3.354 loss_res_mse: 1.155 loss_total_corr:-0.324 \n",
      "epoch: 14 total time: 159.5, epoch time: 9.3, loss: 2.462 loss_corr:-0.410 loss_mse: 3.199 loss_res_mse: 1.098 loss_total_corr:-0.356 \n",
      "epoch: 15 total time: 167.4, epoch time: 7.8, loss: 2.263 loss_corr:-0.408 loss_mse: 3.240 loss_res_mse: 1.115 loss_total_corr:-0.354 \n",
      "epoch: 16 total time: 176.1, epoch time: 8.7, loss: 1.880 loss_corr:-0.434 loss_mse: 3.142 loss_res_mse: 1.071 loss_total_corr:-0.383 \n",
      "epoch: 17 total time: 183.9, epoch time: 7.7, loss: 1.670 loss_corr:-0.428 loss_mse: 3.163 loss_res_mse: 1.064 loss_total_corr:-0.387 \n",
      "epoch: 18 total time: 191.8, epoch time: 7.9, loss: 1.357 loss_corr:-0.449 loss_mse: 3.079 loss_res_mse: 1.042 loss_total_corr:-0.410 \n",
      "epoch: 19 total time: 199.6, epoch time: 7.7, loss: 1.178 loss_corr:-0.446 loss_mse: 3.109 loss_res_mse: 1.044 loss_total_corr:-0.411 \n",
      "epoch: 20 total time: 207.3, epoch time: 7.7, loss: 0.972 loss_corr:-0.446 loss_mse: 3.070 loss_res_mse: 1.045 loss_total_corr:-0.411 \n",
      "epoch: 21 total time: 215.2, epoch time: 7.8, loss: 0.783 loss_corr:-0.450 loss_mse: 3.081 loss_res_mse: 1.037 loss_total_corr:-0.419 \n",
      "epoch: 22 total time: 223.1, epoch time: 7.8, loss: 0.635 loss_corr:-0.444 loss_mse: 3.098 loss_res_mse: 1.050 loss_total_corr:-0.414 \n",
      "epoch: 23 total time: 231.2, epoch time: 8.0, loss: 0.397 loss_corr:-0.463 loss_mse: 3.001 loss_res_mse: 1.024 loss_total_corr:-0.432 \n",
      "epoch: 24 total time: 238.9, epoch time: 7.6, loss: 0.167 loss_corr:-0.484 loss_mse: 2.918 loss_res_mse: 0.983 loss_total_corr:-0.459 \n",
      "epoch: 25 total time: 247.0, epoch time: 8.1, loss:-0.060 loss_corr:-0.510 loss_mse: 2.794 loss_res_mse: 0.940 loss_total_corr:-0.483 \n",
      "epoch: 26 total time: 254.9, epoch time: 7.8, loss:-0.134 loss_corr:-0.496 loss_mse: 2.855 loss_res_mse: 0.968 loss_total_corr:-0.471 \n",
      "epoch: 27 total time: 263.2, epoch time: 8.2, loss:-0.185 loss_corr:-0.477 loss_mse: 2.980 loss_res_mse: 0.997 loss_total_corr:-0.455 \n",
      "epoch: 28 total time: 272.7, epoch time: 9.4, loss:-0.323 loss_corr:-0.485 loss_mse: 2.916 loss_res_mse: 0.985 loss_total_corr:-0.462 \n",
      "epoch: 29 total time: 282.4, epoch time: 9.6, loss:-0.433 loss_corr:-0.488 loss_mse: 2.903 loss_res_mse: 0.981 loss_total_corr:-0.467 \n",
      "epoch: 30 total time: 292.7, epoch time: 10.2, loss:-0.475 loss_corr:-0.471 loss_mse: 2.993 loss_res_mse: 1.014 loss_total_corr:-0.450 \n",
      "epoch: 31 total time: 300.6, epoch time: 7.9, loss:-0.609 loss_corr:-0.490 loss_mse: 2.905 loss_res_mse: 0.988 loss_total_corr:-0.469 \n",
      "epoch: 32 total time: 308.7, epoch time: 8.0, loss:-0.619 loss_corr:-0.464 loss_mse: 3.044 loss_res_mse: 1.028 loss_total_corr:-0.445 \n",
      "epoch: 33 total time: 316.8, epoch time: 8.1, loss:-0.688 loss_corr:-0.464 loss_mse: 3.059 loss_res_mse: 1.028 loss_total_corr:-0.447 \n",
      "epoch: 34 total time: 324.9, epoch time: 8.0, loss:-0.766 loss_corr:-0.473 loss_mse: 2.986 loss_res_mse: 1.018 loss_total_corr:-0.453 \n",
      "epoch: 35 total time: 333.3, epoch time: 8.4, loss:-0.860 loss_corr:-0.494 loss_mse: 2.890 loss_res_mse: 0.981 loss_total_corr:-0.473 \n",
      "epoch: 36 total time: 342.1, epoch time: 8.7, loss:-0.866 loss_corr:-0.476 loss_mse: 2.953 loss_res_mse: 1.009 loss_total_corr:-0.460 \n",
      "epoch: 37 total time: 350.3, epoch time: 8.2, loss:-0.907 loss_corr:-0.483 loss_mse: 2.968 loss_res_mse: 0.998 loss_total_corr:-0.464 \n",
      "epoch: 38 total time: 359.0, epoch time: 8.6, loss:-0.943 loss_corr:-0.489 loss_mse: 2.906 loss_res_mse: 0.988 loss_total_corr:-0.471 \n",
      "epoch: 39 total time: 368.0, epoch time: 8.9, loss:-0.948 loss_corr:-0.484 loss_mse: 2.951 loss_res_mse: 0.999 loss_total_corr:-0.468 \n",
      "completed training\n",
      "model parameter summary:\n",
      "\ty_loc:\t\t\t4.0544e-02 +- 6.1808e-01. max=6.6764e+00 min=-1.8278e+00\n",
      "\ty_scale:\t\t\t1.5987e+00 +- 8.0854e-01. max=5.3121e+00 min=7.2867e-01\n",
      "\tinputs_decomposer_components:\t\t\t4.7752e-04 +- 3.2121e-02. max=2.3203e-01 min=-1.7389e-01\n",
      "\ttargets_decomposer_components:\t\t\t5.5345e-04 +- 4.4853e-02. max=8.5450e-01 min=-5.1038e-01\n",
      "\ttargets_global_median:\t\t\t-1.5964e-01 +- 1.7323e-01. max=2.4594e+00 min=-2.5518e-01\n",
      "\tgender_embedding:\t\t\t4.9674e-01 +- 2.8829e-01. max=9.9931e-01 min=7.6008e-04\n",
      "\tencoder.layers.0.fc.weight:\t\t\t-5.8064e-06 +- 1.2771e-02. max=2.4847e-02 min=-2.4968e-02\n",
      "\tencoder.layers.0.norm.weight:\t\t\t1.0002e+00 +- 8.5486e-04. max=1.0039e+00 min=9.9820e-01\n",
      "\tencoder.layers.0.norm.bias:\t\t\t1.0315e-05 +- 6.2956e-04. max=1.6760e-03 min=-2.0908e-03\n",
      "\tencoder.out_fc.weight:\t\t\t-3.2218e-07 +- 1.2762e-02. max=2.4238e-02 min=-2.4134e-02\n",
      "\tencoder.out_fc.bias:\t\t\t3.7587e-04 +- 1.2826e-02. max=2.2552e-02 min=-2.2387e-02\n",
      "\tdecoder.in_fc.weight:\t\t\t-3.4258e-06 +- 1.2771e-02. max=2.4082e-02 min=-2.4325e-02\n",
      "\tdecoder.in_fc.bias:\t\t\t1.2840e-04 +- 1.2820e-02. max=2.2370e-02 min=-2.2594e-02\n",
      "\tdecoder.layers.0.fc.weight:\t\t\t-1.5614e-05 +- 1.2749e-02. max=2.4408e-02 min=-2.4230e-02\n",
      "\tdecoder.layers.0.norm.weight:\t\t\t9.9956e-01 +- 4.7143e-04. max=1.0016e+00 min=9.9779e-01\n",
      "\tdecoder.layers.0.norm.bias:\t\t\t8.5799e-06 +- 3.8665e-04. max=1.3102e-03 min=-1.4150e-03\n",
      "\tdecoder.layers.1.fc.weight:\t\t\t-5.7237e-06 +- 1.2747e-02. max=2.4479e-02 min=-2.4299e-02\n",
      "\tdecoder.layers.1.norm.weight:\t\t\t9.9940e-01 +- 4.9885e-04. max=1.0011e+00 min=9.9767e-01\n",
      "\tdecoder.layers.1.norm.bias:\t\t\t-6.3904e-06 +- 4.3194e-04. max=1.4572e-03 min=-1.9248e-03\n",
      "\tdecoder.layers.2.fc.weight:\t\t\t1.8083e-06 +- 1.2746e-02. max=2.4648e-02 min=-2.4002e-02\n",
      "\tdecoder.layers.2.norm.weight:\t\t\t9.9922e-01 +- 5.1609e-04. max=1.0012e+00 min=9.9740e-01\n",
      "\tdecoder.layers.2.norm.bias:\t\t\t1.9793e-05 +- 4.6535e-04. max=1.5836e-03 min=-1.7232e-03\n",
      "\tdecoder.layers.3.fc.weight:\t\t\t1.6639e-06 +- 1.2739e-02. max=2.4702e-02 min=-2.4078e-02\n",
      "\tdecoder.layers.3.norm.weight:\t\t\t9.9899e-01 +- 5.6968e-04. max=1.0008e+00 min=9.9674e-01\n",
      "\tdecoder.layers.3.norm.bias:\t\t\t1.8350e-05 +- 4.7442e-04. max=1.8388e-03 min=-1.9373e-03\n",
      "\tdecoder.layers.4.fc.weight:\t\t\t-3.9602e-06 +- 1.2733e-02. max=2.3795e-02 min=-2.3789e-02\n",
      "\tdecoder.layers.4.norm.weight:\t\t\t9.9851e-01 +- 6.3898e-04. max=1.0001e+00 min=9.9476e-01\n",
      "\tdecoder.layers.4.norm.bias:\t\t\t3.6907e-05 +- 6.1072e-04. max=1.6090e-03 min=-2.9507e-03\n",
      "\tencoder_in_fc.weight:\t\t\t2.0822e-05 +- 3.5647e-02. max=6.5012e-02 min=-6.5070e-02\n",
      "\tencoder_in_fc.bias:\t\t\t2.6011e-04 +- 3.5547e-02. max=6.2368e-02 min=-6.2462e-02\n",
      "\tdecoder_out_fcs.0.weight:\t\t\t2.5424e-05 +- 1.2749e-02. max=2.5400e-02 min=-2.5670e-02\n",
      "\tdecoder_out_fcs.0.bias:\t\t\t-1.0194e-03 +- 1.2545e-02. max=2.1577e-02 min=-2.1862e-02\n",
      "\tdecoder_out_fcs.1.weight:\t\t\t-2.8206e-05 +- 1.2661e-02. max=2.4273e-02 min=-2.4540e-02\n",
      "\tdecoder_out_fcs.1.bias:\t\t\t4.2367e-04 +- 1.2529e-02. max=2.2309e-02 min=-2.3041e-02\n",
      "\tdecoder_out_fcs.2.weight:\t\t\t-2.5634e-05 +- 1.2636e-02. max=2.3935e-02 min=-2.4017e-02\n",
      "\tdecoder_out_fcs.2.bias:\t\t\t1.4599e-03 +- 1.3335e-02. max=2.2067e-02 min=-2.2371e-02\n",
      "\tdecoder_out_fcs.3.weight:\t\t\t7.7607e-06 +- 1.2593e-02. max=2.3606e-02 min=-2.4245e-02\n",
      "\tdecoder_out_fcs.3.bias:\t\t\t2.2773e-04 +- 1.3361e-02. max=2.2132e-02 min=-2.2539e-02\n",
      "\tdecoder_out_fcs.4.weight:\t\t\t-5.2073e-06 +- 1.2576e-02. max=2.4033e-02 min=-2.3631e-02\n",
      "\tdecoder_out_fcs.4.bias:\t\t\t-2.5647e-05 +- 1.1941e-02. max=2.1929e-02 min=-2.2331e-02\n",
      "\tdecoder_out_fcs.5.weight:\t\t\t-5.2681e-06 +- 1.2558e-02. max=2.3504e-02 min=-2.3528e-02\n",
      "\tdecoder_out_fcs.5.bias:\t\t\t-1.5409e-03 +- 1.2394e-02. max=2.1965e-02 min=-2.1848e-02\n",
      "\tdecoder_out_res_fcs.0.weight:\t\t\t1.9767e-05 +- 1.2713e-02. max=2.6872e-02 min=-2.6690e-02\n",
      "\tdecoder_out_res_fcs.0.bias:\t\t\t3.5955e-04 +- 1.3184e-02. max=2.2832e-02 min=-2.2809e-02\n",
      "\tdecoder_out_res_fcs.1.weight:\t\t\t-1.7102e-06 +- 1.2596e-02. max=2.5072e-02 min=-2.4970e-02\n",
      "\tdecoder_out_res_fcs.1.bias:\t\t\t2.8727e-04 +- 1.2442e-02. max=2.2717e-02 min=-2.2362e-02\n",
      "\tdecoder_out_res_fcs.2.weight:\t\t\t1.0023e-05 +- 1.2560e-02. max=2.4527e-02 min=-2.4702e-02\n",
      "\tdecoder_out_res_fcs.2.bias:\t\t\t-6.4260e-04 +- 1.2406e-02. max=2.2930e-02 min=-2.2172e-02\n",
      "\tdecoder_out_res_fcs.3.weight:\t\t\t1.4335e-05 +- 1.2549e-02. max=2.4673e-02 min=-2.4336e-02\n",
      "\tdecoder_out_res_fcs.3.bias:\t\t\t5.6883e-04 +- 1.2657e-02. max=2.2787e-02 min=-2.2297e-02\n",
      "\tdecoder_out_res_fcs.4.weight:\t\t\t-6.6870e-06 +- 1.2520e-02. max=2.4412e-02 min=-2.4370e-02\n",
      "\tdecoder_out_res_fcs.4.bias:\t\t\t-1.3887e-06 +- 1.2678e-02. max=2.2937e-02 min=-2.2787e-02\n",
      "\tdecoder_out_res_fcs.5.weight:\t\t\t-1.0602e-05 +- 1.2512e-02. max=2.4358e-02 min=-2.4402e-02\n",
      "\tdecoder_out_res_fcs.5.bias:\t\t\t7.8576e-04 +- 1.2586e-02. max=2.2528e-02 min=-2.3083e-02\n",
      "Fold 1 bagging 0 mse_train:  0.87983 corrscore_train:  0.55677 mse_val:  1.05624 corrscore_val:  0.37881 \n",
      "Fold 1: score:{'mse_train': 0.87982965, 'corrscore_train': 0.5567656802410774, 'Naive CD20+ B_mse_train': 1.1528084, 'Naive CD20+ B_corrscore_train': 0.5644396501616271, 'CD8+ T_mse_train': 0.98931575, 'CD8+ T_corrscore_train': 0.5398903645416142, 'CD4+ T activated_mse_train': 0.7629183, 'CD4+ T activated_corrscore_train': 0.542101392218615, 'HSC_mse_train': 0.0, 'HSC_corrscore_train': 1.0, 'Transitional B_mse_train': 0.85914475, 'Transitional B_corrscore_train': 0.48883295786539965, 'CD16+ Mono_mse_train': 0.6857401, 'CD16+ Mono_corrscore_train': 0.5953283632121058, 'Proerythroblast_mse_train': 0.8488869, 'Proerythroblast_corrscore_train': 0.5622957291881502, 'Lymph prog_mse_train': 1.0235146, 'Lymph prog_corrscore_train': 0.5356352680485438, 'CD8+ T naive_mse_train': 0.0, 'CD8+ T naive_corrscore_train': 1.0, 'cDC2_mse_train': 0.0, 'cDC2_corrscore_train': 1.0, 'B1 B_mse_train': 0.0, 'B1 B_corrscore_train': 1.0, 'Normoblast_mse_train': 0.0, 'Normoblast_corrscore_train': 1.0, 'NK_mse_train': 0.7091375, 'NK_corrscore_train': 0.5687039996456202, 'CD14+ Mono_mse_train': 0.8879124, 'CD14+ Mono_corrscore_train': 0.5613587276592739, 'G/M prog_mse_train': 0.0, 'G/M prog_corrscore_train': 1.0, 'Erythroblast_mse_train': 0.87761164, 'Erythroblast_corrscore_train': 0.5324824749568047, 'pDC_mse_train': 0.0, 'pDC_corrscore_train': 1.0, 'CD4+ T naive_mse_train': 0.0, 'CD4+ T naive_corrscore_train': 1.0, 'ILC_mse_train': 0.0, 'ILC_corrscore_train': 1.0, 'MK/E prog_mse_train': 0.0, 'MK/E prog_corrscore_train': 1.0, 'mse_val': 1.056239, 'corrscore_val': 0.37880799050970104, 'Naive CD20+ B_mse_val': 0.0, 'Naive CD20+ B_corrscore_val': 1.0, 'CD8+ T_mse_val': 0.9361672, 'CD8+ T_corrscore_val': 0.36998802076302245, 'CD4+ T activated_mse_val': 1.404784, 'CD4+ T activated_corrscore_val': 0.3350869180257176, 'HSC_mse_val': 0.0, 'HSC_corrscore_val': 1.0, 'Transitional B_mse_val': 0.0, 'Transitional B_corrscore_val': 1.0, 'CD16+ Mono_mse_val': 0.0, 'CD16+ Mono_corrscore_val': 1.0, 'Proerythroblast_mse_val': 0.0, 'Proerythroblast_corrscore_val': 1.0, 'Lymph prog_mse_val': 0.0, 'Lymph prog_corrscore_val': 1.0, 'CD8+ T naive_mse_val': 0.0, 'CD8+ T naive_corrscore_val': 1.0, 'cDC2_mse_val': 0.0, 'cDC2_corrscore_val': 1.0, 'B1 B_mse_val': 0.0, 'B1 B_corrscore_val': 1.0, 'Normoblast_mse_val': 0.0, 'Normoblast_corrscore_val': 1.0, 'NK_mse_val': 1.0908464, 'NK_corrscore_val': 0.41358291113299733, 'CD14+ Mono_mse_val': 0.0, 'CD14+ Mono_corrscore_val': 1.0, 'G/M prog_mse_val': 0.0, 'G/M prog_corrscore_val': 1.0, 'Erythroblast_mse_val': 0.0, 'Erythroblast_corrscore_val': 1.0, 'pDC_mse_val': 0.0, 'pDC_corrscore_val': 1.0, 'CD4+ T naive_mse_val': 1.0540392, 'CD4+ T naive_corrscore_val': 0.40413396398236845, 'ILC_mse_val': 0.0, 'ILC_corrscore_val': 1.0, 'MK/E prog_mse_val': 0.0, 'MK/E prog_corrscore_val': 1.0} elapsed time =  380.224\n",
      "train group: [0 1 4 5 7 8]\n",
      "val group: [2 3 6]\n",
      "skip pre_post_process fit\n",
      "Changing upper quantile to 0.999\n",
      "model input shape X:(253, 256) Y:(253, 128)\n",
      "dataset size 253\n",
      "start to train\n",
      "epoch: 0 total time: 10.4, epoch time: 10.4, loss: 4.369 loss_corr:-0.334 loss_mse: 3.551 loss_res_mse: 1.466 loss_total_corr:-0.314 \n",
      "epoch: 1 total time: 18.9, epoch time: 8.4, loss: 4.280 loss_corr:-0.345 loss_mse: 3.512 loss_res_mse: 1.438 loss_total_corr:-0.325 \n",
      "epoch: 2 total time: 27.1, epoch time: 8.1, loss: 4.354 loss_corr:-0.337 loss_mse: 3.556 loss_res_mse: 1.452 loss_total_corr:-0.317 \n",
      "epoch: 3 total time: 35.4, epoch time: 8.2, loss: 4.378 loss_corr:-0.336 loss_mse: 3.582 loss_res_mse: 1.446 loss_total_corr:-0.315 \n",
      "epoch: 4 total time: 43.5, epoch time: 8.1, loss: 4.164 loss_corr:-0.359 loss_mse: 3.473 loss_res_mse: 1.387 loss_total_corr:-0.337 \n",
      "epoch: 5 total time: 52.2, epoch time: 8.5, loss: 4.111 loss_corr:-0.365 loss_mse: 3.453 loss_res_mse: 1.361 loss_total_corr:-0.339 \n",
      "epoch: 6 total time: 60.2, epoch time: 7.9, loss: 3.939 loss_corr:-0.385 loss_mse: 3.382 loss_res_mse: 1.299 loss_total_corr:-0.357 \n",
      "epoch: 7 total time: 68.6, epoch time: 8.3, loss: 4.021 loss_corr:-0.368 loss_mse: 3.426 loss_res_mse: 1.300 loss_total_corr:-0.337 \n",
      "epoch: 8 total time: 76.7, epoch time: 8.1, loss: 4.128 loss_corr:-0.350 loss_mse: 3.492 loss_res_mse: 1.301 loss_total_corr:-0.315 \n",
      "epoch: 9 total time: 84.7, epoch time: 7.9, loss: 3.675 loss_corr:-0.402 loss_mse: 3.259 loss_res_mse: 1.175 loss_total_corr:-0.356 \n",
      "epoch: 10 total time: 92.6, epoch time: 7.9, loss: 3.892 loss_corr:-0.374 loss_mse: 3.398 loss_res_mse: 1.197 loss_total_corr:-0.328 \n",
      "epoch: 11 total time: 100.9, epoch time: 8.2, loss: 3.301 loss_corr:-0.413 loss_mse: 3.222 loss_res_mse: 1.134 loss_total_corr:-0.355 \n",
      "epoch: 12 total time: 109.3, epoch time: 8.4, loss: 3.094 loss_corr:-0.400 loss_mse: 3.276 loss_res_mse: 1.130 loss_total_corr:-0.345 \n",
      "epoch: 13 total time: 117.4, epoch time: 8.0, loss: 2.626 loss_corr:-0.429 loss_mse: 3.149 loss_res_mse: 1.085 loss_total_corr:-0.374 \n",
      "epoch: 14 total time: 125.3, epoch time: 7.8, loss: 2.668 loss_corr:-0.389 loss_mse: 3.392 loss_res_mse: 1.132 loss_total_corr:-0.342 \n",
      "epoch: 15 total time: 133.4, epoch time: 8.0, loss: 2.090 loss_corr:-0.432 loss_mse: 3.106 loss_res_mse: 1.079 loss_total_corr:-0.385 \n",
      "epoch: 16 total time: 141.9, epoch time: 8.5, loss: 1.746 loss_corr:-0.457 loss_mse: 3.041 loss_res_mse: 1.042 loss_total_corr:-0.409 \n",
      "epoch: 17 total time: 150.1, epoch time: 8.0, loss: 1.619 loss_corr:-0.439 loss_mse: 3.113 loss_res_mse: 1.062 loss_total_corr:-0.396 \n",
      "epoch: 18 total time: 158.2, epoch time: 8.1, loss: 1.295 loss_corr:-0.460 loss_mse: 3.021 loss_res_mse: 1.024 loss_total_corr:-0.420 \n",
      "epoch: 19 total time: 166.3, epoch time: 8.0, loss: 1.204 loss_corr:-0.437 loss_mse: 3.109 loss_res_mse: 1.061 loss_total_corr:-0.403 \n",
      "epoch: 20 total time: 174.5, epoch time: 8.1, loss: 0.988 loss_corr:-0.442 loss_mse: 3.085 loss_res_mse: 1.052 loss_total_corr:-0.410 \n",
      "epoch: 21 total time: 182.7, epoch time: 8.1, loss: 0.675 loss_corr:-0.470 loss_mse: 2.956 loss_res_mse: 1.001 loss_total_corr:-0.442 \n",
      "epoch: 22 total time: 190.7, epoch time: 7.9, loss: 0.565 loss_corr:-0.461 loss_mse: 3.021 loss_res_mse: 1.027 loss_total_corr:-0.431 \n",
      "epoch: 23 total time: 198.5, epoch time: 7.8, loss: 0.356 loss_corr:-0.474 loss_mse: 2.964 loss_res_mse: 1.007 loss_total_corr:-0.445 \n",
      "epoch: 24 total time: 206.5, epoch time: 7.9, loss: 0.264 loss_corr:-0.457 loss_mse: 3.015 loss_res_mse: 1.034 loss_total_corr:-0.431 \n",
      "epoch: 25 total time: 214.3, epoch time: 7.8, loss: 0.017 loss_corr:-0.490 loss_mse: 2.887 loss_res_mse: 0.986 loss_total_corr:-0.462 \n",
      "epoch: 26 total time: 222.4, epoch time: 8.0, loss:-0.069 loss_corr:-0.477 loss_mse: 2.907 loss_res_mse: 1.010 loss_total_corr:-0.446 \n",
      "epoch: 27 total time: 230.6, epoch time: 8.1, loss:-0.329 loss_corr:-0.521 loss_mse: 2.744 loss_res_mse: 0.929 loss_total_corr:-0.497 \n",
      "epoch: 28 total time: 238.6, epoch time: 8.0, loss:-0.428 loss_corr:-0.521 loss_mse: 2.744 loss_res_mse: 0.930 loss_total_corr:-0.495 \n",
      "epoch: 29 total time: 246.8, epoch time: 8.1, loss:-0.436 loss_corr:-0.491 loss_mse: 2.907 loss_res_mse: 0.978 loss_total_corr:-0.468 \n",
      "epoch: 30 total time: 254.7, epoch time: 7.8, loss:-0.497 loss_corr:-0.478 loss_mse: 2.931 loss_res_mse: 1.002 loss_total_corr:-0.456 \n",
      "epoch: 31 total time: 262.7, epoch time: 7.9, loss:-0.679 loss_corr:-0.518 loss_mse: 2.773 loss_res_mse: 0.940 loss_total_corr:-0.495 \n",
      "epoch: 32 total time: 270.9, epoch time: 8.2, loss:-0.692 loss_corr:-0.494 loss_mse: 2.900 loss_res_mse: 0.979 loss_total_corr:-0.473 \n",
      "epoch: 33 total time: 278.9, epoch time: 7.9, loss:-0.767 loss_corr:-0.499 loss_mse: 2.892 loss_res_mse: 0.975 loss_total_corr:-0.478 \n",
      "epoch: 34 total time: 287.2, epoch time: 8.2, loss:-0.815 loss_corr:-0.494 loss_mse: 2.893 loss_res_mse: 0.977 loss_total_corr:-0.476 \n",
      "epoch: 35 total time: 295.7, epoch time: 8.3, loss:-0.884 loss_corr:-0.504 loss_mse: 2.840 loss_res_mse: 0.963 loss_total_corr:-0.485 \n",
      "epoch: 36 total time: 303.6, epoch time: 7.9, loss:-0.921 loss_corr:-0.505 loss_mse: 2.868 loss_res_mse: 0.964 loss_total_corr:-0.485 \n",
      "epoch: 37 total time: 311.9, epoch time: 8.2, loss:-0.958 loss_corr:-0.508 loss_mse: 2.834 loss_res_mse: 0.956 loss_total_corr:-0.487 \n",
      "epoch: 38 total time: 319.9, epoch time: 7.8, loss:-0.957 loss_corr:-0.497 loss_mse: 2.892 loss_res_mse: 0.979 loss_total_corr:-0.477 \n",
      "epoch: 39 total time: 327.8, epoch time: 7.8, loss:-1.009 loss_corr:-0.517 loss_mse: 2.790 loss_res_mse: 0.945 loss_total_corr:-0.496 \n",
      "completed training\n",
      "model parameter summary:\n",
      "\ty_loc:\t\t\t4.9174e-02 +- 6.2655e-01. max=6.8580e+00 min=-1.2279e+00\n",
      "\ty_scale:\t\t\t1.5844e+00 +- 8.0162e-01. max=5.4250e+00 min=7.1880e-01\n",
      "\tinputs_decomposer_components:\t\t\t4.7752e-04 +- 3.2121e-02. max=2.3203e-01 min=-1.7389e-01\n",
      "\ttargets_decomposer_components:\t\t\t5.5345e-04 +- 4.4853e-02. max=8.5450e-01 min=-5.1038e-01\n",
      "\ttargets_global_median:\t\t\t-1.5964e-01 +- 1.7323e-01. max=2.4594e+00 min=-2.5518e-01\n",
      "\tgender_embedding:\t\t\t5.0383e-01 +- 2.8741e-01. max=9.9920e-01 min=2.0266e-06\n",
      "\tencoder.layers.0.fc.weight:\t\t\t7.3526e-06 +- 1.2773e-02. max=2.5207e-02 min=-2.5170e-02\n",
      "\tencoder.layers.0.norm.weight:\t\t\t1.0002e+00 +- 8.2521e-04. max=1.0037e+00 min=9.9832e-01\n",
      "\tencoder.layers.0.norm.bias:\t\t\t3.0090e-05 +- 6.2156e-04. max=1.5901e-03 min=-2.1625e-03\n",
      "\tencoder.out_fc.weight:\t\t\t-7.6202e-07 +- 1.2771e-02. max=2.4291e-02 min=-2.4155e-02\n",
      "\tencoder.out_fc.bias:\t\t\t-1.8826e-04 +- 1.2747e-02. max=2.2226e-02 min=-2.2265e-02\n",
      "\tdecoder.in_fc.weight:\t\t\t-4.3255e-06 +- 1.2767e-02. max=2.4014e-02 min=-2.4105e-02\n",
      "\tdecoder.in_fc.bias:\t\t\t3.5226e-04 +- 1.2668e-02. max=2.2210e-02 min=-2.2486e-02\n",
      "\tdecoder.layers.0.fc.weight:\t\t\t2.5378e-07 +- 1.2757e-02. max=2.4212e-02 min=-2.3930e-02\n",
      "\tdecoder.layers.0.norm.weight:\t\t\t9.9954e-01 +- 4.6035e-04. max=1.0016e+00 min=9.9753e-01\n",
      "\tdecoder.layers.0.norm.bias:\t\t\t2.8984e-05 +- 3.8422e-04. max=1.3923e-03 min=-1.8877e-03\n",
      "\tdecoder.layers.1.fc.weight:\t\t\t-5.8280e-06 +- 1.2750e-02. max=2.4168e-02 min=-2.4385e-02\n",
      "\tdecoder.layers.1.norm.weight:\t\t\t9.9939e-01 +- 4.8937e-04. max=1.0012e+00 min=9.9766e-01\n",
      "\tdecoder.layers.1.norm.bias:\t\t\t1.8267e-05 +- 4.2715e-04. max=1.5089e-03 min=-1.8422e-03\n",
      "\tdecoder.layers.2.fc.weight:\t\t\t-2.0331e-06 +- 1.2750e-02. max=2.4189e-02 min=-2.4108e-02\n",
      "\tdecoder.layers.2.norm.weight:\t\t\t9.9922e-01 +- 5.1825e-04. max=1.0010e+00 min=9.9735e-01\n",
      "\tdecoder.layers.2.norm.bias:\t\t\t1.1792e-05 +- 4.4550e-04. max=1.4465e-03 min=-1.6417e-03\n",
      "\tdecoder.layers.3.fc.weight:\t\t\t-1.6450e-06 +- 1.2746e-02. max=2.4342e-02 min=-2.4135e-02\n",
      "\tdecoder.layers.3.norm.weight:\t\t\t9.9894e-01 +- 5.5169e-04. max=1.0012e+00 min=9.9616e-01\n",
      "\tdecoder.layers.3.norm.bias:\t\t\t4.6863e-05 +- 4.8017e-04. max=1.6105e-03 min=-1.8051e-03\n",
      "\tdecoder.layers.4.fc.weight:\t\t\t8.5786e-07 +- 1.2733e-02. max=2.4111e-02 min=-2.3795e-02\n",
      "\tdecoder.layers.4.norm.weight:\t\t\t9.9840e-01 +- 6.5290e-04. max=1.0000e+00 min=9.9503e-01\n",
      "\tdecoder.layers.4.norm.bias:\t\t\t3.3714e-06 +- 6.2742e-04. max=1.7201e-03 min=-2.8944e-03\n",
      "\tencoder_in_fc.weight:\t\t\t2.1415e-05 +- 3.5636e-02. max=6.4788e-02 min=-6.5073e-02\n",
      "\tencoder_in_fc.bias:\t\t\t7.7079e-04 +- 3.5975e-02. max=6.2688e-02 min=-6.2151e-02\n",
      "\tdecoder_out_fcs.0.weight:\t\t\t1.9460e-05 +- 1.2778e-02. max=2.5528e-02 min=-2.5285e-02\n",
      "\tdecoder_out_fcs.0.bias:\t\t\t7.2266e-05 +- 1.2114e-02. max=2.1272e-02 min=-2.1275e-02\n",
      "\tdecoder_out_fcs.1.weight:\t\t\t-2.1318e-05 +- 1.2635e-02. max=2.4237e-02 min=-2.4402e-02\n",
      "\tdecoder_out_fcs.1.bias:\t\t\t-1.0471e-03 +- 1.2551e-02. max=2.1845e-02 min=-2.1979e-02\n",
      "\tdecoder_out_fcs.2.weight:\t\t\t-8.8166e-07 +- 1.2617e-02. max=2.4177e-02 min=-2.3958e-02\n",
      "\tdecoder_out_fcs.2.bias:\t\t\t5.2490e-04 +- 1.1952e-02. max=2.1040e-02 min=-2.1232e-02\n",
      "\tdecoder_out_fcs.3.weight:\t\t\t1.0350e-05 +- 1.2592e-02. max=2.3927e-02 min=-2.4157e-02\n",
      "\tdecoder_out_fcs.3.bias:\t\t\t8.9982e-04 +- 1.2548e-02. max=2.1969e-02 min=-2.2975e-02\n",
      "\tdecoder_out_fcs.4.weight:\t\t\t1.1764e-05 +- 1.2576e-02. max=2.3892e-02 min=-2.3461e-02\n",
      "\tdecoder_out_fcs.4.bias:\t\t\t4.4155e-04 +- 1.2184e-02. max=2.1562e-02 min=-2.0910e-02\n",
      "\tdecoder_out_fcs.5.weight:\t\t\t1.0241e-06 +- 1.2560e-02. max=2.3467e-02 min=-2.3476e-02\n",
      "\tdecoder_out_fcs.5.bias:\t\t\t-6.9881e-05 +- 1.2047e-02. max=2.1474e-02 min=-2.2571e-02\n",
      "\tdecoder_out_res_fcs.0.weight:\t\t\t1.5724e-06 +- 1.2720e-02. max=2.6775e-02 min=-2.6996e-02\n",
      "\tdecoder_out_res_fcs.0.bias:\t\t\t6.4710e-04 +- 1.2952e-02. max=2.2926e-02 min=-2.2568e-02\n",
      "\tdecoder_out_res_fcs.1.weight:\t\t\t-4.0613e-06 +- 1.2582e-02. max=2.5076e-02 min=-2.4878e-02\n",
      "\tdecoder_out_res_fcs.1.bias:\t\t\t1.1601e-04 +- 1.2075e-02. max=2.2823e-02 min=-2.2191e-02\n",
      "\tdecoder_out_res_fcs.2.weight:\t\t\t-1.9029e-06 +- 1.2563e-02. max=2.4814e-02 min=-2.4639e-02\n",
      "\tdecoder_out_res_fcs.2.bias:\t\t\t-4.0447e-04 +- 1.2388e-02. max=2.2607e-02 min=-2.2800e-02\n",
      "\tdecoder_out_res_fcs.3.weight:\t\t\t5.5992e-06 +- 1.2535e-02. max=2.4589e-02 min=-2.4829e-02\n",
      "\tdecoder_out_res_fcs.3.bias:\t\t\t-1.9541e-04 +- 1.2997e-02. max=2.2876e-02 min=-2.2585e-02\n",
      "\tdecoder_out_res_fcs.4.weight:\t\t\t1.6257e-05 +- 1.2517e-02. max=2.4247e-02 min=-2.4565e-02\n",
      "\tdecoder_out_res_fcs.4.bias:\t\t\t-7.1954e-05 +- 1.2609e-02. max=2.2615e-02 min=-2.1777e-02\n",
      "\tdecoder_out_res_fcs.5.weight:\t\t\t-1.9344e-05 +- 1.2496e-02. max=2.4511e-02 min=-2.4188e-02\n",
      "\tdecoder_out_res_fcs.5.bias:\t\t\t-1.5317e-05 +- 1.2658e-02. max=2.2058e-02 min=-2.3432e-02\n",
      "Fold 2 bagging 0 mse_train:  0.84047 corrscore_train:  0.57574 mse_val:  1.05906 corrscore_val:  0.39017 \n",
      "Fold 2: score:{'mse_train': 0.84047145, 'corrscore_train': 0.5757448297218196, 'Naive CD20+ B_mse_train': 1.1545994, 'Naive CD20+ B_corrscore_train': 0.5757488194480291, 'CD8+ T_mse_train': 0.925321, 'CD8+ T_corrscore_train': 0.5570859183381808, 'CD4+ T activated_mse_train': 0.9341077, 'CD4+ T activated_corrscore_train': 0.5570606287655429, 'HSC_mse_train': 0.0, 'HSC_corrscore_train': 1.0, 'Transitional B_mse_train': 0.0, 'Transitional B_corrscore_train': 1.0, 'CD16+ Mono_mse_train': 0.0, 'CD16+ Mono_corrscore_train': 1.0, 'Proerythroblast_mse_train': 0.0, 'Proerythroblast_corrscore_train': 1.0, 'Lymph prog_mse_train': 0.0, 'Lymph prog_corrscore_train': 1.0, 'CD8+ T naive_mse_train': 0.0, 'CD8+ T naive_corrscore_train': 1.0, 'cDC2_mse_train': 0.0, 'cDC2_corrscore_train': 1.0, 'B1 B_mse_train': 0.0, 'B1 B_corrscore_train': 1.0, 'Normoblast_mse_train': 0.0, 'Normoblast_corrscore_train': 1.0, 'NK_mse_train': 0.7518901, 'NK_corrscore_train': 0.6014514593159201, 'CD14+ Mono_mse_train': 0.8109562, 'CD14+ Mono_corrscore_train': 0.5613042000521261, 'G/M prog_mse_train': 0.0, 'G/M prog_corrscore_train': 1.0, 'Erythroblast_mse_train': 0.0, 'Erythroblast_corrscore_train': 1.0, 'pDC_mse_train': 0.0, 'pDC_corrscore_train': 1.0, 'CD4+ T naive_mse_train': 0.73430175, 'CD4+ T naive_corrscore_train': 0.5883113756063467, 'ILC_mse_train': 0.0, 'ILC_corrscore_train': 1.0, 'MK/E prog_mse_train': 0.0, 'MK/E prog_corrscore_train': 1.0, 'mse_val': 1.0590641, 'corrscore_val': 0.3901703063474994, 'Naive CD20+ B_mse_val': 0.0, 'Naive CD20+ B_corrscore_val': 1.0, 'CD8+ T_mse_val': 0.9858568, 'CD8+ T_corrscore_val': 0.3821112683846276, 'CD4+ T activated_mse_val': 0.0, 'CD4+ T activated_corrscore_val': 1.0, 'HSC_mse_val': 0.0, 'HSC_corrscore_val': 1.0, 'Transitional B_mse_val': 0.0, 'Transitional B_corrscore_val': 1.0, 'CD16+ Mono_mse_val': 0.0, 'CD16+ Mono_corrscore_val': 1.0, 'Proerythroblast_mse_val': 0.0, 'Proerythroblast_corrscore_val': 1.0, 'Lymph prog_mse_val': 0.0, 'Lymph prog_corrscore_val': 1.0, 'CD8+ T naive_mse_val': 0.0, 'CD8+ T naive_corrscore_val': 1.0, 'cDC2_mse_val': 0.0, 'cDC2_corrscore_val': 1.0, 'B1 B_mse_val': 0.0, 'B1 B_corrscore_val': 1.0, 'Normoblast_mse_val': 0.0, 'Normoblast_corrscore_val': 1.0, 'NK_mse_val': 0.0, 'NK_corrscore_val': 1.0, 'CD14+ Mono_mse_val': 1.1514866, 'CD14+ Mono_corrscore_val': 0.3927970253414467, 'G/M prog_mse_val': 0.0, 'G/M prog_corrscore_val': 1.0, 'Erythroblast_mse_val': 0.0, 'Erythroblast_corrscore_val': 1.0, 'pDC_mse_val': 0.0, 'pDC_corrscore_val': 1.0, 'CD4+ T naive_mse_val': 0.0, 'CD4+ T naive_corrscore_val': 1.0, 'ILC_mse_val': 0.0, 'ILC_corrscore_val': 1.0, 'MK/E prog_mse_val': 0.0, 'MK/E prog_corrscore_val': 1.0} elapsed time =  337.812\n",
      "Average: mse_train                    0.836048\n",
      "corrscore_train              0.570053\n",
      "mse_val                      1.100691\n",
      "corrscore_val                0.382791\n",
      "Naive CD20+ B_mse_train      0.769136\n",
      "                               ...   \n",
      "ILC_corrscore_val            1.000000\n",
      "MK/E prog_mse_train          0.000000\n",
      "MK/E prog_corrscore_train    1.000000\n",
      "MK/E prog_mse_val            0.000000\n",
      "MK/E prog_corrscore_val      1.000000\n",
      "Length: 84, dtype: float64\n",
      "train model to predict with test data\n",
      "skip pre_post_process fit\n",
      "Changing upper quantile to 0.999\n",
      "dataset size 374\n",
      "start to train\n",
      "epoch: 0 total time: 8.5, epoch time: 8.4, loss: 4.469 loss_corr:-0.325 loss_mse: 3.620 loss_res_mse: 1.480 loss_total_corr:-0.306 \n",
      "epoch: 1 total time: 17.0, epoch time: 8.4, loss: 4.429 loss_corr:-0.328 loss_mse: 3.599 loss_res_mse: 1.466 loss_total_corr:-0.309 \n",
      "epoch: 2 total time: 25.3, epoch time: 8.2, loss: 4.342 loss_corr:-0.335 loss_mse: 3.546 loss_res_mse: 1.445 loss_total_corr:-0.315 \n",
      "epoch: 3 total time: 33.6, epoch time: 8.3, loss: 4.194 loss_corr:-0.356 loss_mse: 3.490 loss_res_mse: 1.391 loss_total_corr:-0.332 \n",
      "epoch: 4 total time: 41.7, epoch time: 8.0, loss: 4.257 loss_corr:-0.347 loss_mse: 3.535 loss_res_mse: 1.388 loss_total_corr:-0.320 \n",
      "epoch: 5 total time: 49.9, epoch time: 8.1, loss: 4.033 loss_corr:-0.369 loss_mse: 3.427 loss_res_mse: 1.311 loss_total_corr:-0.337 \n",
      "epoch: 6 total time: 57.9, epoch time: 8.0, loss: 4.053 loss_corr:-0.360 loss_mse: 3.446 loss_res_mse: 1.288 loss_total_corr:-0.321 \n",
      "epoch: 7 total time: 66.2, epoch time: 8.2, loss: 3.919 loss_corr:-0.368 loss_mse: 3.381 loss_res_mse: 1.227 loss_total_corr:-0.320 \n",
      "epoch: 8 total time: 75.1, epoch time: 8.8, loss: 3.818 loss_corr:-0.377 loss_mse: 3.333 loss_res_mse: 1.182 loss_total_corr:-0.321 \n",
      "epoch: 9 total time: 83.3, epoch time: 8.1, loss: 3.872 loss_corr:-0.369 loss_mse: 3.378 loss_res_mse: 1.170 loss_total_corr:-0.308 \n",
      "epoch: 10 total time: 91.7, epoch time: 8.4, loss: 3.544 loss_corr:-0.407 loss_mse: 3.214 loss_res_mse: 1.084 loss_total_corr:-0.348 \n",
      "epoch: 11 total time: 100.1, epoch time: 8.3, loss: 3.451 loss_corr:-0.386 loss_mse: 3.328 loss_res_mse: 1.131 loss_total_corr:-0.329 \n",
      "epoch: 12 total time: 108.6, epoch time: 8.4, loss: 3.036 loss_corr:-0.409 loss_mse: 3.244 loss_res_mse: 1.116 loss_total_corr:-0.354 \n",
      "epoch: 13 total time: 119.6, epoch time: 10.9, loss: 2.899 loss_corr:-0.390 loss_mse: 3.309 loss_res_mse: 1.162 loss_total_corr:-0.333 \n",
      "epoch: 14 total time: 128.0, epoch time: 8.3, loss: 2.242 loss_corr:-0.445 loss_mse: 3.066 loss_res_mse: 1.044 loss_total_corr:-0.400 \n",
      "epoch: 15 total time: 136.2, epoch time: 8.2, loss: 2.092 loss_corr:-0.431 loss_mse: 3.123 loss_res_mse: 1.069 loss_total_corr:-0.388 \n",
      "epoch: 16 total time: 144.7, epoch time: 8.3, loss: 1.737 loss_corr:-0.448 loss_mse: 3.035 loss_res_mse: 1.022 loss_total_corr:-0.411 \n",
      "epoch: 17 total time: 153.6, epoch time: 8.8, loss: 1.797 loss_corr:-0.406 loss_mse: 3.280 loss_res_mse: 1.097 loss_total_corr:-0.369 \n",
      "epoch: 18 total time: 163.0, epoch time: 9.4, loss: 1.304 loss_corr:-0.455 loss_mse: 3.040 loss_res_mse: 1.015 loss_total_corr:-0.421 \n",
      "epoch: 19 total time: 172.0, epoch time: 8.9, loss: 1.061 loss_corr:-0.466 loss_mse: 2.994 loss_res_mse: 0.998 loss_total_corr:-0.429 \n",
      "epoch: 20 total time: 180.8, epoch time: 8.8, loss: 1.069 loss_corr:-0.422 loss_mse: 3.178 loss_res_mse: 1.061 loss_total_corr:-0.393 \n",
      "epoch: 21 total time: 190.1, epoch time: 9.1, loss: 0.749 loss_corr:-0.448 loss_mse: 3.011 loss_res_mse: 1.018 loss_total_corr:-0.419 \n",
      "epoch: 22 total time: 198.7, epoch time: 8.5, loss: 0.513 loss_corr:-0.468 loss_mse: 2.956 loss_res_mse: 0.993 loss_total_corr:-0.441 \n",
      "epoch: 23 total time: 207.1, epoch time: 8.4, loss: 0.357 loss_corr:-0.471 loss_mse: 2.981 loss_res_mse: 0.981 loss_total_corr:-0.444 \n",
      "epoch: 24 total time: 216.6, epoch time: 9.4, loss: 0.206 loss_corr:-0.470 loss_mse: 2.963 loss_res_mse: 0.982 loss_total_corr:-0.446 \n",
      "epoch: 25 total time: 225.3, epoch time: 8.6, loss: 0.072 loss_corr:-0.469 loss_mse: 2.965 loss_res_mse: 0.985 loss_total_corr:-0.447 \n",
      "epoch: 26 total time: 233.5, epoch time: 8.1, loss:-0.141 loss_corr:-0.495 loss_mse: 2.852 loss_res_mse: 0.944 loss_total_corr:-0.472 \n",
      "epoch: 27 total time: 241.7, epoch time: 8.2, loss:-0.302 loss_corr:-0.510 loss_mse: 2.772 loss_res_mse: 0.925 loss_total_corr:-0.486 \n",
      "epoch: 28 total time: 250.1, epoch time: 8.3, loss:-0.347 loss_corr:-0.491 loss_mse: 2.878 loss_res_mse: 0.956 loss_total_corr:-0.469 \n",
      "epoch: 29 total time: 259.1, epoch time: 8.8, loss:-0.426 loss_corr:-0.480 loss_mse: 2.886 loss_res_mse: 0.970 loss_total_corr:-0.464 \n",
      "epoch: 30 total time: 267.1, epoch time: 8.0, loss:-0.459 loss_corr:-0.462 loss_mse: 3.008 loss_res_mse: 1.006 loss_total_corr:-0.444 \n",
      "epoch: 31 total time: 276.2, epoch time: 9.0, loss:-0.656 loss_corr:-0.506 loss_mse: 2.804 loss_res_mse: 0.937 loss_total_corr:-0.487 \n",
      "epoch: 32 total time: 285.3, epoch time: 9.0, loss:-0.699 loss_corr:-0.494 loss_mse: 2.846 loss_res_mse: 0.957 loss_total_corr:-0.475 \n",
      "epoch: 33 total time: 294.5, epoch time: 9.1, loss:-0.745 loss_corr:-0.486 loss_mse: 2.910 loss_res_mse: 0.967 loss_total_corr:-0.470 \n",
      "epoch: 34 total time: 302.9, epoch time: 8.4, loss:-0.794 loss_corr:-0.482 loss_mse: 2.925 loss_res_mse: 0.978 loss_total_corr:-0.468 \n",
      "epoch: 35 total time: 312.7, epoch time: 9.7, loss:-0.841 loss_corr:-0.483 loss_mse: 2.897 loss_res_mse: 0.977 loss_total_corr:-0.466 \n",
      "epoch: 36 total time: 322.0, epoch time: 9.1, loss:-0.940 loss_corr:-0.511 loss_mse: 2.810 loss_res_mse: 0.929 loss_total_corr:-0.495 \n",
      "epoch: 37 total time: 331.6, epoch time: 9.5, loss:-0.850 loss_corr:-0.453 loss_mse: 3.084 loss_res_mse: 1.026 loss_total_corr:-0.439 \n",
      "epoch: 38 total time: 340.8, epoch time: 9.1, loss:-0.975 loss_corr:-0.505 loss_mse: 2.843 loss_res_mse: 0.940 loss_total_corr:-0.487 \n",
      "epoch: 39 total time: 349.6, epoch time: 8.7, loss:-0.954 loss_corr:-0.487 loss_mse: 2.887 loss_res_mse: 0.974 loss_total_corr:-0.472 \n",
      "completed training\n",
      "model parameter summary:\n",
      "\ty_loc:\t\t\t4.7986e-02 +- 6.2096e-01. max=6.8451e+00 min=-1.3426e+00\n",
      "\ty_scale:\t\t\t1.5892e+00 +- 8.0467e-01. max=5.2202e+00 min=7.2574e-01\n",
      "\tinputs_decomposer_components:\t\t\t4.7752e-04 +- 3.2121e-02. max=2.3203e-01 min=-1.7389e-01\n",
      "\ttargets_decomposer_components:\t\t\t5.5345e-04 +- 4.4853e-02. max=8.5450e-01 min=-5.1038e-01\n",
      "\ttargets_global_median:\t\t\t-1.5964e-01 +- 1.7323e-01. max=2.4594e+00 min=-2.5518e-01\n",
      "\tgender_embedding:\t\t\t4.9131e-01 +- 2.8698e-01. max=1.0001e+00 min=6.4683e-04\n",
      "\tencoder.layers.0.fc.weight:\t\t\t7.0389e-06 +- 1.2776e-02. max=2.5762e-02 min=-2.5842e-02\n",
      "\tencoder.layers.0.norm.weight:\t\t\t1.0003e+00 +- 1.1748e-03. max=1.0055e+00 min=9.9719e-01\n",
      "\tencoder.layers.0.norm.bias:\t\t\t1.4976e-05 +- 8.9538e-04. max=2.2539e-03 min=-2.8573e-03\n",
      "\tencoder.out_fc.weight:\t\t\t-7.5488e-06 +- 1.2770e-02. max=2.4598e-02 min=-2.4586e-02\n",
      "\tencoder.out_fc.bias:\t\t\t2.3892e-04 +- 1.2761e-02. max=2.2330e-02 min=-2.2416e-02\n",
      "\tdecoder.in_fc.weight:\t\t\t-1.0287e-05 +- 1.2763e-02. max=2.4524e-02 min=-2.4456e-02\n",
      "\tdecoder.in_fc.bias:\t\t\t-3.0772e-04 +- 1.3034e-02. max=2.2475e-02 min=-2.2746e-02\n",
      "\tdecoder.layers.0.fc.weight:\t\t\t6.3485e-06 +- 1.2753e-02. max=2.4581e-02 min=-2.4517e-02\n",
      "\tdecoder.layers.0.norm.weight:\t\t\t9.9927e-01 +- 5.6042e-04. max=1.0012e+00 min=9.9645e-01\n",
      "\tdecoder.layers.0.norm.bias:\t\t\t3.0866e-05 +- 5.3774e-04. max=1.5368e-03 min=-2.3862e-03\n",
      "\tdecoder.layers.1.fc.weight:\t\t\t-1.3516e-06 +- 1.2736e-02. max=2.5297e-02 min=-2.4775e-02\n",
      "\tdecoder.layers.1.norm.weight:\t\t\t9.9911e-01 +- 6.1405e-04. max=1.0012e+00 min=9.9570e-01\n",
      "\tdecoder.layers.1.norm.bias:\t\t\t6.0316e-05 +- 5.4284e-04. max=2.2691e-03 min=-2.3937e-03\n",
      "\tdecoder.layers.2.fc.weight:\t\t\t5.0935e-06 +- 1.2744e-02. max=2.7126e-02 min=-2.5553e-02\n",
      "\tdecoder.layers.2.norm.weight:\t\t\t9.9888e-01 +- 6.7771e-04. max=1.0012e+00 min=9.9544e-01\n",
      "\tdecoder.layers.2.norm.bias:\t\t\t4.4678e-05 +- 5.8757e-04. max=1.7774e-03 min=-2.4505e-03\n",
      "\tdecoder.layers.3.fc.weight:\t\t\t-1.8844e-06 +- 1.2731e-02. max=2.6468e-02 min=-2.5169e-02\n",
      "\tdecoder.layers.3.norm.weight:\t\t\t9.9860e-01 +- 7.6205e-04. max=1.0004e+00 min=9.9399e-01\n",
      "\tdecoder.layers.3.norm.bias:\t\t\t7.9941e-05 +- 6.6347e-04. max=2.1321e-03 min=-3.7037e-03\n",
      "\tdecoder.layers.4.fc.weight:\t\t\t-2.7255e-06 +- 1.2719e-02. max=2.4209e-02 min=-2.3885e-02\n",
      "\tdecoder.layers.4.norm.weight:\t\t\t9.9796e-01 +- 9.4075e-04. max=9.9989e-01 min=9.9258e-01\n",
      "\tdecoder.layers.4.norm.bias:\t\t\t1.0162e-04 +- 9.7034e-04. max=2.2323e-03 min=-4.7689e-03\n",
      "\tencoder_in_fc.weight:\t\t\t1.4542e-05 +- 3.5737e-02. max=6.6386e-02 min=-6.6661e-02\n",
      "\tencoder_in_fc.bias:\t\t\t-2.5785e-04 +- 3.5470e-02. max=6.3522e-02 min=-6.2432e-02\n",
      "\tdecoder_out_fcs.0.weight:\t\t\t-7.6230e-06 +- 1.2758e-02. max=2.6798e-02 min=-2.7217e-02\n",
      "\tdecoder_out_fcs.0.bias:\t\t\t-3.4827e-04 +- 1.2805e-02. max=2.2506e-02 min=-2.1837e-02\n",
      "\tdecoder_out_fcs.1.weight:\t\t\t1.2298e-05 +- 1.2585e-02. max=2.4917e-02 min=-2.4957e-02\n",
      "\tdecoder_out_fcs.1.bias:\t\t\t-1.0223e-03 +- 1.3088e-02. max=2.1775e-02 min=-2.1451e-02\n",
      "\tdecoder_out_fcs.2.weight:\t\t\t8.8380e-06 +- 1.2542e-02. max=2.4222e-02 min=-2.4731e-02\n",
      "\tdecoder_out_fcs.2.bias:\t\t\t-2.6870e-05 +- 1.1978e-02. max=2.2255e-02 min=-2.1884e-02\n",
      "\tdecoder_out_fcs.3.weight:\t\t\t-1.4839e-05 +- 1.2534e-02. max=2.4516e-02 min=-2.4027e-02\n",
      "\tdecoder_out_fcs.3.bias:\t\t\t-7.2647e-04 +- 1.2577e-02. max=2.1307e-02 min=-2.2690e-02\n",
      "\tdecoder_out_fcs.4.weight:\t\t\t3.0635e-05 +- 1.2507e-02. max=2.4123e-02 min=-2.4069e-02\n",
      "\tdecoder_out_fcs.4.bias:\t\t\t-1.9538e-04 +- 1.3065e-02. max=2.0928e-02 min=-2.2867e-02\n",
      "\tdecoder_out_fcs.5.weight:\t\t\t4.3401e-06 +- 1.2493e-02. max=2.4144e-02 min=-2.4010e-02\n",
      "\tdecoder_out_fcs.5.bias:\t\t\t-7.1975e-04 +- 1.2413e-02. max=2.1777e-02 min=-2.2689e-02\n",
      "\tdecoder_out_res_fcs.0.weight:\t\t\t2.8881e-05 +- 1.2679e-02. max=2.8231e-02 min=-2.8269e-02\n",
      "\tdecoder_out_res_fcs.0.bias:\t\t\t5.1148e-04 +- 1.3420e-02. max=2.2821e-02 min=-2.5262e-02\n",
      "\tdecoder_out_res_fcs.1.weight:\t\t\t1.0457e-05 +- 1.2493e-02. max=2.5849e-02 min=-2.5769e-02\n",
      "\tdecoder_out_res_fcs.1.bias:\t\t\t4.5910e-04 +- 1.2803e-02. max=2.2698e-02 min=-2.2492e-02\n",
      "\tdecoder_out_res_fcs.2.weight:\t\t\t1.8570e-06 +- 1.2474e-02. max=2.5503e-02 min=-2.5805e-02\n",
      "\tdecoder_out_res_fcs.2.bias:\t\t\t4.0956e-04 +- 1.2666e-02. max=2.2318e-02 min=-2.3431e-02\n",
      "\tdecoder_out_res_fcs.3.weight:\t\t\t1.5931e-05 +- 1.2457e-02. max=2.5348e-02 min=-2.5385e-02\n",
      "\tdecoder_out_res_fcs.3.bias:\t\t\t-1.0227e-03 +- 1.2854e-02. max=2.2742e-02 min=-2.2270e-02\n",
      "\tdecoder_out_res_fcs.4.weight:\t\t\t1.4391e-05 +- 1.2435e-02. max=2.4858e-02 min=-2.5944e-02\n",
      "\tdecoder_out_res_fcs.4.bias:\t\t\t-1.5336e-05 +- 1.2339e-02. max=2.2679e-02 min=-2.2742e-02\n",
      "\tdecoder_out_res_fcs.5.weight:\t\t\t-5.9174e-06 +- 1.2423e-02. max=2.5479e-02 min=-2.5283e-02\n",
      "\tdecoder_out_res_fcs.5.bias:\t\t\t-9.5046e-04 +- 1.2656e-02. max=2.2969e-02 min=-2.2596e-02\n",
      "elapsed time =  357.267\n",
      "pridict with test data\n",
      "elapsed time =  0.281\n",
      "dump preprocess and model\n",
      "save results\n",
      "completed !\n"
     ]
    }
   ],
   "source": [
    "%%bash\n",
    "\n",
    "export DATA_DIR=/Users/vladimir.shitov/Documents/programming/OpenProblems2022Analysis/data/\n",
    "\n",
    "cd rank1/open-problems-multimodal/\n",
    "python3 script/make_compressed_dataset.py --data_dir ${DATA_DIR}\n",
    "python3 script/make_additional_files.py --data_dir ${DATA_DIR}\n",
    "python3 script/make_compressed_dataset.py --data_dir ${DATA_DIR}\n",
    "python3 script/train_model.py --data_dir ${DATA_DIR} --task_type multi "
   ]
  },
  {
   "cell_type": "markdown",
   "metadata": {},
   "source": [
    "The results are saved as pickled numpy array. Let's read them and calculate a correlation score to ground truth. We can import a function to compute the metric directly from competitor's code:"
   ]
  },
  {
   "cell_type": "code",
   "execution_count": 25,
   "metadata": {},
   "outputs": [],
   "source": [
    "import sys\n",
    "sys.path.append(\"rank1/open-problems-multimodal\")  # Make it possible to import from competitor's code\n",
    "\n",
    "from ss_opm.metric.correlation_score import correlation_score"
   ]
  },
  {
   "cell_type": "code",
   "execution_count": 26,
   "metadata": {},
   "outputs": [],
   "source": [
    "import pickle\n",
    "\n",
    "with open(\"rank1/open-problems-multimodal/result/multimodal_pred.pickle\", \"rb\") as f:\n",
    "    y_pred = pickle.load(f)"
   ]
  },
  {
   "cell_type": "code",
   "execution_count": 27,
   "metadata": {},
   "outputs": [
    {
     "data": {
      "text/plain": [
       "(126, 497)"
      ]
     },
     "execution_count": 27,
     "metadata": {},
     "output_type": "execute_result"
    }
   ],
   "source": [
    "y_pred.shape"
   ]
  },
  {
   "cell_type": "code",
   "execution_count": 28,
   "metadata": {},
   "outputs": [
    {
     "data": {
      "text/plain": [
       "array([[ 0.0813081 ,  0.0371041 , -0.25203303, ..., -0.27175885,\n",
       "        -0.14356263, -0.31657338],\n",
       "       [-0.6202765 ,  0.2970362 , -0.2643033 , ..., -0.32891843,\n",
       "        -0.00652082, -0.37576196],\n",
       "       [ 3.0143929 , -0.16087617, -0.48203787, ..., -0.3071232 ,\n",
       "        -0.3912091 , -0.4892507 ],\n",
       "       ...,\n",
       "       [ 1.8792413 ,  0.41418588, -0.45789668, ..., -0.33398178,\n",
       "        -0.05135709, -0.388742  ],\n",
       "       [ 3.2200477 , -0.09397589, -0.48668027, ..., -0.3343542 ,\n",
       "        -0.3164395 , -0.4438851 ],\n",
       "       [ 1.1289066 , -0.38751778, -0.29504016, ..., -0.03988038,\n",
       "        -0.22412674, -0.2041503 ]], dtype=float32)"
      ]
     },
     "execution_count": 28,
     "metadata": {},
     "output_type": "execute_result"
    }
   ],
   "source": [
    "y_pred"
   ]
  },
  {
   "cell_type": "code",
   "execution_count": 29,
   "metadata": {},
   "outputs": [
    {
     "data": {
      "text/plain": [
       "0.3395417297927301"
      ]
     },
     "execution_count": 29,
     "metadata": {},
     "output_type": "execute_result"
    }
   ],
   "source": [
    "y_true = adata_rna[adata_rna.obs[\"split\"] == \"test\"].X\n",
    "correlation_score(y_true, y_pred)"
   ]
  }
 ],
 "metadata": {
  "kernelspec": {
   "display_name": "2022_12_kaggle_ablation_study",
   "language": "python",
   "name": "python3"
  },
  "language_info": {
   "codemirror_mode": {
    "name": "ipython",
    "version": 3
   },
   "file_extension": ".py",
   "mimetype": "text/x-python",
   "name": "python",
   "nbconvert_exporter": "python",
   "pygments_lexer": "ipython3",
   "version": "3.8.20"
  }
 },
 "nbformat": 4,
 "nbformat_minor": 2
}
