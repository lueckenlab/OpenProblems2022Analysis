{
 "cells": [
  {
   "cell_type": "markdown",
   "metadata": {},
   "source": [
    "# Running Rank 1 models\n",
    "\n",
    "In this notebook, we will run rank 1 model with another dataset. At 2022 competition, rank 1 model excelled in Multiome prediction task, so we'll focus on it. CITE-seq model leverages a lot of the same code and has a very similar architecture, so it should be possible to run it as well, just put CITE-seq data instead of Multiome in this tutorial and change task_type to \"cite\" in the scripts."
   ]
  },
  {
   "cell_type": "code",
   "execution_count": 1,
   "metadata": {},
   "outputs": [
    {
     "name": "stderr",
     "output_type": "stream",
     "text": [
      "/Users/vladimir.shitov/miniconda3/envs/2022_12_kaggle_ablation_study/lib/python3.8/site-packages/tqdm/auto.py:21: TqdmWarning: IProgress not found. Please update jupyter and ipywidgets. See https://ipywidgets.readthedocs.io/en/stable/user_install.html\n",
      "  from .autonotebook import tqdm as notebook_tqdm\n"
     ]
    }
   ],
   "source": [
    "import pandas as pd\n",
    "import numpy as np\n",
    "import scanpy as sc\n",
    "from scanpy.preprocessing._utils import _get_mean_var\n",
    "import muon"
   ]
  },
  {
   "cell_type": "markdown",
   "metadata": {},
   "source": [
    "Download 2021 competition data from https://www.ncbi.nlm.nih.gov/geo/query/acc.cgi?acc=GSE194122"
   ]
  },
  {
   "cell_type": "code",
   "execution_count": 2,
   "metadata": {},
   "outputs": [],
   "source": [
    "adata = sc.read_h5ad(\"../data/GSE194122_openproblems_neurips2021_multiome_BMMC_processed.h5ad\")"
   ]
  },
  {
   "cell_type": "markdown",
   "metadata": {},
   "source": [
    "The dataset has both modalities, ATAC-seq and RNA in one AnnData object. Let's split modalities"
   ]
  },
  {
   "cell_type": "code",
   "execution_count": 3,
   "metadata": {},
   "outputs": [
    {
     "data": {
      "text/plain": [
       "AnnData object with n_obs × n_vars = 69249 × 129921\n",
       "    obs: 'GEX_pct_counts_mt', 'GEX_n_counts', 'GEX_n_genes', 'GEX_size_factors', 'GEX_phase', 'ATAC_nCount_peaks', 'ATAC_atac_fragments', 'ATAC_reads_in_peaks_frac', 'ATAC_blacklist_fraction', 'ATAC_nucleosome_signal', 'cell_type', 'batch', 'ATAC_pseudotime_order', 'GEX_pseudotime_order', 'Samplename', 'Site', 'DonorNumber', 'Modality', 'VendorLot', 'DonorID', 'DonorAge', 'DonorBMI', 'DonorBloodType', 'DonorRace', 'Ethnicity', 'DonorGender', 'QCMeds', 'DonorSmoker'\n",
       "    var: 'feature_types', 'gene_id'\n",
       "    uns: 'ATAC_gene_activity_var_names', 'dataset_id', 'genome', 'organism'\n",
       "    obsm: 'ATAC_gene_activity', 'ATAC_lsi_full', 'ATAC_lsi_red', 'ATAC_umap', 'GEX_X_pca', 'GEX_X_umap'\n",
       "    layers: 'counts'"
      ]
     },
     "execution_count": 3,
     "metadata": {},
     "output_type": "execute_result"
    }
   ],
   "source": [
    "adata"
   ]
  },
  {
   "cell_type": "code",
   "execution_count": null,
   "metadata": {},
   "outputs": [
    {
     "data": {
      "text/plain": [
       "feature_types\n",
       "ATAC    116490\n",
       "GEX      13431\n",
       "Name: count, dtype: int64"
      ]
     },
     "execution_count": 4,
     "metadata": {},
     "output_type": "execute_result"
    }
   ],
   "source": [
    "adata.var[\"feature_types\"].value_counts()"
   ]
  },
  {
   "cell_type": "markdown",
   "metadata": {},
   "source": [
    "In this example notebook, we'll subset data to a small number of cells for faster testing"
   ]
  },
  {
   "cell_type": "code",
   "execution_count": 5,
   "metadata": {},
   "outputs": [],
   "source": [
    "random_cells = np.random.choice(adata.n_obs, size=500, replace=False)"
   ]
  },
  {
   "cell_type": "code",
   "execution_count": 6,
   "metadata": {},
   "outputs": [],
   "source": [
    "adata = adata[random_cells, :].copy()"
   ]
  },
  {
   "cell_type": "code",
   "execution_count": 7,
   "metadata": {},
   "outputs": [
    {
     "data": {
      "text/plain": [
       "View of AnnData object with n_obs × n_vars = 500 × 13431\n",
       "    obs: 'GEX_pct_counts_mt', 'GEX_n_counts', 'GEX_n_genes', 'GEX_size_factors', 'GEX_phase', 'ATAC_nCount_peaks', 'ATAC_atac_fragments', 'ATAC_reads_in_peaks_frac', 'ATAC_blacklist_fraction', 'ATAC_nucleosome_signal', 'cell_type', 'batch', 'ATAC_pseudotime_order', 'GEX_pseudotime_order', 'Samplename', 'Site', 'DonorNumber', 'Modality', 'VendorLot', 'DonorID', 'DonorAge', 'DonorBMI', 'DonorBloodType', 'DonorRace', 'Ethnicity', 'DonorGender', 'QCMeds', 'DonorSmoker'\n",
       "    var: 'feature_types', 'gene_id'\n",
       "    uns: 'ATAC_gene_activity_var_names', 'dataset_id', 'genome', 'organism'\n",
       "    obsm: 'ATAC_gene_activity', 'ATAC_lsi_full', 'ATAC_lsi_red', 'ATAC_umap', 'GEX_X_pca', 'GEX_X_umap'\n",
       "    layers: 'counts'"
      ]
     },
     "execution_count": 7,
     "metadata": {},
     "output_type": "execute_result"
    }
   ],
   "source": [
    "adata_rna = adata[:, adata.var[\"feature_types\"] == \"GEX\"]\n",
    "adata_rna"
   ]
  },
  {
   "cell_type": "code",
   "execution_count": 8,
   "metadata": {},
   "outputs": [
    {
     "data": {
      "text/plain": [
       "View of AnnData object with n_obs × n_vars = 500 × 116490\n",
       "    obs: 'GEX_pct_counts_mt', 'GEX_n_counts', 'GEX_n_genes', 'GEX_size_factors', 'GEX_phase', 'ATAC_nCount_peaks', 'ATAC_atac_fragments', 'ATAC_reads_in_peaks_frac', 'ATAC_blacklist_fraction', 'ATAC_nucleosome_signal', 'cell_type', 'batch', 'ATAC_pseudotime_order', 'GEX_pseudotime_order', 'Samplename', 'Site', 'DonorNumber', 'Modality', 'VendorLot', 'DonorID', 'DonorAge', 'DonorBMI', 'DonorBloodType', 'DonorRace', 'Ethnicity', 'DonorGender', 'QCMeds', 'DonorSmoker'\n",
       "    var: 'feature_types', 'gene_id'\n",
       "    uns: 'ATAC_gene_activity_var_names', 'dataset_id', 'genome', 'organism'\n",
       "    obsm: 'ATAC_gene_activity', 'ATAC_lsi_full', 'ATAC_lsi_red', 'ATAC_umap', 'GEX_X_pca', 'GEX_X_umap'\n",
       "    layers: 'counts'"
      ]
     },
     "execution_count": 8,
     "metadata": {},
     "output_type": "execute_result"
    }
   ],
   "source": [
    "adata_atac = adata[:, adata.var[\"feature_types\"] == \"ATAC\"]\n",
    "adata_atac"
   ]
  },
  {
   "cell_type": "markdown",
   "metadata": {},
   "source": [
    "Let's further reduce the number of features to 500 for RNA and 1000 for ATAC for faster testing."
   ]
  },
  {
   "cell_type": "code",
   "execution_count": 9,
   "metadata": {},
   "outputs": [
    {
     "data": {
      "text/plain": [
       "View of AnnData object with n_obs × n_vars = 500 × 500\n",
       "    obs: 'GEX_pct_counts_mt', 'GEX_n_counts', 'GEX_n_genes', 'GEX_size_factors', 'GEX_phase', 'ATAC_nCount_peaks', 'ATAC_atac_fragments', 'ATAC_reads_in_peaks_frac', 'ATAC_blacklist_fraction', 'ATAC_nucleosome_signal', 'cell_type', 'batch', 'ATAC_pseudotime_order', 'GEX_pseudotime_order', 'Samplename', 'Site', 'DonorNumber', 'Modality', 'VendorLot', 'DonorID', 'DonorAge', 'DonorBMI', 'DonorBloodType', 'DonorRace', 'Ethnicity', 'DonorGender', 'QCMeds', 'DonorSmoker'\n",
       "    var: 'feature_types', 'gene_id'\n",
       "    uns: 'ATAC_gene_activity_var_names', 'dataset_id', 'genome', 'organism'\n",
       "    obsm: 'ATAC_gene_activity', 'ATAC_lsi_full', 'ATAC_lsi_red', 'ATAC_umap', 'GEX_X_pca', 'GEX_X_umap'\n",
       "    layers: 'counts'"
      ]
     },
     "execution_count": 9,
     "metadata": {},
     "output_type": "execute_result"
    }
   ],
   "source": [
    "adata_rna = adata_rna[:, np.random.choice(adata_rna.var_names, size=500, replace=False)]\n",
    "adata_rna"
   ]
  },
  {
   "cell_type": "code",
   "execution_count": 10,
   "metadata": {},
   "outputs": [
    {
     "data": {
      "text/plain": [
       "View of AnnData object with n_obs × n_vars = 500 × 1000\n",
       "    obs: 'GEX_pct_counts_mt', 'GEX_n_counts', 'GEX_n_genes', 'GEX_size_factors', 'GEX_phase', 'ATAC_nCount_peaks', 'ATAC_atac_fragments', 'ATAC_reads_in_peaks_frac', 'ATAC_blacklist_fraction', 'ATAC_nucleosome_signal', 'cell_type', 'batch', 'ATAC_pseudotime_order', 'GEX_pseudotime_order', 'Samplename', 'Site', 'DonorNumber', 'Modality', 'VendorLot', 'DonorID', 'DonorAge', 'DonorBMI', 'DonorBloodType', 'DonorRace', 'Ethnicity', 'DonorGender', 'QCMeds', 'DonorSmoker'\n",
       "    var: 'feature_types', 'gene_id'\n",
       "    uns: 'ATAC_gene_activity_var_names', 'dataset_id', 'genome', 'organism'\n",
       "    obsm: 'ATAC_gene_activity', 'ATAC_lsi_full', 'ATAC_lsi_red', 'ATAC_umap', 'GEX_X_pca', 'GEX_X_umap'\n",
       "    layers: 'counts'"
      ]
     },
     "execution_count": 10,
     "metadata": {},
     "output_type": "execute_result"
    }
   ],
   "source": [
    "adata_atac = adata_atac[:, np.random.choice(adata_atac.var_names, size=1000, replace=False)]\n",
    "adata_atac"
   ]
  },
  {
   "cell_type": "markdown",
   "metadata": {},
   "source": [
    "Before modality prediction, apply QC to your dataset, otherwise the code will likely fail. Here, we'll simply remove cells with 0 RNA counts or open chromatin regions, and filter out constant features."
   ]
  },
  {
   "cell_type": "code",
   "execution_count": 11,
   "metadata": {},
   "outputs": [],
   "source": [
    "non_empty_cells = (adata_rna.X.sum(axis=1) != 0) & (adata_atac.X.sum(axis=1) != 0)"
   ]
  },
  {
   "cell_type": "code",
   "execution_count": 12,
   "metadata": {},
   "outputs": [],
   "source": [
    "adata_rna = adata_rna[non_empty_cells, :]\n",
    "adata_atac = adata_atac[non_empty_cells, :]"
   ]
  },
  {
   "cell_type": "code",
   "execution_count": 13,
   "metadata": {},
   "outputs": [
    {
     "data": {
      "text/plain": [
       "(499, 491)"
      ]
     },
     "execution_count": 13,
     "metadata": {},
     "output_type": "execute_result"
    }
   ],
   "source": [
    "rna_means, rna_vars = _get_mean_var(adata_rna.X)\n",
    "adata_rna = adata_rna[:, rna_vars != 0]\n",
    "adata_rna.shape"
   ]
  },
  {
   "cell_type": "code",
   "execution_count": 14,
   "metadata": {},
   "outputs": [
    {
     "data": {
      "text/plain": [
       "(499, 964)"
      ]
     },
     "execution_count": 14,
     "metadata": {},
     "output_type": "execute_result"
    }
   ],
   "source": [
    "atac_means, atac_vars = _get_mean_var(adata_atac.X)\n",
    "adata_atac = adata_atac[:, atac_vars != 0]\n",
    "adata_atac.shape"
   ]
  },
  {
   "cell_type": "markdown",
   "metadata": {},
   "source": [
    "Normalize ATAC data with TF-IDF. Note that RNA data must be library-size and log1p normalized as well."
   ]
  },
  {
   "cell_type": "code",
   "execution_count": 15,
   "metadata": {},
   "outputs": [
    {
     "name": "stderr",
     "output_type": "stream",
     "text": [
      "/Users/vladimir.shitov/miniconda3/envs/2022_12_kaggle_ablation_study/lib/python3.8/site-packages/muon/_atac/preproc.py:84: UserWarning: Received a view of an AnnData. Making a copy.\n",
      "  view_to_actual(adata)\n"
     ]
    },
    {
     "data": {
      "text/plain": [
       "array([[ 0.      ,  0.      ,  0.      ,  0.      ,  0.      ,  0.      ,\n",
       "         0.      ,  0.      ,  0.      ,  0.      ],\n",
       "       [ 0.      ,  0.      ,  0.      ,  0.      ,  0.      ,  0.      ,\n",
       "        16.419798,  0.      ,  0.      ,  0.      ],\n",
       "       [ 0.      ,  0.      ,  0.      ,  0.      ,  0.      ,  0.      ,\n",
       "        20.047827,  0.      ,  0.      ,  0.      ],\n",
       "       [ 0.      ,  0.      ,  0.      ,  0.      ,  0.      ,  0.      ,\n",
       "         0.      ,  0.      ,  0.      ,  0.      ],\n",
       "       [ 0.      ,  0.      ,  0.      ,  0.      ,  0.      ,  0.      ,\n",
       "         0.      ,  0.      ,  0.      ,  0.      ],\n",
       "       [ 0.      ,  0.      ,  0.      ,  0.      ,  0.      ,  0.      ,\n",
       "         0.      ,  0.      ,  0.      ,  0.      ],\n",
       "       [ 0.      ,  0.      ,  0.      ,  0.      ,  0.      ,  0.      ,\n",
       "         0.      ,  0.      ,  0.      ,  0.      ],\n",
       "       [ 0.      ,  0.      ,  0.      ,  0.      ,  0.      ,  0.      ,\n",
       "         0.      ,  0.      ,  0.      ,  0.      ],\n",
       "       [ 0.      ,  0.      ,  0.      ,  0.      ,  0.      ,  0.      ,\n",
       "         0.      ,  0.      ,  0.      ,  0.      ],\n",
       "       [ 0.      ,  0.      ,  0.      ,  0.      ,  0.      ,  0.      ,\n",
       "         0.      ,  0.      ,  0.      ,  0.      ]], dtype=float32)"
      ]
     },
     "execution_count": 15,
     "metadata": {},
     "output_type": "execute_result"
    }
   ],
   "source": [
    "muon.atac.pp.tfidf(adata_atac)\n",
    "adata_atac.X[:10, :10].toarray()"
   ]
  },
  {
   "cell_type": "code",
   "execution_count": 16,
   "metadata": {},
   "outputs": [],
   "source": [
    "adata_rna.write_h5ad(\"../data/adata_rna_subset.h5ad\")\n",
    "adata_atac.write_h5ad(\"../data/adata_atac_subset.h5ad\")"
   ]
  },
  {
   "cell_type": "markdown",
   "metadata": {},
   "source": [
    "# Format the data correctly"
   ]
  },
  {
   "cell_type": "markdown",
   "metadata": {},
   "source": [
    "To run the model, we need to save our data to the following files:\n",
    "- test_multi_inputs.h5\n",
    "- train_multi_inputs.h5\n",
    "- train_multi_targets.h5\n",
    "\n",
    "If you want to use CITE-seq model too, the you'll additionally need:\n",
    "- test_cite_inputs\n",
    "- train_cite_inputs\n",
    "- train_cite_targets\n",
    "\n",
    "Additionally, we must save test set labels to the \"evaluation_ids.csv\" file with \"cell_id\" column"
   ]
  },
  {
   "cell_type": "code",
   "execution_count": 17,
   "metadata": {},
   "outputs": [
    {
     "data": {
      "text/plain": [
       "DonorID\n",
       "15078    123\n",
       "19593     85\n",
       "18303     62\n",
       "12710     48\n",
       "16710     45\n",
       "28483     43\n",
       "10886     42\n",
       "13272     34\n",
       "11466     11\n",
       "28045      6\n",
       "Name: count, dtype: int64"
      ]
     },
     "execution_count": 17,
     "metadata": {},
     "output_type": "execute_result"
    }
   ],
   "source": [
    "adata_rna.obs[\"DonorID\"].value_counts()"
   ]
  },
  {
   "cell_type": "markdown",
   "metadata": {},
   "source": [
    "Let's use donor 15078 as a test"
   ]
  },
  {
   "cell_type": "code",
   "execution_count": 18,
   "metadata": {},
   "outputs": [
    {
     "name": "stderr",
     "output_type": "stream",
     "text": [
      "/var/folders/p9/74j47tdn36n6s2vcv_5079q0s4wk4h/T/ipykernel_94888/2536117573.py:1: ImplicitModificationWarning: Trying to modify attribute `.obs` of view, initializing view as actual.\n",
      "  adata_rna.obs[\"split\"] = \"train\"\n"
     ]
    }
   ],
   "source": [
    "adata_rna.obs[\"split\"] = \"train\"\n",
    "adata_rna.obs.loc[adata_rna.obs[\"DonorID\"] == 15078, \"split\"] = \"test\"\n",
    "adata_atac.obs[\"split\"] = adata_rna.obs[\"split\"]"
   ]
  },
  {
   "cell_type": "code",
   "execution_count": 19,
   "metadata": {},
   "outputs": [
    {
     "name": "stderr",
     "output_type": "stream",
     "text": [
      "/Users/vladimir.shitov/miniconda3/envs/2022_12_kaggle_ablation_study/lib/python3.8/site-packages/anndata/_core/anndata.py:1230: ImplicitModificationWarning: Trying to modify attribute `.obs` of view, initializing view as actual.\n",
      "  df[key] = c\n",
      "/Users/vladimir.shitov/miniconda3/envs/2022_12_kaggle_ablation_study/lib/python3.8/site-packages/anndata/_core/anndata.py:1230: ImplicitModificationWarning: Trying to modify attribute `.obs` of view, initializing view as actual.\n",
      "  df[key] = c\n",
      "/Users/vladimir.shitov/miniconda3/envs/2022_12_kaggle_ablation_study/lib/python3.8/site-packages/anndata/_core/anndata.py:1230: ImplicitModificationWarning: Trying to modify attribute `.obs` of view, initializing view as actual.\n",
      "  df[key] = c\n"
     ]
    }
   ],
   "source": [
    "adata_rna[adata_rna.obs[\"split\"] == \"train\"].write_h5ad(\"../data/train_multi_targets.h5\")\n",
    "adata_atac[adata_atac.obs[\"split\"] == \"train\"].write_h5ad(\"../data/train_multi_inputs.h5\")\n",
    "adata_atac[adata_atac.obs[\"split\"] == \"test\"].write_h5ad(\"../data/test_multi_inputs.h5\")"
   ]
  },
  {
   "cell_type": "markdown",
   "metadata": {},
   "source": [
    "We also need to save metadata to a file. Note that in the current implementation, the metadata column **must** be named \"day\", \"donor\", \"technology\", \"cell_type\", and \"cell_id\". Day must be a number"
   ]
  },
  {
   "cell_type": "code",
   "execution_count": 20,
   "metadata": {},
   "outputs": [
    {
     "data": {
      "text/plain": [
       "Index(['GEX_pct_counts_mt', 'GEX_n_counts', 'GEX_n_genes', 'GEX_size_factors',\n",
       "       'GEX_phase', 'ATAC_nCount_peaks', 'ATAC_atac_fragments',\n",
       "       'ATAC_reads_in_peaks_frac', 'ATAC_blacklist_fraction',\n",
       "       'ATAC_nucleosome_signal', 'cell_type', 'batch', 'ATAC_pseudotime_order',\n",
       "       'GEX_pseudotime_order', 'Samplename', 'Site', 'DonorNumber', 'Modality',\n",
       "       'VendorLot', 'DonorID', 'DonorAge', 'DonorBMI', 'DonorBloodType',\n",
       "       'DonorRace', 'Ethnicity', 'DonorGender', 'QCMeds', 'DonorSmoker',\n",
       "       'split'],\n",
       "      dtype='object')"
      ]
     },
     "execution_count": 20,
     "metadata": {},
     "output_type": "execute_result"
    }
   ],
   "source": [
    "adata_rna.obs.columns"
   ]
  },
  {
   "cell_type": "code",
   "execution_count": 21,
   "metadata": {},
   "outputs": [],
   "source": [
    "adata_rna.obs[\"day\"] = adata_rna.obs[\"batch\"].str[3:]\n",
    "adata_rna.obs[\"donor\"] = adata_rna.obs[\"DonorID\"]\n",
    "adata_rna.obs[\"technology\"] = adata_rna.obs[\"Modality\"]\n",
    "adata.obs.index.name = \"cell_id\""
   ]
  },
  {
   "cell_type": "code",
   "execution_count": 22,
   "metadata": {},
   "outputs": [],
   "source": [
    "adata_rna.obs[[\"day\", \"donor\", \"technology\", \"cell_type\"]].reset_index(names=\"cell_id\").to_csv(\"../data/metadata.csv\")"
   ]
  },
  {
   "cell_type": "markdown",
   "metadata": {},
   "source": [
    "Small function to save the data in the appropriate format:"
   ]
  },
  {
   "cell_type": "code",
   "execution_count": 23,
   "metadata": {},
   "outputs": [
    {
     "name": "stderr",
     "output_type": "stream",
     "text": [
      "/Users/vladimir.shitov/miniconda3/envs/2022_12_kaggle_ablation_study/lib/python3.8/site-packages/tables/path.py:137: NaturalNameWarning: object name is not a valid Python identifier: 'train_multi_targets.h5'; it does not match the pattern ``^[a-zA-Z_][a-zA-Z0-9_]*$``; you will not be able to use natural naming to access this object; using ``getattr()`` will still work, though\n",
      "  check_attribute_name(name)\n",
      "/Users/vladimir.shitov/miniconda3/envs/2022_12_kaggle_ablation_study/lib/python3.8/site-packages/tables/path.py:137: NaturalNameWarning: object name is not a valid Python identifier: 'train_multi_inputs.h5'; it does not match the pattern ``^[a-zA-Z_][a-zA-Z0-9_]*$``; you will not be able to use natural naming to access this object; using ``getattr()`` will still work, though\n",
      "  check_attribute_name(name)\n",
      "/Users/vladimir.shitov/miniconda3/envs/2022_12_kaggle_ablation_study/lib/python3.8/site-packages/tables/path.py:137: NaturalNameWarning: object name is not a valid Python identifier: 'test_multi_inputs.h5'; it does not match the pattern ``^[a-zA-Z_][a-zA-Z0-9_]*$``; you will not be able to use natural naming to access this object; using ``getattr()`` will still work, though\n",
      "  check_attribute_name(name)\n"
     ]
    }
   ],
   "source": [
    "def save_X_to_h5(adata, path):\n",
    "    from pathlib import Path\n",
    "    path = Path(path)\n",
    "    X = adata.X.A if hasattr(adata.X, \"A\") else adata.X  # make dense if sparse\n",
    "    df = pd.DataFrame(X, index=adata.obs_names, columns=adata.var_names)\n",
    "    df.to_hdf(\n",
    "        path,\n",
    "        key=path.name,  # e.g. \"train_multi_targets\"\n",
    "        mode=\"w\",\n",
    "        format=\"fixed\",\n",
    "    )\n",
    "\n",
    "save_X_to_h5(adata_rna[adata_rna.obs[\"split\"] == \"train\"], \"../data/train_multi_targets.h5\")\n",
    "save_X_to_h5(adata_atac[adata_atac.obs[\"split\"] == \"train\"], \"../data/train_multi_inputs.h5\")\n",
    "save_X_to_h5(adata_atac[adata_atac.obs[\"split\"] == \"test\"], \"../data/test_multi_inputs.h5\")"
   ]
  },
  {
   "cell_type": "code",
   "execution_count": 24,
   "metadata": {},
   "outputs": [
    {
     "name": "stdout",
     "output_type": "stream",
     "text": [
      "File /Users/vladimir.shitov/Documents/programming/OpenProblems2022Analysis/data/evaluation_ids.csv does not exist\n",
      "File /Users/vladimir.shitov/Documents/programming/OpenProblems2022Analysis/data/sample_submission.csv does not exist\n",
      "123\n",
      "376\n",
      "376\n",
      "File /Users/vladimir.shitov/Documents/programming/OpenProblems2022Analysis/data/test_cite_inputs.h5 does not exist\n",
      "File /Users/vladimir.shitov/Documents/programming/OpenProblems2022Analysis/data/train_cite_inputs.h5 does not exist\n",
      "File /Users/vladimir.shitov/Documents/programming/OpenProblems2022Analysis/data/train_cite_targets.h5 does not exist\n",
      "Some citeseq files don't exist, not making citeseq cell statistics\n",
      "File /Users/vladimir.shitov/Documents/programming/OpenProblems2022Analysis/data/evaluation_ids.csv does not exist\n",
      "File /Users/vladimir.shitov/Documents/programming/OpenProblems2022Analysis/data/sample_submission.csv does not exist\n",
      "123\n",
      "376\n",
      "376\n",
      "File /Users/vladimir.shitov/Documents/programming/OpenProblems2022Analysis/data/test_cite_inputs.h5 does not exist\n",
      "File /Users/vladimir.shitov/Documents/programming/OpenProblems2022Analysis/data/train_cite_inputs.h5 does not exist\n",
      "File /Users/vladimir.shitov/Documents/programming/OpenProblems2022Analysis/data/train_cite_targets.h5 does not exist\n",
      "git_hexsha 5adb2068ae44036b253cf013fea9e5072a2729b1\n",
      "load input values\n",
      "completed loading input values. elapsed time: 0.0\n",
      "load targets values\n",
      "completed loading targets values. elapsed time: 0.0\n",
      "load input values\n",
      "completed loading input values. elapsed time: 0.0\n",
      "use test_inputs_values. total size: 499\n",
      "train sample size: 376\n",
      "dump params\n",
      "use batch group. # groups is 9\n",
      "kfold type <class 'sklearn.model_selection._split.GroupKFold'> group [3 3 3 3 3 3 3 3 3 3 3 3 3 3 3 3 3 3 3 3 3 3 3 3 3 3 3 3 3 3 3 3 3 3 3 3 3\n",
      " 3 3 3 3 3 3 3 3 1 1 1 1 1 1 1 1 1 1 1 1 1 1 1 1 1 1 1 1 1 1 1 1 1 1 1 1 1\n",
      " 1 1 1 1 1 1 1 1 1 1 1 1 1 1 1 1 1 1 1 1 1 1 1 1 1 1 1 1 1 1 1 1 1 0 0 0 0\n",
      " 0 0 0 0 0 0 0 0 0 0 0 0 0 0 0 0 0 0 0 0 0 0 0 0 0 0 0 0 0 0 0 0 0 0 0 0 0\n",
      " 0 0 0 0 0 0 0 0 0 0 0 0 0 0 0 0 0 0 0 0 0 0 0 0 0 0 0 0 0 0 0 0 0 0 0 0 0\n",
      " 0 0 0 0 0 0 0 2 2 2 2 2 2 2 2 2 2 2 2 2 2 2 2 2 2 2 2 2 2 2 2 2 2 2 2 2 2\n",
      " 2 2 2 2 2 2 2 2 2 2 2 2 2 2 2 2 2 2 4 4 4 4 4 4 4 4 4 4 4 4 4 4 4 4 4 4 4\n",
      " 4 4 4 4 4 4 4 4 4 4 4 4 4 4 4 4 4 4 4 4 4 4 4 4 5 5 5 5 5 5 5 5 5 5 5 5 5\n",
      " 5 5 5 5 5 5 5 5 5 5 5 5 5 5 5 5 5 5 5 5 5 5 5 5 5 5 5 5 5 7 7 7 7 7 7 7 7\n",
      " 7 7 7 8 8 8 8 8 8 6 6 6 6 6 6 6 6 6 6 6 6 6 6 6 6 6 6 6 6 6 6 6 6 6 6 6 6\n",
      " 6 6 6 6 6 6]\n",
      "train group: [1 2 3 4 6 7 8]\n",
      "val group: [0 5]\n",
      "skip pre_post_process fit\n",
      "model input shape X:(249, 256) Y:(249, 128)\n",
      "dataset size 249\n",
      "start to train\n",
      "epoch: 0 total time: 8.8, epoch time: 8.7, loss: 4.290 loss_corr:-0.339 loss_mse: 3.500 loss_res_mse: 1.447 loss_total_corr:-0.318 \n",
      "epoch: 1 total time: 17.6, epoch time: 8.7, loss: 4.348 loss_corr:-0.332 loss_mse: 3.561 loss_res_mse: 1.430 loss_total_corr:-0.311 \n",
      "epoch: 2 total time: 26.4, epoch time: 8.7, loss: 3.891 loss_corr:-0.387 loss_mse: 3.326 loss_res_mse: 1.312 loss_total_corr:-0.360 \n",
      "completed training\n",
      "model parameter summary:\n",
      "\ty_loc:\t\t\t4.0623e-02 +- 5.8703e-01. max=6.4019e+00 min=-1.3648e+00\n",
      "\ty_scale:\t\t\t1.5788e+00 +- 7.9009e-01. max=5.6515e+00 min=7.1515e-01\n",
      "\tinputs_decomposer_components:\t\t\t2.2313e-04 +- 3.2207e-02. max=2.2130e-01 min=-1.8980e-01\n",
      "\ttargets_decomposer_components:\t\t\t5.6130e-04 +- 4.5126e-02. max=8.0046e-01 min=-5.3411e-01\n",
      "\ttargets_global_median:\t\t\t-1.5644e-01 +- 2.1665e-01. max=3.7828e+00 min=-2.6853e-01\n",
      "\tgender_embedding:\t\t\t5.0683e-01 +- 2.8639e-01. max=9.9903e-01 min=2.7311e-04\n",
      "\tencoder.layers.0.fc.weight:\t\t\t-7.0056e-06 +- 1.2755e-02. max=2.2450e-02 min=-2.2457e-02\n",
      "\tencoder.layers.0.norm.weight:\t\t\t9.9999e-01 +- 1.6017e-04. max=1.0004e+00 min=9.9962e-01\n",
      "\tencoder.layers.0.norm.bias:\t\t\t-4.2980e-06 +- 1.5342e-04. max=3.6728e-04 min=-3.6991e-04\n",
      "\tencoder.out_fc.weight:\t\t\t-4.6772e-06 +- 1.2761e-02. max=2.2469e-02 min=-2.2460e-02\n",
      "\tencoder.out_fc.bias:\t\t\t1.5591e-04 +- 1.2840e-02. max=2.2214e-02 min=-2.2221e-02\n",
      "\tdecoder.in_fc.weight:\t\t\t4.1466e-06 +- 1.2757e-02. max=2.2479e-02 min=-2.2451e-02\n",
      "\tdecoder.in_fc.bias:\t\t\t3.1847e-04 +- 1.2678e-02. max=2.2395e-02 min=-2.2019e-02\n",
      "\tdecoder.layers.0.fc.weight:\t\t\t-4.8247e-06 +- 1.2754e-02. max=2.2461e-02 min=-2.2452e-02\n",
      "\tdecoder.layers.0.norm.weight:\t\t\t9.9995e-01 +- 1.5119e-04. max=1.0004e+00 min=9.9963e-01\n",
      "\tdecoder.layers.0.norm.bias:\t\t\t3.3492e-07 +- 1.4286e-04. max=3.5570e-04 min=-3.6929e-04\n",
      "\tdecoder.layers.1.fc.weight:\t\t\t-5.4328e-06 +- 1.2757e-02. max=2.2453e-02 min=-2.2448e-02\n",
      "\tdecoder.layers.1.norm.weight:\t\t\t9.9993e-01 +- 1.5281e-04. max=1.0004e+00 min=9.9963e-01\n",
      "\tdecoder.layers.1.norm.bias:\t\t\t-5.4191e-06 +- 1.4366e-04. max=3.6122e-04 min=-3.7776e-04\n",
      "\tdecoder.layers.2.fc.weight:\t\t\t8.4527e-06 +- 1.2752e-02. max=2.2478e-02 min=-2.2479e-02\n",
      "\tdecoder.layers.2.norm.weight:\t\t\t9.9991e-01 +- 1.5561e-04. max=1.0004e+00 min=9.9962e-01\n",
      "\tdecoder.layers.2.norm.bias:\t\t\t2.5036e-06 +- 1.5467e-04. max=3.7076e-04 min=-3.7311e-04\n",
      "\tdecoder.layers.3.fc.weight:\t\t\t-3.6461e-06 +- 1.2755e-02. max=2.2460e-02 min=-2.2456e-02\n",
      "\tdecoder.layers.3.norm.weight:\t\t\t9.9988e-01 +- 1.4599e-04. max=1.0003e+00 min=9.9961e-01\n",
      "\tdecoder.layers.3.norm.bias:\t\t\t-1.8888e-06 +- 1.5304e-04. max=3.6895e-04 min=-3.5322e-04\n",
      "\tdecoder.layers.4.fc.weight:\t\t\t-1.5211e-06 +- 1.2752e-02. max=2.2459e-02 min=-2.2446e-02\n",
      "\tdecoder.layers.4.norm.weight:\t\t\t9.9983e-01 +- 1.2948e-04. max=1.0004e+00 min=9.9962e-01\n",
      "\tdecoder.layers.4.norm.bias:\t\t\t6.9976e-06 +- 1.5210e-04. max=3.7261e-04 min=-3.8123e-04\n",
      "\tencoder_in_fc.weight:\t\t\t1.0152e-05 +- 3.5602e-02. max=6.1973e-02 min=-6.1981e-02\n",
      "\tencoder_in_fc.bias:\t\t\t-9.3145e-04 +- 3.4946e-02. max=6.1729e-02 min=-6.1916e-02\n",
      "\tdecoder_out_fcs.0.weight:\t\t\t-6.0530e-06 +- 1.2759e-02. max=2.2441e-02 min=-2.2458e-02\n",
      "\tdecoder_out_fcs.0.bias:\t\t\t-1.0840e-03 +- 1.3104e-02. max=2.2180e-02 min=-2.1933e-02\n",
      "\tdecoder_out_fcs.1.weight:\t\t\t5.5413e-07 +- 1.2743e-02. max=2.2450e-02 min=-2.2418e-02\n",
      "\tdecoder_out_fcs.1.bias:\t\t\t-9.4359e-04 +- 1.2279e-02. max=2.2266e-02 min=-2.1512e-02\n",
      "\tdecoder_out_fcs.2.weight:\t\t\t-2.1930e-05 +- 1.2728e-02. max=2.2424e-02 min=-2.2452e-02\n",
      "\tdecoder_out_fcs.2.bias:\t\t\t1.2671e-04 +- 1.1430e-02. max=2.1974e-02 min=-2.1018e-02\n",
      "\tdecoder_out_fcs.3.weight:\t\t\t1.1261e-05 +- 1.2746e-02. max=2.2451e-02 min=-2.2460e-02\n",
      "\tdecoder_out_fcs.3.bias:\t\t\t5.4402e-04 +- 1.2738e-02. max=2.1853e-02 min=-2.1514e-02\n",
      "\tdecoder_out_fcs.4.weight:\t\t\t6.0762e-06 +- 1.2728e-02. max=2.2447e-02 min=-2.2423e-02\n",
      "\tdecoder_out_fcs.4.bias:\t\t\t-9.9417e-04 +- 1.3032e-02. max=2.2072e-02 min=-2.2081e-02\n",
      "\tdecoder_out_fcs.5.weight:\t\t\t5.8977e-05 +- 1.2741e-02. max=2.2468e-02 min=-2.2419e-02\n",
      "\tdecoder_out_fcs.5.bias:\t\t\t-1.9673e-03 +- 1.2930e-02. max=2.1249e-02 min=-2.2025e-02\n",
      "\tdecoder_out_res_fcs.0.weight:\t\t\t-2.0683e-06 +- 1.2757e-02. max=2.2475e-02 min=-2.2472e-02\n",
      "\tdecoder_out_res_fcs.0.bias:\t\t\t-1.3253e-03 +- 1.2879e-02. max=2.1672e-02 min=-2.2294e-02\n",
      "\tdecoder_out_res_fcs.1.weight:\t\t\t-6.3775e-06 +- 1.2738e-02. max=2.2456e-02 min=-2.2467e-02\n",
      "\tdecoder_out_res_fcs.1.bias:\t\t\t-2.1740e-04 +- 1.3109e-02. max=2.2280e-02 min=-2.1796e-02\n",
      "\tdecoder_out_res_fcs.2.weight:\t\t\t-6.4577e-06 +- 1.2746e-02. max=2.2473e-02 min=-2.2460e-02\n",
      "\tdecoder_out_res_fcs.2.bias:\t\t\t-2.2133e-04 +- 1.3005e-02. max=2.2220e-02 min=-2.2007e-02\n",
      "\tdecoder_out_res_fcs.3.weight:\t\t\t5.2859e-06 +- 1.2739e-02. max=2.2477e-02 min=-2.2454e-02\n",
      "\tdecoder_out_res_fcs.3.bias:\t\t\t1.0332e-06 +- 1.2246e-02. max=2.2321e-02 min=-2.2171e-02\n",
      "\tdecoder_out_res_fcs.4.weight:\t\t\t-1.8661e-06 +- 1.2736e-02. max=2.2434e-02 min=-2.2460e-02\n",
      "\tdecoder_out_res_fcs.4.bias:\t\t\t6.9021e-05 +- 1.2895e-02. max=2.2276e-02 min=-2.2202e-02\n",
      "\tdecoder_out_res_fcs.5.weight:\t\t\t4.0210e-07 +- 1.2735e-02. max=2.2449e-02 min=-2.2454e-02\n",
      "\tdecoder_out_res_fcs.5.bias:\t\t\t-1.5257e-04 +- 1.2740e-02. max=2.2018e-02 min=-2.2126e-02\n",
      "Fold 0 bagging 0 mse_train:  1.04069 corrscore_train:  0.44046 mse_val:  0.94428 corrscore_val:  0.41435 \n",
      "Fold 0: score:{'mse_train': 1.0406868, 'corrscore_train': 0.44045957535144903, 'CD14+ Mono_mse_train': 0.8488516, 'CD14+ Mono_corrscore_train': 0.43717535373531174, 'ILC_mse_train': 0.0, 'ILC_corrscore_train': 1.0, 'NK_mse_train': 0.82724977, 'NK_corrscore_train': 0.4423708196264151, 'CD4+ T activated_mse_train': 0.8375189, 'CD4+ T activated_corrscore_train': 0.41600048782519433, 'B1 B_mse_train': 0.0, 'B1 B_corrscore_train': 1.0, 'CD16+ Mono_mse_train': 0.0, 'CD16+ Mono_corrscore_train': 1.0, 'CD8+ T_mse_train': 0.7856101, 'CD8+ T_corrscore_train': 0.445735516771403, 'cDC2_mse_train': 0.0, 'cDC2_corrscore_train': 1.0, 'Naive CD20+ B_mse_train': 1.5238308, 'Naive CD20+ B_corrscore_train': 0.43251954331358994, 'Erythroblast_mse_train': 1.7381985, 'Erythroblast_corrscore_train': 0.47032055437037246, 'CD4+ T naive_mse_train': 0.95898145, 'CD4+ T naive_corrscore_train': 0.44704004903517586, 'Transitional B_mse_train': 1.5905864, 'Transitional B_corrscore_train': 0.4612584681732663, 'CD8+ T naive_mse_train': 0.0, 'CD8+ T naive_corrscore_train': 1.0, 'Proerythroblast_mse_train': 0.9199282, 'Proerythroblast_corrscore_train': 0.41746968979093535, 'pDC_mse_train': 0.0, 'pDC_corrscore_train': 1.0, 'HSC_mse_train': 0.0, 'HSC_corrscore_train': 1.0, 'Plasma cell_mse_train': 0.0, 'Plasma cell_corrscore_train': 1.0, 'Lymph prog_mse_train': 0.0, 'Lymph prog_corrscore_train': 1.0, 'G/M prog_mse_train': 0.0, 'G/M prog_corrscore_train': 1.0, 'Normoblast_mse_train': 0.0, 'Normoblast_corrscore_train': 1.0, 'MK/E prog_mse_train': 0.0, 'MK/E prog_corrscore_train': 1.0, 'ID2-hi myeloid prog_mse_train': 0.0, 'ID2-hi myeloid prog_corrscore_train': 1.0, 'mse_val': 0.94427556, 'corrscore_val': 0.41435232408101935, 'CD14+ Mono_mse_val': 0.0, 'CD14+ Mono_corrscore_val': 1.0, 'ILC_mse_val': 0.0, 'ILC_corrscore_val': 1.0, 'NK_mse_val': 0.93668485, 'NK_corrscore_val': 0.39218845519457385, 'CD4+ T activated_mse_val': 0.0, 'CD4+ T activated_corrscore_val': 1.0, 'B1 B_mse_val': 0.0, 'B1 B_corrscore_val': 1.0, 'CD16+ Mono_mse_val': 0.0, 'CD16+ Mono_corrscore_val': 1.0, 'CD8+ T_mse_val': 0.91406506, 'CD8+ T_corrscore_val': 0.41423121935021134, 'cDC2_mse_val': 0.0, 'cDC2_corrscore_val': 1.0, 'Naive CD20+ B_mse_val': 0.0, 'Naive CD20+ B_corrscore_val': 1.0, 'Erythroblast_mse_val': 0.0, 'Erythroblast_corrscore_val': 1.0, 'CD4+ T naive_mse_val': 0.88461834, 'CD4+ T naive_corrscore_val': 0.43712016606150644, 'Transitional B_mse_val': 0.0, 'Transitional B_corrscore_val': 1.0, 'CD8+ T naive_mse_val': 0.0, 'CD8+ T naive_corrscore_val': 1.0, 'Proerythroblast_mse_val': 0.0, 'Proerythroblast_corrscore_val': 1.0, 'pDC_mse_val': 0.0, 'pDC_corrscore_val': 1.0, 'HSC_mse_val': 0.0, 'HSC_corrscore_val': 1.0, 'Plasma cell_mse_val': 0.0, 'Plasma cell_corrscore_val': 1.0, 'Lymph prog_mse_val': 0.0, 'Lymph prog_corrscore_val': 1.0, 'G/M prog_mse_val': 0.0, 'G/M prog_corrscore_val': 1.0, 'Normoblast_mse_val': 0.0, 'Normoblast_corrscore_val': 1.0, 'MK/E prog_mse_val': 0.0, 'MK/E prog_corrscore_val': 1.0, 'ID2-hi myeloid prog_mse_val': 0.0, 'ID2-hi myeloid prog_corrscore_val': 1.0} elapsed time =  36.551\n",
      "train group: [0 2 3 5 6]\n",
      "val group: [1 4 7 8]\n",
      "skip pre_post_process fit\n",
      "model input shape X:(254, 256) Y:(254, 128)\n",
      "dataset size 254\n",
      "start to train\n",
      "epoch: 0 total time: 16.2, epoch time: 16.1, loss: 4.584 loss_corr:-0.317 loss_mse: 3.713 loss_res_mse: 1.487 loss_total_corr:-0.298 \n",
      "epoch: 1 total time: 24.7, epoch time: 8.4, loss: 4.184 loss_corr:-0.350 loss_mse: 3.459 loss_res_mse: 1.402 loss_total_corr:-0.327 \n",
      "epoch: 2 total time: 37.3, epoch time: 12.5, loss: 3.942 loss_corr:-0.382 loss_mse: 3.351 loss_res_mse: 1.329 loss_total_corr:-0.357 \n",
      "completed training\n",
      "model parameter summary:\n",
      "\ty_loc:\t\t\t3.8433e-02 +- 5.8685e-01. max=6.4825e+00 min=-8.1748e-01\n",
      "\ty_scale:\t\t\t1.5703e+00 +- 7.9130e-01. max=5.8772e+00 min=7.3034e-01\n",
      "\tinputs_decomposer_components:\t\t\t2.2313e-04 +- 3.2207e-02. max=2.2130e-01 min=-1.8980e-01\n",
      "\ttargets_decomposer_components:\t\t\t5.6130e-04 +- 4.5126e-02. max=8.0046e-01 min=-5.3411e-01\n",
      "\ttargets_global_median:\t\t\t-1.5644e-01 +- 2.1665e-01. max=3.7828e+00 min=-2.6853e-01\n",
      "\tgender_embedding:\t\t\t5.0423e-01 +- 2.9347e-01. max=9.9990e-01 min=1.1605e-04\n",
      "\tencoder.layers.0.fc.weight:\t\t\t8.5472e-06 +- 1.2755e-02. max=2.2465e-02 min=-2.2462e-02\n",
      "\tencoder.layers.0.norm.weight:\t\t\t9.9999e-01 +- 1.5266e-04. max=1.0004e+00 min=9.9962e-01\n",
      "\tencoder.layers.0.norm.bias:\t\t\t2.5675e-07 +- 1.4119e-04. max=3.6032e-04 min=-3.5845e-04\n",
      "\tencoder.out_fc.weight:\t\t\t4.9515e-06 +- 1.2757e-02. max=2.2447e-02 min=-2.2472e-02\n",
      "\tencoder.out_fc.bias:\t\t\t-1.5136e-04 +- 1.2678e-02. max=2.2140e-02 min=-2.2103e-02\n",
      "\tdecoder.in_fc.weight:\t\t\t7.1872e-08 +- 1.2759e-02. max=2.2457e-02 min=-2.2455e-02\n",
      "\tdecoder.in_fc.bias:\t\t\t9.1379e-07 +- 1.2993e-02. max=2.2334e-02 min=-2.2192e-02\n",
      "\tdecoder.layers.0.fc.weight:\t\t\t8.2059e-06 +- 1.2762e-02. max=2.2450e-02 min=-2.2461e-02\n",
      "\tdecoder.layers.0.norm.weight:\t\t\t9.9994e-01 +- 1.4702e-04. max=1.0004e+00 min=9.9962e-01\n",
      "\tdecoder.layers.0.norm.bias:\t\t\t-2.3763e-06 +- 1.2559e-04. max=3.5964e-04 min=-3.5248e-04\n",
      "\tdecoder.layers.1.fc.weight:\t\t\t4.1664e-06 +- 1.2759e-02. max=2.2449e-02 min=-2.2461e-02\n",
      "\tdecoder.layers.1.norm.weight:\t\t\t9.9993e-01 +- 1.4773e-04. max=1.0003e+00 min=9.9963e-01\n",
      "\tdecoder.layers.1.norm.bias:\t\t\t-2.4348e-06 +- 1.2627e-04. max=3.6083e-04 min=-3.7629e-04\n",
      "\tdecoder.layers.2.fc.weight:\t\t\t-1.1152e-05 +- 1.2757e-02. max=2.2474e-02 min=-2.2460e-02\n",
      "\tdecoder.layers.2.norm.weight:\t\t\t9.9991e-01 +- 1.5073e-04. max=1.0003e+00 min=9.9962e-01\n",
      "\tdecoder.layers.2.norm.bias:\t\t\t8.4534e-07 +- 1.3081e-04. max=3.6751e-04 min=-3.6349e-04\n",
      "\tdecoder.layers.3.fc.weight:\t\t\t3.0546e-06 +- 1.2753e-02. max=2.2459e-02 min=-2.2467e-02\n",
      "\tdecoder.layers.3.norm.weight:\t\t\t9.9988e-01 +- 1.4667e-04. max=1.0004e+00 min=9.9962e-01\n",
      "\tdecoder.layers.3.norm.bias:\t\t\t2.5224e-06 +- 1.3745e-04. max=3.7161e-04 min=-3.4995e-04\n",
      "\tdecoder.layers.4.fc.weight:\t\t\t-1.4947e-06 +- 1.2749e-02. max=2.2457e-02 min=-2.2459e-02\n",
      "\tdecoder.layers.4.norm.weight:\t\t\t9.9983e-01 +- 1.2920e-04. max=1.0003e+00 min=9.9962e-01\n",
      "\tdecoder.layers.4.norm.bias:\t\t\t-2.0407e-06 +- 1.2637e-04. max=3.6451e-04 min=-3.5817e-04\n",
      "\tencoder_in_fc.weight:\t\t\t-9.0099e-06 +- 3.5629e-02. max=6.2000e-02 min=-6.2004e-02\n",
      "\tencoder_in_fc.bias:\t\t\t2.3461e-04 +- 3.5216e-02. max=6.1467e-02 min=-6.1615e-02\n",
      "\tdecoder_out_fcs.0.weight:\t\t\t1.6761e-05 +- 1.2742e-02. max=2.2425e-02 min=-2.2439e-02\n",
      "\tdecoder_out_fcs.0.bias:\t\t\t1.1910e-03 +- 1.2033e-02. max=2.0915e-02 min=-2.1437e-02\n",
      "\tdecoder_out_fcs.1.weight:\t\t\t-3.0404e-06 +- 1.2746e-02. max=2.2441e-02 min=-2.2463e-02\n",
      "\tdecoder_out_fcs.1.bias:\t\t\t1.4745e-03 +- 1.2246e-02. max=2.1437e-02 min=-2.1611e-02\n",
      "\tdecoder_out_fcs.2.weight:\t\t\t1.7308e-05 +- 1.2729e-02. max=2.2438e-02 min=-2.2413e-02\n",
      "\tdecoder_out_fcs.2.bias:\t\t\t3.4774e-04 +- 1.3259e-02. max=2.2151e-02 min=-2.2037e-02\n",
      "\tdecoder_out_fcs.3.weight:\t\t\t3.0469e-05 +- 1.2750e-02. max=2.2422e-02 min=-2.2411e-02\n",
      "\tdecoder_out_fcs.3.bias:\t\t\t1.1244e-03 +- 1.3308e-02. max=2.0259e-02 min=-2.0676e-02\n",
      "\tdecoder_out_fcs.4.weight:\t\t\t1.3094e-05 +- 1.2743e-02. max=2.2410e-02 min=-2.2449e-02\n",
      "\tdecoder_out_fcs.4.bias:\t\t\t-7.7557e-04 +- 1.3141e-02. max=2.1928e-02 min=-2.1774e-02\n",
      "\tdecoder_out_fcs.5.weight:\t\t\t3.4851e-06 +- 1.2713e-02. max=2.2449e-02 min=-2.2414e-02\n",
      "\tdecoder_out_fcs.5.bias:\t\t\t-2.0621e-04 +- 1.3620e-02. max=2.1838e-02 min=-2.1952e-02\n",
      "\tdecoder_out_res_fcs.0.weight:\t\t\t1.0579e-05 +- 1.2752e-02. max=2.2462e-02 min=-2.2466e-02\n",
      "\tdecoder_out_res_fcs.0.bias:\t\t\t3.0672e-04 +- 1.2882e-02. max=2.2354e-02 min=-2.2181e-02\n",
      "\tdecoder_out_res_fcs.1.weight:\t\t\t-5.3756e-06 +- 1.2745e-02. max=2.2456e-02 min=-2.2476e-02\n",
      "\tdecoder_out_res_fcs.1.bias:\t\t\t-3.6418e-05 +- 1.2940e-02. max=2.2146e-02 min=-2.2199e-02\n",
      "\tdecoder_out_res_fcs.2.weight:\t\t\t-2.1097e-07 +- 1.2732e-02. max=2.2468e-02 min=-2.2447e-02\n",
      "\tdecoder_out_res_fcs.2.bias:\t\t\t3.7905e-04 +- 1.2834e-02. max=2.2088e-02 min=-2.2056e-02\n",
      "\tdecoder_out_res_fcs.3.weight:\t\t\t1.0085e-05 +- 1.2735e-02. max=2.2456e-02 min=-2.2449e-02\n",
      "\tdecoder_out_res_fcs.3.bias:\t\t\t-2.0044e-04 +- 1.2961e-02. max=2.2204e-02 min=-2.2169e-02\n",
      "\tdecoder_out_res_fcs.4.weight:\t\t\t-1.6046e-05 +- 1.2729e-02. max=2.2442e-02 min=-2.2457e-02\n",
      "\tdecoder_out_res_fcs.4.bias:\t\t\t-1.1468e-04 +- 1.2636e-02. max=2.2360e-02 min=-2.2166e-02\n",
      "\tdecoder_out_res_fcs.5.weight:\t\t\t-1.9658e-05 +- 1.2731e-02. max=2.2437e-02 min=-2.2446e-02\n",
      "\tdecoder_out_res_fcs.5.bias:\t\t\t-2.8462e-04 +- 1.2589e-02. max=2.2225e-02 min=-2.2211e-02\n",
      "Fold 1 bagging 0 mse_train:  0.96634 corrscore_train:  0.43279 mse_val:  1.06743 corrscore_val:  0.40906 \n",
      "Fold 1: score:{'mse_train': 0.9663423, 'corrscore_train': 0.4327942563646897, 'CD14+ Mono_mse_train': 0.8745739, 'CD14+ Mono_corrscore_train': 0.401362606077436, 'ILC_mse_train': 0.0, 'ILC_corrscore_train': 1.0, 'NK_mse_train': 0.82713014, 'NK_corrscore_train': 0.4446040686059079, 'CD4+ T activated_mse_train': 0.8315453, 'CD4+ T activated_corrscore_train': 0.424676497846822, 'B1 B_mse_train': 0.0, 'B1 B_corrscore_train': 1.0, 'CD16+ Mono_mse_train': 0.0, 'CD16+ Mono_corrscore_train': 1.0, 'CD8+ T_mse_train': 0.8483019, 'CD8+ T_corrscore_train': 0.43709243500366757, 'cDC2_mse_train': 0.0, 'cDC2_corrscore_train': 1.0, 'Naive CD20+ B_mse_train': 1.3184266, 'Naive CD20+ B_corrscore_train': 0.4227558260161057, 'Erythroblast_mse_train': 2.182848, 'Erythroblast_corrscore_train': 0.3972004599151898, 'CD4+ T naive_mse_train': 0.8693452, 'CD4+ T naive_corrscore_train': 0.4605224546312814, 'Transitional B_mse_train': 0.9121627, 'Transitional B_corrscore_train': 0.4228725707180982, 'CD8+ T naive_mse_train': 0.0, 'CD8+ T naive_corrscore_train': 1.0, 'Proerythroblast_mse_train': 0.0, 'Proerythroblast_corrscore_train': 1.0, 'pDC_mse_train': 0.0, 'pDC_corrscore_train': 1.0, 'HSC_mse_train': 0.0, 'HSC_corrscore_train': 1.0, 'Plasma cell_mse_train': 0.0, 'Plasma cell_corrscore_train': 1.0, 'Lymph prog_mse_train': 0.0, 'Lymph prog_corrscore_train': 1.0, 'G/M prog_mse_train': 0.0, 'G/M prog_corrscore_train': 1.0, 'Normoblast_mse_train': 0.0, 'Normoblast_corrscore_train': 1.0, 'MK/E prog_mse_train': 0.0, 'MK/E prog_corrscore_train': 1.0, 'ID2-hi myeloid prog_mse_train': 0.0, 'ID2-hi myeloid prog_corrscore_train': 1.0, 'mse_val': 1.0674288, 'corrscore_val': 0.40906462467242777, 'CD14+ Mono_mse_val': 0.8347174, 'CD14+ Mono_corrscore_val': 0.4084139128032444, 'ILC_mse_val': 0.0, 'ILC_corrscore_val': 1.0, 'NK_mse_val': 0.8986204, 'NK_corrscore_val': 0.3707508423630084, 'CD4+ T activated_mse_val': 0.0, 'CD4+ T activated_corrscore_val': 1.0, 'B1 B_mse_val': 0.0, 'B1 B_corrscore_val': 1.0, 'CD16+ Mono_mse_val': 0.0, 'CD16+ Mono_corrscore_val': 1.0, 'CD8+ T_mse_val': 0.0, 'CD8+ T_corrscore_val': 1.0, 'cDC2_mse_val': 0.0, 'cDC2_corrscore_val': 1.0, 'Naive CD20+ B_mse_val': 0.0, 'Naive CD20+ B_corrscore_val': 1.0, 'Erythroblast_mse_val': 0.0, 'Erythroblast_corrscore_val': 1.0, 'CD4+ T naive_mse_val': 0.0, 'CD4+ T naive_corrscore_val': 1.0, 'Transitional B_mse_val': 0.0, 'Transitional B_corrscore_val': 1.0, 'CD8+ T naive_mse_val': 0.0, 'CD8+ T naive_corrscore_val': 1.0, 'Proerythroblast_mse_val': 0.0, 'Proerythroblast_corrscore_val': 1.0, 'pDC_mse_val': 0.0, 'pDC_corrscore_val': 1.0, 'HSC_mse_val': 0.0, 'HSC_corrscore_val': 1.0, 'Plasma cell_mse_val': 0.0, 'Plasma cell_corrscore_val': 1.0, 'Lymph prog_mse_val': 0.0, 'Lymph prog_corrscore_val': 1.0, 'G/M prog_mse_val': 0.0, 'G/M prog_corrscore_val': 1.0, 'Normoblast_mse_val': 0.0, 'Normoblast_corrscore_val': 1.0, 'MK/E prog_mse_val': 0.0, 'MK/E prog_corrscore_val': 1.0, 'ID2-hi myeloid prog_mse_val': 0.0, 'ID2-hi myeloid prog_corrscore_val': 1.0} elapsed time =  50.883\n",
      "train group: [0 1 4 5 7 8]\n",
      "val group: [2 3 6]\n",
      "skip pre_post_process fit\n",
      "model input shape X:(249, 256) Y:(249, 128)\n",
      "dataset size 249\n",
      "start to train\n",
      "epoch: 0 total time: 8.7, epoch time: 8.7, loss: 4.412 loss_corr:-0.326 loss_mse: 3.571 loss_res_mse: 1.474 loss_total_corr:-0.307 \n",
      "epoch: 1 total time: 18.3, epoch time: 9.4, loss: 3.845 loss_corr:-0.390 loss_mse: 3.274 loss_res_mse: 1.322 loss_total_corr:-0.361 \n",
      "epoch: 2 total time: 31.4, epoch time: 13.0, loss: 4.060 loss_corr:-0.363 loss_mse: 3.399 loss_res_mse: 1.360 loss_total_corr:-0.336 \n",
      "completed training\n",
      "model parameter summary:\n",
      "\ty_loc:\t\t\t5.5866e-02 +- 5.8558e-01. max=6.5417e+00 min=-5.7973e-01\n",
      "\ty_scale:\t\t\t1.5685e+00 +- 7.8152e-01. max=5.9336e+00 min=7.1498e-01\n",
      "\tinputs_decomposer_components:\t\t\t2.2313e-04 +- 3.2207e-02. max=2.2130e-01 min=-1.8980e-01\n",
      "\ttargets_decomposer_components:\t\t\t5.6130e-04 +- 4.5126e-02. max=8.0046e-01 min=-5.3411e-01\n",
      "\ttargets_global_median:\t\t\t-1.5644e-01 +- 2.1665e-01. max=3.7828e+00 min=-2.6853e-01\n",
      "\tgender_embedding:\t\t\t4.9816e-01 +- 2.8793e-01. max=9.9988e-01 min=3.1745e-04\n",
      "\tencoder.layers.0.fc.weight:\t\t\t-2.2215e-06 +- 1.2758e-02. max=2.2458e-02 min=-2.2460e-02\n",
      "\tencoder.layers.0.norm.weight:\t\t\t9.9999e-01 +- 1.5848e-04. max=1.0004e+00 min=9.9962e-01\n",
      "\tencoder.layers.0.norm.bias:\t\t\t-2.9682e-07 +- 1.5122e-04. max=3.6478e-04 min=-3.7405e-04\n",
      "\tencoder.out_fc.weight:\t\t\t-9.4904e-06 +- 1.2755e-02. max=2.2457e-02 min=-2.2464e-02\n",
      "\tencoder.out_fc.bias:\t\t\t2.2910e-04 +- 1.2778e-02. max=2.2340e-02 min=-2.2214e-02\n",
      "\tdecoder.in_fc.weight:\t\t\t-8.8648e-06 +- 1.2754e-02. max=2.2453e-02 min=-2.2475e-02\n",
      "\tdecoder.in_fc.bias:\t\t\t1.3811e-04 +- 1.2895e-02. max=2.2138e-02 min=-2.2231e-02\n",
      "\tdecoder.layers.0.fc.weight:\t\t\t-5.7998e-06 +- 1.2760e-02. max=2.2467e-02 min=-2.2476e-02\n",
      "\tdecoder.layers.0.norm.weight:\t\t\t9.9994e-01 +- 1.4945e-04. max=1.0004e+00 min=9.9963e-01\n",
      "\tdecoder.layers.0.norm.bias:\t\t\t-2.8797e-07 +- 1.3640e-04. max=3.3411e-04 min=-3.6011e-04\n",
      "\tdecoder.layers.1.fc.weight:\t\t\t8.2939e-06 +- 1.2761e-02. max=2.2460e-02 min=-2.2442e-02\n",
      "\tdecoder.layers.1.norm.weight:\t\t\t9.9993e-01 +- 1.5154e-04. max=1.0004e+00 min=9.9964e-01\n",
      "\tdecoder.layers.1.norm.bias:\t\t\t2.7500e-06 +- 1.4740e-04. max=3.4914e-04 min=-3.4576e-04\n",
      "\tdecoder.layers.2.fc.weight:\t\t\t3.3253e-07 +- 1.2752e-02. max=2.2457e-02 min=-2.2449e-02\n",
      "\tdecoder.layers.2.norm.weight:\t\t\t9.9991e-01 +- 1.5213e-04. max=1.0004e+00 min=9.9962e-01\n",
      "\tdecoder.layers.2.norm.bias:\t\t\t2.8091e-06 +- 1.3729e-04. max=3.6060e-04 min=-3.7910e-04\n",
      "\tdecoder.layers.3.fc.weight:\t\t\t6.4826e-06 +- 1.2757e-02. max=2.2456e-02 min=-2.2460e-02\n",
      "\tdecoder.layers.3.norm.weight:\t\t\t9.9988e-01 +- 1.4894e-04. max=1.0004e+00 min=9.9962e-01\n",
      "\tdecoder.layers.3.norm.bias:\t\t\t-1.7702e-06 +- 1.4588e-04. max=3.6816e-04 min=-3.5131e-04\n",
      "\tdecoder.layers.4.fc.weight:\t\t\t1.1478e-05 +- 1.2755e-02. max=2.2459e-02 min=-2.2467e-02\n",
      "\tdecoder.layers.4.norm.weight:\t\t\t9.9983e-01 +- 1.2816e-04. max=1.0003e+00 min=9.9962e-01\n",
      "\tdecoder.layers.4.norm.bias:\t\t\t3.6998e-07 +- 1.4065e-04. max=3.5297e-04 min=-3.4839e-04\n",
      "\tencoder_in_fc.weight:\t\t\t7.8433e-05 +- 3.5598e-02. max=6.1966e-02 min=-6.1975e-02\n",
      "\tencoder_in_fc.bias:\t\t\t2.9734e-04 +- 3.5529e-02. max=6.1895e-02 min=-6.1825e-02\n",
      "\tdecoder_out_fcs.0.weight:\t\t\t-2.5344e-06 +- 1.2757e-02. max=2.2426e-02 min=-2.2433e-02\n",
      "\tdecoder_out_fcs.0.bias:\t\t\t1.9506e-03 +- 1.2130e-02. max=2.1418e-02 min=-2.1220e-02\n",
      "\tdecoder_out_fcs.1.weight:\t\t\t4.3007e-05 +- 1.2755e-02. max=2.2408e-02 min=-2.2434e-02\n",
      "\tdecoder_out_fcs.1.bias:\t\t\t-1.8276e-03 +- 1.2846e-02. max=2.1998e-02 min=-2.1589e-02\n",
      "\tdecoder_out_fcs.2.weight:\t\t\t-5.6095e-05 +- 1.2743e-02. max=2.2444e-02 min=-2.2447e-02\n",
      "\tdecoder_out_fcs.2.bias:\t\t\t4.6270e-05 +- 1.3625e-02. max=2.1844e-02 min=-2.2028e-02\n",
      "\tdecoder_out_fcs.3.weight:\t\t\t-1.6817e-05 +- 1.2763e-02. max=2.2448e-02 min=-2.2427e-02\n",
      "\tdecoder_out_fcs.3.bias:\t\t\t4.7158e-04 +- 1.3194e-02. max=2.1556e-02 min=-2.2043e-02\n",
      "\tdecoder_out_fcs.4.weight:\t\t\t-1.2965e-05 +- 1.2738e-02. max=2.2432e-02 min=-2.2391e-02\n",
      "\tdecoder_out_fcs.4.bias:\t\t\t-2.0054e-03 +- 1.2728e-02. max=2.2215e-02 min=-2.1737e-02\n",
      "\tdecoder_out_fcs.5.weight:\t\t\t1.3500e-06 +- 1.2724e-02. max=2.2424e-02 min=-2.2389e-02\n",
      "\tdecoder_out_fcs.5.bias:\t\t\t9.2426e-04 +- 1.2874e-02. max=2.1911e-02 min=-2.1943e-02\n",
      "\tdecoder_out_res_fcs.0.weight:\t\t\t-3.3144e-06 +- 1.2757e-02. max=2.2471e-02 min=-2.2474e-02\n",
      "\tdecoder_out_res_fcs.0.bias:\t\t\t-4.8747e-04 +- 1.3238e-02. max=2.2249e-02 min=-2.2076e-02\n",
      "\tdecoder_out_res_fcs.1.weight:\t\t\t-1.8604e-06 +- 1.2739e-02. max=2.2466e-02 min=-2.2473e-02\n",
      "\tdecoder_out_res_fcs.1.bias:\t\t\t-4.7490e-04 +- 1.2755e-02. max=2.2341e-02 min=-2.2358e-02\n",
      "\tdecoder_out_res_fcs.2.weight:\t\t\t-3.6166e-07 +- 1.2732e-02. max=2.2451e-02 min=-2.2465e-02\n",
      "\tdecoder_out_res_fcs.2.bias:\t\t\t-1.9061e-04 +- 1.2915e-02. max=2.2116e-02 min=-2.2276e-02\n",
      "\tdecoder_out_res_fcs.3.weight:\t\t\t2.0308e-05 +- 1.2732e-02. max=2.2436e-02 min=-2.2445e-02\n",
      "\tdecoder_out_res_fcs.3.bias:\t\t\t9.3273e-04 +- 1.2509e-02. max=2.2254e-02 min=-2.1897e-02\n",
      "\tdecoder_out_res_fcs.4.weight:\t\t\t-4.9497e-06 +- 1.2746e-02. max=2.2467e-02 min=-2.2453e-02\n",
      "\tdecoder_out_res_fcs.4.bias:\t\t\t1.3088e-04 +- 1.2401e-02. max=2.2128e-02 min=-2.2298e-02\n",
      "\tdecoder_out_res_fcs.5.weight:\t\t\t1.2398e-06 +- 1.2729e-02. max=2.2450e-02 min=-2.2453e-02\n",
      "\tdecoder_out_res_fcs.5.bias:\t\t\t4.7667e-04 +- 1.2948e-02. max=2.2259e-02 min=-2.2185e-02\n",
      "Fold 2 bagging 0 mse_train:  0.96643 corrscore_train:  0.43822 mse_val:  1.08244 corrscore_val:  0.39637 \n",
      "Fold 2: score:{'mse_train': 0.9664262, 'corrscore_train': 0.4382209945725681, 'CD14+ Mono_mse_train': 0.82370114, 'CD14+ Mono_corrscore_train': 0.41175132583376206, 'ILC_mse_train': 0.0, 'ILC_corrscore_train': 1.0, 'NK_mse_train': 0.8783134, 'NK_corrscore_train': 0.4050342624559417, 'CD4+ T activated_mse_train': 0.8060037, 'CD4+ T activated_corrscore_train': 0.4444238361399174, 'B1 B_mse_train': 0.0, 'B1 B_corrscore_train': 1.0, 'CD16+ Mono_mse_train': 0.0, 'CD16+ Mono_corrscore_train': 1.0, 'CD8+ T_mse_train': 0.84312934, 'CD8+ T_corrscore_train': 0.4405937488003115, 'cDC2_mse_train': 0.0, 'cDC2_corrscore_train': 1.0, 'Naive CD20+ B_mse_train': 1.5960864, 'Naive CD20+ B_corrscore_train': 0.4125769125005775, 'Erythroblast_mse_train': 0.0, 'Erythroblast_corrscore_train': 1.0, 'CD4+ T naive_mse_train': 0.8166797, 'CD4+ T naive_corrscore_train': 0.48726882834929697, 'Transitional B_mse_train': 0.0, 'Transitional B_corrscore_train': 1.0, 'CD8+ T naive_mse_train': 0.0, 'CD8+ T naive_corrscore_train': 1.0, 'Proerythroblast_mse_train': 0.0, 'Proerythroblast_corrscore_train': 1.0, 'pDC_mse_train': 0.0, 'pDC_corrscore_train': 1.0, 'HSC_mse_train': 0.0, 'HSC_corrscore_train': 1.0, 'Plasma cell_mse_train': 0.0, 'Plasma cell_corrscore_train': 1.0, 'Lymph prog_mse_train': 0.0, 'Lymph prog_corrscore_train': 1.0, 'G/M prog_mse_train': 0.0, 'G/M prog_corrscore_train': 1.0, 'Normoblast_mse_train': 0.0, 'Normoblast_corrscore_train': 1.0, 'MK/E prog_mse_train': 0.0, 'MK/E prog_corrscore_train': 1.0, 'ID2-hi myeloid prog_mse_train': 0.0, 'ID2-hi myeloid prog_corrscore_train': 1.0, 'mse_val': 1.0824388, 'corrscore_val': 0.3963688569475619, 'CD14+ Mono_mse_val': 0.9206606, 'CD14+ Mono_corrscore_val': 0.3809794720654022, 'ILC_mse_val': 0.0, 'ILC_corrscore_val': 1.0, 'NK_mse_val': 0.0, 'NK_corrscore_val': 1.0, 'CD4+ T activated_mse_val': 0.0, 'CD4+ T activated_corrscore_val': 1.0, 'B1 B_mse_val': 0.0, 'B1 B_corrscore_val': 1.0, 'CD16+ Mono_mse_val': 0.0, 'CD16+ Mono_corrscore_val': 1.0, 'CD8+ T_mse_val': 0.86223, 'CD8+ T_corrscore_val': 0.39160604523002723, 'cDC2_mse_val': 0.0, 'cDC2_corrscore_val': 1.0, 'Naive CD20+ B_mse_val': 1.4052937, 'Naive CD20+ B_corrscore_val': 0.39337377729083856, 'Erythroblast_mse_val': 0.0, 'Erythroblast_corrscore_val': 1.0, 'CD4+ T naive_mse_val': 0.0, 'CD4+ T naive_corrscore_val': 1.0, 'Transitional B_mse_val': 0.0, 'Transitional B_corrscore_val': 1.0, 'CD8+ T naive_mse_val': 0.0, 'CD8+ T naive_corrscore_val': 1.0, 'Proerythroblast_mse_val': 0.0, 'Proerythroblast_corrscore_val': 1.0, 'pDC_mse_val': 0.0, 'pDC_corrscore_val': 1.0, 'HSC_mse_val': 0.0, 'HSC_corrscore_val': 1.0, 'Plasma cell_mse_val': 0.0, 'Plasma cell_corrscore_val': 1.0, 'Lymph prog_mse_val': 0.0, 'Lymph prog_corrscore_val': 1.0, 'G/M prog_mse_val': 0.0, 'G/M prog_corrscore_val': 1.0, 'Normoblast_mse_val': 0.0, 'Normoblast_corrscore_val': 1.0, 'MK/E prog_mse_val': 0.0, 'MK/E prog_corrscore_val': 1.0, 'ID2-hi myeloid prog_mse_val': 0.0, 'ID2-hi myeloid prog_corrscore_val': 1.0} elapsed time =  41.065\n",
      "Average: mse_train                              0.991152\n",
      "corrscore_train                        0.437158\n",
      "mse_val                                1.031381\n",
      "corrscore_val                          0.406595\n",
      "CD14+ Mono_mse_train                   0.849042\n",
      "                                         ...   \n",
      "MK/E prog_corrscore_val                1.000000\n",
      "ID2-hi myeloid prog_mse_train          0.000000\n",
      "ID2-hi myeloid prog_corrscore_train    1.000000\n",
      "ID2-hi myeloid prog_mse_val            0.000000\n",
      "ID2-hi myeloid prog_corrscore_val      1.000000\n",
      "Length: 92, dtype: float64\n",
      "train model to predict with test data\n",
      "skip pre_post_process fit\n",
      "dataset size 376\n",
      "start to train\n",
      "epoch: 0 total time: 10.9, epoch time: 10.8, loss: 4.127 loss_corr:-0.362 loss_mse: 3.434 loss_res_mse: 1.394 loss_total_corr:-0.340 \n",
      "epoch: 1 total time: 22.6, epoch time: 11.5, loss: 4.099 loss_corr:-0.360 loss_mse: 3.444 loss_res_mse: 1.347 loss_total_corr:-0.332 \n",
      "epoch: 2 total time: 34.6, epoch time: 11.8, loss: 4.100 loss_corr:-0.356 loss_mse: 3.443 loss_res_mse: 1.339 loss_total_corr:-0.326 \n",
      "completed training\n",
      "model parameter summary:\n",
      "\ty_loc:\t\t\t4.4931e-02 +- 5.8218e-01. max=6.4754e+00 min=-9.1999e-01\n",
      "\ty_scale:\t\t\t1.5744e+00 +- 7.8716e-01. max=5.8316e+00 min=7.3455e-01\n",
      "\tinputs_decomposer_components:\t\t\t2.2313e-04 +- 3.2207e-02. max=2.2130e-01 min=-1.8980e-01\n",
      "\ttargets_decomposer_components:\t\t\t5.6130e-04 +- 4.5126e-02. max=8.0046e-01 min=-5.3411e-01\n",
      "\ttargets_global_median:\t\t\t-1.5644e-01 +- 2.1665e-01. max=3.7828e+00 min=-2.6853e-01\n",
      "\tgender_embedding:\t\t\t5.0331e-01 +- 2.8753e-01. max=9.9999e-01 min=7.5596e-04\n",
      "\tencoder.layers.0.fc.weight:\t\t\t-1.4962e-06 +- 1.2759e-02. max=2.2643e-02 min=-2.2669e-02\n",
      "\tencoder.layers.0.norm.weight:\t\t\t9.9998e-01 +- 2.0877e-04. max=1.0006e+00 min=9.9938e-01\n",
      "\tencoder.layers.0.norm.bias:\t\t\t1.9214e-07 +- 1.9981e-04. max=5.5452e-04 min=-5.5214e-04\n",
      "\tencoder.out_fc.weight:\t\t\t1.2611e-05 +- 1.2759e-02. max=2.2661e-02 min=-2.2636e-02\n",
      "\tencoder.out_fc.bias:\t\t\t-2.4491e-04 +- 1.2821e-02. max=2.2265e-02 min=-2.2259e-02\n",
      "\tdecoder.in_fc.weight:\t\t\t8.5830e-06 +- 1.2753e-02. max=2.2669e-02 min=-2.2651e-02\n",
      "\tdecoder.in_fc.bias:\t\t\t2.3843e-04 +- 1.2798e-02. max=2.2408e-02 min=-2.2276e-02\n",
      "\tdecoder.layers.0.fc.weight:\t\t\t-3.2799e-06 +- 1.2755e-02. max=2.2709e-02 min=-2.2721e-02\n",
      "\tdecoder.layers.0.norm.weight:\t\t\t9.9989e-01 +- 1.9693e-04. max=1.0005e+00 min=9.9942e-01\n",
      "\tdecoder.layers.0.norm.bias:\t\t\t2.9963e-06 +- 1.7333e-04. max=5.3365e-04 min=-6.0698e-04\n",
      "\tdecoder.layers.1.fc.weight:\t\t\t-3.1957e-06 +- 1.2755e-02. max=2.2685e-02 min=-2.2688e-02\n",
      "\tdecoder.layers.1.norm.weight:\t\t\t9.9988e-01 +- 1.9991e-04. max=1.0005e+00 min=9.9938e-01\n",
      "\tdecoder.layers.1.norm.bias:\t\t\t-1.1158e-06 +- 1.7931e-04. max=5.8792e-04 min=-6.0015e-04\n",
      "\tdecoder.layers.2.fc.weight:\t\t\t-4.1101e-06 +- 1.2755e-02. max=2.2672e-02 min=-2.2677e-02\n",
      "\tdecoder.layers.2.norm.weight:\t\t\t9.9985e-01 +- 1.9859e-04. max=1.0005e+00 min=9.9938e-01\n",
      "\tdecoder.layers.2.norm.bias:\t\t\t6.2535e-06 +- 1.7576e-04. max=5.0786e-04 min=-5.3085e-04\n",
      "\tdecoder.layers.3.fc.weight:\t\t\t4.2146e-06 +- 1.2756e-02. max=2.2686e-02 min=-2.2736e-02\n",
      "\tdecoder.layers.3.norm.weight:\t\t\t9.9979e-01 +- 1.9150e-04. max=1.0005e+00 min=9.9935e-01\n",
      "\tdecoder.layers.3.norm.bias:\t\t\t-4.5871e-07 +- 1.7614e-04. max=6.0123e-04 min=-4.9384e-04\n",
      "\tdecoder.layers.4.fc.weight:\t\t\t6.2973e-06 +- 1.2746e-02. max=2.2707e-02 min=-2.2655e-02\n",
      "\tdecoder.layers.4.norm.weight:\t\t\t9.9970e-01 +- 1.6171e-04. max=1.0004e+00 min=9.9935e-01\n",
      "\tdecoder.layers.4.norm.bias:\t\t\t1.0354e-05 +- 1.8899e-04. max=5.6815e-04 min=-5.3035e-04\n",
      "\tencoder_in_fc.weight:\t\t\t-2.9679e-05 +- 3.5582e-02. max=6.2232e-02 min=-6.2117e-02\n",
      "\tencoder_in_fc.bias:\t\t\t9.1294e-04 +- 3.5690e-02. max=6.1499e-02 min=-6.1720e-02\n",
      "\tdecoder_out_fcs.0.weight:\t\t\t-2.9175e-05 +- 1.2745e-02. max=2.2720e-02 min=-2.2661e-02\n",
      "\tdecoder_out_fcs.0.bias:\t\t\t1.2138e-04 +- 1.3419e-02. max=2.1845e-02 min=-2.1581e-02\n",
      "\tdecoder_out_fcs.1.weight:\t\t\t-5.5996e-05 +- 1.2744e-02. max=2.2685e-02 min=-2.2614e-02\n",
      "\tdecoder_out_fcs.1.bias:\t\t\t9.8502e-04 +- 1.1826e-02. max=2.2360e-02 min=-2.1761e-02\n",
      "\tdecoder_out_fcs.2.weight:\t\t\t1.9155e-05 +- 1.2714e-02. max=2.2615e-02 min=-2.2584e-02\n",
      "\tdecoder_out_fcs.2.bias:\t\t\t-1.8173e-03 +- 1.2999e-02. max=2.1628e-02 min=-2.1574e-02\n",
      "\tdecoder_out_fcs.3.weight:\t\t\t1.4877e-05 +- 1.2702e-02. max=2.2533e-02 min=-2.2578e-02\n",
      "\tdecoder_out_fcs.3.bias:\t\t\t-7.9085e-04 +- 1.2684e-02. max=2.1079e-02 min=-2.2130e-02\n",
      "\tdecoder_out_fcs.4.weight:\t\t\t-1.1290e-05 +- 1.2743e-02. max=2.2578e-02 min=-2.2618e-02\n",
      "\tdecoder_out_fcs.4.bias:\t\t\t8.0785e-04 +- 1.2168e-02. max=2.1008e-02 min=-2.1818e-02\n",
      "\tdecoder_out_fcs.5.weight:\t\t\t3.5174e-05 +- 1.2720e-02. max=2.2594e-02 min=-2.2575e-02\n",
      "\tdecoder_out_fcs.5.bias:\t\t\t2.9299e-04 +- 1.2075e-02. max=2.1644e-02 min=-2.1619e-02\n",
      "\tdecoder_out_res_fcs.0.weight:\t\t\t-1.5122e-06 +- 1.2757e-02. max=2.2782e-02 min=-2.2777e-02\n",
      "\tdecoder_out_res_fcs.0.bias:\t\t\t8.3195e-04 +- 1.2260e-02. max=2.1994e-02 min=-2.2385e-02\n",
      "\tdecoder_out_res_fcs.1.weight:\t\t\t-1.3726e-05 +- 1.2724e-02. max=2.2724e-02 min=-2.2731e-02\n",
      "\tdecoder_out_res_fcs.1.bias:\t\t\t4.9215e-04 +- 1.2923e-02. max=2.2436e-02 min=-2.1955e-02\n",
      "\tdecoder_out_res_fcs.2.weight:\t\t\t-1.5479e-05 +- 1.2722e-02. max=2.2725e-02 min=-2.2711e-02\n",
      "\tdecoder_out_res_fcs.2.bias:\t\t\t-2.2877e-04 +- 1.2486e-02. max=2.2442e-02 min=-2.2279e-02\n",
      "\tdecoder_out_res_fcs.3.weight:\t\t\t-2.2896e-06 +- 1.2720e-02. max=2.2698e-02 min=-2.2729e-02\n",
      "\tdecoder_out_res_fcs.3.bias:\t\t\t-1.6681e-04 +- 1.2647e-02. max=2.2568e-02 min=-2.2538e-02\n",
      "\tdecoder_out_res_fcs.4.weight:\t\t\t-1.2656e-06 +- 1.2717e-02. max=2.2753e-02 min=-2.2675e-02\n",
      "\tdecoder_out_res_fcs.4.bias:\t\t\t-7.0395e-04 +- 1.2722e-02. max=2.2135e-02 min=-2.2174e-02\n",
      "\tdecoder_out_res_fcs.5.weight:\t\t\t1.4048e-06 +- 1.2709e-02. max=2.2701e-02 min=-2.2649e-02\n",
      "\tdecoder_out_res_fcs.5.bias:\t\t\t7.7533e-04 +- 1.2806e-02. max=2.2156e-02 min=-2.2415e-02\n",
      "elapsed time =  44.145\n",
      "pridict with test data\n",
      "elapsed time =  0.410\n",
      "dump preprocess and model\n",
      "save results\n",
      "completed !\n"
     ]
    }
   ],
   "source": [
    "%%bash\n",
    "\n",
    "export DATA_DIR=/Users/vladimir.shitov/Documents/programming/OpenProblems2022Analysis/data/\n",
    "\n",
    "cd rank1/open-problems-multimodal/\n",
    "python3 script/make_compressed_dataset.py --data_dir ${DATA_DIR}\n",
    "python3 script/make_additional_files.py --data_dir ${DATA_DIR}\n",
    "python3 script/make_compressed_dataset.py --data_dir ${DATA_DIR}\n",
    "python3 script/train_model.py --data_dir ${DATA_DIR} --task_type multi "
   ]
  },
  {
   "cell_type": "markdown",
   "metadata": {},
   "source": [
    "The results are saved as pickled numpy array. Let's read them and calculate a correlation score to ground truth. We can import a function to compute the metric directly from competitor's code:"
   ]
  },
  {
   "cell_type": "code",
   "execution_count": 25,
   "metadata": {},
   "outputs": [],
   "source": [
    "import sys\n",
    "sys.path.append(\"rank1/open-problems-multimodal\")\n",
    "\n",
    "from ss_opm.metric.correlation_score import correlation_score"
   ]
  },
  {
   "cell_type": "code",
   "execution_count": 26,
   "metadata": {},
   "outputs": [],
   "source": [
    "import pickle\n",
    "\n",
    "with open(\"rank1/open-problems-multimodal/result/multimodal_pred.pickle\", \"rb\") as f:\n",
    "    y_pred = pickle.load(f)"
   ]
  },
  {
   "cell_type": "code",
   "execution_count": 27,
   "metadata": {},
   "outputs": [
    {
     "data": {
      "text/plain": [
       "(123, 491)"
      ]
     },
     "execution_count": 27,
     "metadata": {},
     "output_type": "execute_result"
    }
   ],
   "source": [
    "y_pred.shape"
   ]
  },
  {
   "cell_type": "code",
   "execution_count": 28,
   "metadata": {},
   "outputs": [
    {
     "data": {
      "text/plain": [
       "array([[ 0.1396377 , -0.40570018,  2.36897   , ..., -0.5240119 ,\n",
       "        -0.24955416, -0.23399031],\n",
       "       [ 0.34854636, -0.43715882,  2.7376328 , ..., -0.46387258,\n",
       "        -0.51144576,  0.36972368],\n",
       "       [ 0.32831118, -0.50022084,  2.745265  , ..., -0.53843397,\n",
       "        -0.413774  ,  0.25159332],\n",
       "       ...,\n",
       "       [ 0.08649594, -0.5026955 ,  2.5488021 , ..., -0.40476736,\n",
       "        -0.3691034 ,  0.6495405 ],\n",
       "       [ 0.17613435, -0.5445092 ,  2.459973  , ..., -0.53740096,\n",
       "        -0.46087798,  0.42784047],\n",
       "       [-0.06657705, -0.5384305 ,  2.7005804 , ..., -0.5858595 ,\n",
       "        -0.36725417,  0.16582374]], dtype=float32)"
      ]
     },
     "execution_count": 28,
     "metadata": {},
     "output_type": "execute_result"
    }
   ],
   "source": [
    "y_pred"
   ]
  },
  {
   "cell_type": "code",
   "execution_count": 29,
   "metadata": {},
   "outputs": [
    {
     "data": {
      "text/plain": [
       "0.3452738604287309"
      ]
     },
     "execution_count": 29,
     "metadata": {},
     "output_type": "execute_result"
    }
   ],
   "source": [
    "y_true = adata_rna[adata_rna.obs[\"split\"] == \"test\"].X\n",
    "correlation_score(y_true, y_pred)"
   ]
  }
 ],
 "metadata": {
  "kernelspec": {
   "display_name": "2022_12_kaggle_ablation_study",
   "language": "python",
   "name": "python3"
  },
  "language_info": {
   "codemirror_mode": {
    "name": "ipython",
    "version": 3
   },
   "file_extension": ".py",
   "mimetype": "text/x-python",
   "name": "python",
   "nbconvert_exporter": "python",
   "pygments_lexer": "ipython3",
   "version": "3.8.20"
  }
 },
 "nbformat": 4,
 "nbformat_minor": 2
}
